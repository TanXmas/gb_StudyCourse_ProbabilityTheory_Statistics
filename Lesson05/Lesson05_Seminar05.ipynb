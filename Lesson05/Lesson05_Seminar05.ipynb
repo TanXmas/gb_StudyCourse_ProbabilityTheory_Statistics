{
 "cells": [
  {
   "cell_type": "markdown",
   "id": "5d01bb9f",
   "metadata": {},
   "source": [
    "# Урок 5. Тестирование гипотез"
   ]
  },
  {
   "cell_type": "code",
   "execution_count": 1,
   "id": "b2687104",
   "metadata": {},
   "outputs": [],
   "source": [
    "import numpy as np\n",
    "import scipy.stats as stats"
   ]
  },
  {
   "cell_type": "markdown",
   "id": "a8cb9413",
   "metadata": {},
   "source": [
    "***\n",
    "## Задание 1.\n",
    "\n",
    "### Ниже приведены диаметры коронарных артерий после приема нифедипина и плацебо. Позволяют ли приводимые ниже данные утверждать, что нифедипин влияет на диаметр коронарных артерий?\n",
    "\n",
    "$H_0: \\bar{X} = \\bar{Y}$\n",
    "\n",
    "$H_1: \\bar{X} \\not= \\bar{Y}$ – двусторонняя критическая область\n",
    "\n",
    "$\\displaystyle T = \\frac{\\bar{x}-\\bar{y}}{\\displaystyle \\sqrt{\\frac{\\sigma_x^2}{n}+\\frac{\\sigma_y^2}{m}}}$\n",
    "\n",
    "Двусторонняя критическая область. Если $|t_н| < t_к$, то гипотеза $H_0$ принимается, в противном случае – отвергается."
   ]
  },
  {
   "cell_type": "code",
   "execution_count": 2,
   "id": "56bfefb8",
   "metadata": {},
   "outputs": [],
   "source": [
    "X = np.array([2.5, 2.2, 2.6, 2.0, 2.1, 1.8, 2.4, 2.3, 2.7, 2.7, 1.9])\n",
    "Y = np.array([2.5, 1.7, 1.5, 2.5, 1.4, 1.9, 2.3, 2.0, 2.6, 2.3, 2.2])"
   ]
  },
  {
   "cell_type": "code",
   "execution_count": 3,
   "id": "2dab2a3f",
   "metadata": {},
   "outputs": [
    {
     "name": "stdout",
     "output_type": "stream",
     "text": [
      "Tn = 1.33\n",
      "Tk = 2.086\n",
      "H0: M(X) = M(Y)\n"
     ]
    }
   ],
   "source": [
    "alpha = 0.05\n",
    "n, m = X.shape[0], Y.shape[0]\n",
    "k = n + m - 2\n",
    "\n",
    "x, y = round(np.mean(X),2), round(np.mean(Y),2)\n",
    "#print(x, y)\n",
    "d_x, d_y = np.var(X, ddof=1), np.var(Y, ddof=1)\n",
    "#print(d_x, d_y)\n",
    "Tn = round((x - y)/np.sqrt(d_x/n + d_y/m),2)\n",
    "print(f'{Tn = }')\n",
    "\n",
    "# Two-Tailed Test\n",
    "Tk = round(stats.t.ppf(1 - alpha/2, k),3)\n",
    "print(f'{Tk = }')\n",
    "\n",
    "print(['H1: X <> Y','H0: M(X) = M(Y)'][int(abs(Tn)<Tk)])"
   ]
  },
  {
   "cell_type": "code",
   "execution_count": 7,
   "id": "5582c571",
   "metadata": {},
   "outputs": [
    {
     "data": {
      "text/plain": [
       "Ttest_indResult(statistic=1.3283484757831463, pvalue=0.19902265798859647)"
      ]
     },
     "execution_count": 7,
     "metadata": {},
     "output_type": "execute_result"
    }
   ],
   "source": [
    "stats.ttest_ind(X,Y)"
   ]
  },
  {
   "cell_type": "markdown",
   "id": "29110390",
   "metadata": {},
   "source": [
    "***\n",
    "## Задание 2.\n",
    "\n",
    "### Возьмем данные для группы людей, которые работали в накуренном помещении и для людей, выкуривающих небольшое число сигарет в день. Объемы выборок одинаковые - по 200 человек. Для людей, работающих в накуренном помещении средняя скорость средины выдоха составляет 2.72, std = 0.71, а выкуривающих небольшое число сигарет 2.63, std=0.73. Можно ли считать одинаковой максимальную объемную скорость середины выдоха в обеих группах?\n",
    "\n",
    "$H_0: \\bar{X} = \\bar{Y}$\n",
    "\n",
    "$H_1: \\bar{X} \\not= \\bar{Y}$ – двусторонняя критическая область\n",
    "\n",
    "$\\displaystyle T = \\frac{\\bar{x}-\\bar{y}}{\\displaystyle \\sqrt{\\frac{\\sigma_x^2}{n}+\\frac{\\sigma_y^2}{m}}}$\n",
    "\n",
    "$\\displaystyle \\Phi(t_к) = \\frac{1-\\alpha}{2}$ – для двусторонней области \\\n",
    "$\\alpha$ – выбранный уровень значимости \\\n",
    "$\\Phi(t)$ – функция Лапласа\n",
    "\n",
    "Двусторонняя критическая область. Если $|t_н| < t_к$, то гипотеза $H_0$ принимается, в противном случае – отвергается."
   ]
  },
  {
   "cell_type": "code",
   "execution_count": 9,
   "id": "5cdb912d",
   "metadata": {},
   "outputs": [
    {
     "name": "stdout",
     "output_type": "stream",
     "text": [
      "Phi(Tk) = 0.475\n",
      "Tk = 1.96\n",
      "Tn = 1.25\n",
      "H0: M(X) = M(Y)\n"
     ]
    }
   ],
   "source": [
    "n = 200\n",
    "x, s_x, y, s_y = 2.72, 0.71, 2.63, 0.73\n",
    "alpha = 0.05\n",
    "\n",
    "phi = (1-alpha)/2\n",
    "print(f'Phi(Tk) = {phi}')\n",
    "Tk = round(stats.norm.ppf(phi+0.5),3)\n",
    "print(f'{Tk = }')\n",
    "\n",
    "Tn = round((x - y)/np.sqrt((s_x**2 + s_y**2)/n),2)\n",
    "print(f'{Tn = }')\n",
    "\n",
    "print(['H1: X <> Y','H0: M(X) = M(Y)'][int(abs(Tn)<Tk)])"
   ]
  },
  {
   "cell_type": "markdown",
   "id": "4d3d99bc",
   "metadata": {},
   "source": [
    "***\n",
    "## Задание 3.\n",
    "\n",
    "### Утверждается, что средний рост мужчины национальности X 179.5 см. Была взята выборка из 100 человек, по которой получилось среднее арифметическое 178.5 см. Проверить это утверждение с помощью одностороннего теста, если известно, что стандартное отклонение генеральной совокупности 3 см. А уровень статистической значимости принят за 1%.\n",
    "\n",
    "$H_0: a = a_0$ \\\n",
    "$H_1: a < a_0$ - левосторонняя критическая область\n",
    "\n",
    "$\\displaystyle Z = \\frac{(\\bar{x}-a_0)\\sqrt{n}}{\\sigma}$\n",
    "\n",
    "$\\displaystyle \\Phi(z_к) = \\frac{1-2\\alpha}{2}$ – для односторонней области\n",
    "\n",
    "Для левосторонней критической области. Если $z_н > -z_к$, то гипотеза $H_0$ на уровне значимости $\\alpha$ принимается. Если $z_н < -z_к$, то отвергается."
   ]
  },
  {
   "cell_type": "code",
   "execution_count": 10,
   "id": "3de9e05d",
   "metadata": {},
   "outputs": [
    {
     "name": "stdout",
     "output_type": "stream",
     "text": [
      "Phi(Zk) = 0.49\n",
      "Zk = 2.326\n",
      "Zn = -3.333\n",
      "H1: a < a0\n"
     ]
    }
   ],
   "source": [
    "a0, n, a1, s, alpha = 179.5, 100, 178.5, 3, 0.01\n",
    "\n",
    "phi = (1-2*alpha)/2\n",
    "print(f'Phi(Zk) = {phi}')\n",
    "Zk = round(stats.norm.ppf(phi+0.5),3)\n",
    "print(f'{Zk = }')\n",
    "\n",
    "Zn = round(((a1-a0)*np.sqrt(n))/s,3)\n",
    "print(f'{Zn = }')\n",
    "\n",
    "print(['H1: a < a0','H0: a = a0'][int(Zn>-Zk)])"
   ]
  },
  {
   "cell_type": "code",
   "execution_count": null,
   "id": "f92f29dc",
   "metadata": {},
   "outputs": [],
   "source": []
  }
 ],
 "metadata": {
  "kernelspec": {
   "display_name": "Python 3 (ipykernel)",
   "language": "python",
   "name": "python3"
  },
  "language_info": {
   "codemirror_mode": {
    "name": "ipython",
    "version": 3
   },
   "file_extension": ".py",
   "mimetype": "text/x-python",
   "name": "python",
   "nbconvert_exporter": "python",
   "pygments_lexer": "ipython3",
   "version": "3.9.13"
  }
 },
 "nbformat": 4,
 "nbformat_minor": 5
}
