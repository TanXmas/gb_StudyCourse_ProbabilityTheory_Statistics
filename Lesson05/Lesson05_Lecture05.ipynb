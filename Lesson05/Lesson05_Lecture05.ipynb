{
 "cells": [
  {
   "cell_type": "markdown",
   "id": "03846e76",
   "metadata": {},
   "source": [
    "# Урок 5. Тестирование гипотез\n",
    "\n",
    "**Статистическая гипотеза** \\\n",
    "– это предположение о неизвестном распределении случайных величин, соответствующих каким-либо представлениям о том явлении, которое изучается."
   ]
  },
  {
   "cell_type": "markdown",
   "id": "08d105e0",
   "metadata": {},
   "source": [
    "***\n",
    "## Алгоритм для тестирования гипотез\n",
    "\n",
    "1. Формулирование нулевой $H_0$ и альтернативной гипотез $H_1$.\n",
    "2. Выбор уровня статистической значимости $\\alpha$.\n",
    "3. Выбор статистического критерия.\n",
    "4. Расчет наблюдаемого критерия.\n",
    "5. Сравнение табличного и наблюдаемого значения.\n",
    "6. Вывод."
   ]
  },
  {
   "cell_type": "markdown",
   "id": "390c4c5e",
   "metadata": {},
   "source": [
    "***\n",
    "### 1. Формулирование нулевой $H_0$ и альтернативной гипотез $H_1$\n",
    "\n",
    "**Нулевая гипотеза** $H_0$ \\\n",
    "– это утверждение о свойствах генеральной совокупности, которое кажется правдоподобным, но требует проверки.\n",
    "\n",
    "**Альтернативной гипотезой** $H_1$ \\\n",
    "является любая действительная гипотеза, отличная от нулевой.\n",
    "\n",
    "Новое утверждение всегда вкладывается в альтернативную гипотезу $H_1$. \\\n",
    "Пока не будет доказано, что нулевая гипотеза $H_0$ ложная, она считается истинной.\n",
    "\n",
    "#### Варианты альтернативной гипотезы\n",
    "\n",
    "$H_0: \\mu = \\mu_0$\n",
    "\n",
    "$H_1: \\mu > \\mu_0 \\\\\n",
    " H_1: \\mu < \\mu_0 \\\\\n",
    " H_1: \\mu \\not= \\mu_0$\n",
    " \n",
    "<img src=\"./img/image1.png\" alt=\"image1\" width=\"1000\"/>"
   ]
  },
  {
   "cell_type": "markdown",
   "id": "a9495239",
   "metadata": {},
   "source": [
    "***\n",
    "### 2. Выбор уровня статистической значимости $\\alpha$\n",
    "\n",
    "Выбор уровня статистической значимости $\\alpha$ делается на усмотрение того, кто проводит тест.\n",
    "\n",
    "Чаще всего для $\\alpha$ выбирают значения: \n",
    "* 0.01  (1%)\n",
    "* 0.05  (5%)\n",
    "* 0.1   (10%)"
   ]
  },
  {
   "cell_type": "markdown",
   "id": "29e1fd09",
   "metadata": {},
   "source": [
    "***\n",
    "### 3. Выбор статистического критерия\n",
    "\n",
    "Критерии делятся на **параметрические** и **непараметрические**.\n",
    "\n",
    "**Параметрические критерии** предполагают, что выборка взята из нормально распределенной генеральной совокупности, более того предполагают равенство дисперсий в группах. Если эти условия не выполняются то лучше воспользоваться **непараметрическим тестом**, основанным на сумме рангов.\n",
    "\n",
    "1. **Z-критерий**, если распределение:\n",
    "* нормальное\n",
    "* известна $\\sigma^2$ генеральной совокупности\n",
    "\n",
    "$z = \\cfrac{(\\bar{x}-\\mu)\\sqrt{n}}{\\sigma}$"
   ]
  },
  {
   "cell_type": "markdown",
   "id": "caa82920",
   "metadata": {},
   "source": [
    "2. **t-критерий** (критерий Стьюдента), если распределение:\n",
    "* нормальное\n",
    "* $\\sigma^2$ генеральной совокупности неизвестна\n",
    "* наблюдается равенство дисперсий в сравниваемых группах\n",
    "\n",
    "$t = \\cfrac{(\\bar{x}-\\mu)\\sqrt{n}}{S}$, где $S$ – стандартное несмещенное отклонение, рассчитанное по выборке."
   ]
  },
  {
   "cell_type": "markdown",
   "id": "878655b9",
   "metadata": {},
   "source": [
    "***\n",
    "### 4. Расчет наблюдаемого критерия\n",
    "\n",
    "#### Z-критерий (функция Лапласа)"
   ]
  },
  {
   "cell_type": "code",
   "execution_count": null,
   "id": "64d3e039",
   "metadata": {},
   "outputs": [],
   "source": [
    "import statsmodels.stats.weightstats as sw\n",
    "\n",
    "# z-тест на среднее значение, основанный на нормальном распределении, одной или двух выборках.\n",
    "# H0: M(X) = value\n",
    "sw.ztest(\n",
    "    x1,\n",
    "    x2=None,\n",
    "    value=0,\n",
    "    alternative='two-sided',\n",
    "    ddof=1.0\n",
    ")\n",
    "\n",
    "# H1: M(X) <> value\n",
    "sw.ztest(X, value=a)\n",
    "\n",
    "# H1: M(X) > value\n",
    "sw.ztest(X, value=a, alternative=\"smaller\")\n",
    "\n",
    "# H1: M(X) < value\n",
    "sw.ztest(X, value=a, alternative=\"larger\")\n",
    "\n",
    "# В случае двух выборок предполагается, что они являются независимыми.\n",
    "# H0: M(X)-M(Y) = value\n",
    "# H1: M(X)-M(Y) <> value\n",
    "sw.ztest(X, Y, value=0)"
   ]
  },
  {
   "cell_type": "code",
   "execution_count": null,
   "id": "3419b7a1",
   "metadata": {},
   "outputs": [],
   "source": [
    "import statsmodels.stats.weightstats as sw\n",
    "\n",
    "#z-тест на нулевую гипотезу об идентичных средних\n",
    "# H0: M(X) - M(Y) = value\n",
    "sw.CompareMeans.ztest_ind(\n",
    "    alternative='two-sided',\n",
    "    usevar='pooled', #стандартные отклонения выборок одинаковые\n",
    "    value=0\n",
    ")\n",
    "\n",
    "# H1: M(X) - M(Y) <> value\n",
    "sw.CompareMeans.ztest_ind(X, Y, value=a)\n",
    "\n",
    "# H1: M(X) - M(Y) > value\n",
    "sw.CompareMeans.ztest_ind(X, Y, value=a, alternative='larger')\n",
    "\n",
    "# H1: M(X) - M(Y) < value\n",
    "sw.CompareMeans.ztest_ind(X, Y, value=a, alternative='smaller')\n",
    "\n",
    "#стандартные отклонения выборок могут быть разными\n",
    "# H1: M(X) - M(Y) <> value\n",
    "sw.CompareMeans.ztest_ind(X, Y, value=a, usevar='unequal')"
   ]
  },
  {
   "cell_type": "markdown",
   "id": "3a1c1352",
   "metadata": {},
   "source": [
    "#### t-критерий (критерий Стьюдента)"
   ]
  },
  {
   "cell_type": "code",
   "execution_count": null,
   "id": "a576701a",
   "metadata": {},
   "outputs": [],
   "source": [
    "# H0: M(X) = a\n",
    "from scipy.stats import ttest_1samp\n",
    "\n",
    "ttest_1samp(X, a)"
   ]
  },
  {
   "cell_type": "code",
   "execution_count": null,
   "id": "d26eb2de",
   "metadata": {},
   "outputs": [],
   "source": [
    "# t-критенрий для независимых выборок\n",
    "from scipy.stats import ttest_ind\n",
    "\n",
    "# t-критерий с двумя выборками, который предполагает равные дисперсии генеральных совокупностей\n",
    "ttest_ind(X, Y, equal_var=True)\n",
    "\n",
    "# t-критерий Уэлча, который не предполагает равных дисперсий генеральных совокупностей\n",
    "ttest_ind(X, Y, equal_var=False)"
   ]
  },
  {
   "cell_type": "code",
   "execution_count": null,
   "id": "40cb79fb",
   "metadata": {},
   "outputs": [],
   "source": [
    "# t-критенрий для зависимых выборок\n",
    "from scipy.stats import ttest_rel\n",
    "\n",
    "# H0: M(X) <> M(Y) - по умолчанию\n",
    "ttest_rel(X, Y, alternative='two-sided')\n",
    "\n",
    "# H0: M(X) < M(Y)\n",
    "ttest_rel(X, Y, alternative='greater')\n",
    "\n",
    "# H0: M(X) > M(Y)\n",
    "ttest_rel(X, Y, alternative='less')"
   ]
  },
  {
   "cell_type": "markdown",
   "id": "e859d924",
   "metadata": {},
   "source": [
    "***\n",
    "### 5. Сравнение табличного и наблюдаемого значения\n",
    "\n",
    "#### Z-критерий (функция Лапласа)"
   ]
  },
  {
   "cell_type": "code",
   "execution_count": 1,
   "id": "e42dee71",
   "metadata": {},
   "outputs": [
    {
     "name": "stdout",
     "output_type": "stream",
     "text": [
      "phi = 0.3289\n",
      "t = 1.96\n",
      "t = 1.96\n"
     ]
    }
   ],
   "source": [
    "from scipy.stats import norm\n",
    "\n",
    "# Вычисление значения функции Лапласа по известному t\n",
    "t = 0.95\n",
    "phi = -0.5 + norm.cdf(t)\n",
    "print(f'{phi = :.4f}')\n",
    "\n",
    "# Нахождение t по известному значению функции Лапласа\n",
    "phi = 0.95 / 2\n",
    "t = norm.ppf(phi+0.5)\n",
    "print(f'{t = :.2f}')\n",
    "\n",
    "# или\n",
    "alpha = 0.05\n",
    "t = norm.ppf(1-alpha/2)\n",
    "print(f'{t = :.2f}')"
   ]
  },
  {
   "cell_type": "markdown",
   "id": "18de71a4",
   "metadata": {},
   "source": [
    "#### t-критерий (критерий Стьюдента)"
   ]
  },
  {
   "cell_type": "code",
   "execution_count": null,
   "id": "bc5458f0",
   "metadata": {},
   "outputs": [],
   "source": [
    "from scipy.stats import t\n",
    "\n",
    "# Чтобы получить значение Tk (критерий Стьюдента)\n",
    "alpha = 0.05\n",
    "k = 6\n",
    "\n",
    "# Right-Tailed Test\n",
    "scipy.stats.t.ppf(1 - alpha, k)\n",
    "\n",
    "# Left-Tailed Test\n",
    "scipy.stats.t.ppf(alpha, k)\n",
    "\n",
    "# Two-Tailed Test\n",
    "scipy.stats.t.ppf(1 - alpha/2, k)"
   ]
  },
  {
   "cell_type": "markdown",
   "id": "5c811e9d",
   "metadata": {},
   "source": [
    "***\n",
    "### 6. Вывод\n",
    "Если наблюдаемое < табличного, то принимает $H_0$. \\\n",
    "Если наблюдаемое > табличного, то принимает $H_1$."
   ]
  },
  {
   "cell_type": "markdown",
   "id": "05de0cd7",
   "metadata": {},
   "source": [
    "***\n",
    "## P- value\n",
    "\n",
    "**P-value** – вероятность, что значение критерия окажется не меньше критического, при условии справедливости $H_0$.\n",
    "\n",
    "<img src=\"./img/image2.png\" alt=\"image2\" width=\"550\"/>\n",
    "\n",
    "P-value на графике – это вероятность в распределение тест-статистика, которая лежит за пределами наблюдаемого значения.\n",
    "\n",
    "Р-value > α, мы принимаем $H_0$. \\\n",
    "Р-value < α, отвергаем нулевую гипотезу $H_0$."
   ]
  },
  {
   "cell_type": "markdown",
   "id": "20b9d794",
   "metadata": {},
   "source": [
    "***\n",
    "## Ошибки при тестировании гипотез\n",
    "\n",
    "**Ошибка I рода**: мы отвергаем $H_0$, когда она верна. \\\n",
    "Уровень значимости $\\alpha$ – вероятность ошибки I рода.\n",
    " \n",
    "**Ошибка II рода**: мы принимаем $H_0$,когда она неверна.\\\n",
    "$\\beta$ - вероятность ошибки II рода ($\\beta<0.2$).\n",
    "\n",
    "$(1-\\beta)$ – **мощность теста** – вероятность отклонить $H_0$, когда верна $H_1$.\n",
    "\n",
    "<img src=\"./img/image3.png\" alt=\"image3\" width=\"400\"/>"
   ]
  },
  {
   "cell_type": "markdown",
   "id": "c0f66dfa",
   "metadata": {},
   "source": [
    "***\n",
    "## Проверка на нормальность\n",
    "\n",
    "Мы сказали, что параметрические тесты надо использовать, когда у нас есть уверенность, что выборка взята из нормально распределенной совокупности ну или хотя бы приблизительно соблюдаются условия нормальности.\n",
    "\n",
    "Мы можем проверить нашу выборку на нормальность с помощью разных тестов на нормальность. Например, тест Шапиро- Уилка. Где нулевая гипотеза о том, что нет отличий от нормального распределения и альтернативная гипотеза, что  распределение отлично от нормального."
   ]
  },
  {
   "cell_type": "code",
   "execution_count": null,
   "id": "0b19cb83",
   "metadata": {},
   "outputs": [],
   "source": [
    "import scipy.stats as stats\n",
    "\n",
    "stats.shapiro(X)"
   ]
  },
  {
   "cell_type": "markdown",
   "id": "157e4043",
   "metadata": {},
   "source": [
    "Но проблема в том, что подобные тесты очень чувствительны к объему выборки. И если вы используете большие объемы выборок, то такой тест может показать вам очень маленькое значение p-value, что будет свидетельствовать об отклонениях от нормальности. Т.е. с увеличением выборок тест будет обнаруживать даже малейшие отклонения от нормальности. Поэтому, если Вы столкнулись с большими объемами выборок, лучше использовать графический метод оценки на нормальность QQ-плот.\n",
    "\n",
    "<img src=\"./img/image4.png\" alt=\"image4\" width=\"600\"/>\n",
    "\n",
    "Идея графика заключается в следующем: по оси х теоретические квантили, а по оси y упорядоченные значения. Теоретические квантили – это квантили нормального стандартного распределения (z-значения)."
   ]
  },
  {
   "cell_type": "code",
   "execution_count": null,
   "id": "20ffcc6f",
   "metadata": {},
   "outputs": [],
   "source": [
    "import scipy.stats as stats\n",
    "import matplotlib.pyplot as plt\n",
    "\n",
    "plt.figure(figsize = [6, 6])\n",
    "\n",
    "stats.probplot(X, dist=\"norm\", plot=plt)\n",
    "\n",
    "plt.title('QQ-plot / Квантиль-квантиль')  # Заголовок\n",
    "plt.xlabel('Квантили Z-распределения')  # Подпись по оси X\n",
    "plt.ylabel('Квантили фактического распределения')  # Подпись по оси Y\n",
    "plt.grid();"
   ]
  }
 ],
 "metadata": {
  "kernelspec": {
   "display_name": "Python 3 (ipykernel)",
   "language": "python",
   "name": "python3"
  },
  "language_info": {
   "codemirror_mode": {
    "name": "ipython",
    "version": 3
   },
   "file_extension": ".py",
   "mimetype": "text/x-python",
   "name": "python",
   "nbconvert_exporter": "python",
   "pygments_lexer": "ipython3",
   "version": "3.9.13"
  }
 },
 "nbformat": 4,
 "nbformat_minor": 5
}
