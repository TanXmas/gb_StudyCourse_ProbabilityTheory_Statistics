{
 "cells": [
  {
   "cell_type": "markdown",
   "id": "cbc15865",
   "metadata": {},
   "source": [
    "# Урок 6. Сравнение долей. Построение доверительного интервала"
   ]
  },
  {
   "cell_type": "code",
   "execution_count": 1,
   "id": "9df516f0",
   "metadata": {},
   "outputs": [],
   "source": [
    "import numpy as np\n",
    "import scipy.stats as stats"
   ]
  },
  {
   "cell_type": "markdown",
   "id": "28afdf7d",
   "metadata": {},
   "source": [
    "***\n",
    "## Задание 1.\n",
    "\n",
    "### Известно, что генеральная совокупность распределена нормально со средним квадратическим отклонением, равным 16. Найти доверительный интервал для оценки математического ожидания $a$ с надежностью 0.95, если выборочная средняя $M = 80$, а объем выборки $n = 256$.\n",
    "\n",
    "Поскольку нам известно среднее квадратическое отклонение генеральной совокупности $\\sigma = 16$, то для расчета 95%-го доверительного интервала, будем использовать Z-критерий. Границы доверительного интервала расчитаем по формуле: \\\n",
    "$\\bar{x} \\pm z_{\\frac{\\alpha}{2}} \\cdot \\cfrac{\\sigma}{\\sqrt{n}}$"
   ]
  },
  {
   "cell_type": "code",
   "execution_count": 2,
   "id": "439e1ea4",
   "metadata": {},
   "outputs": [
    {
     "data": {
      "text/plain": [
       "1.959963984540054"
      ]
     },
     "execution_count": 2,
     "metadata": {},
     "output_type": "execute_result"
    }
   ],
   "source": [
    "sd, Mx, N, gamma = 16, 80, 256, 0.95\n",
    "alpha = 1 - gamma\n",
    "\n",
    "z = stats.norm.ppf(1-alpha/2)\n",
    "z"
   ]
  },
  {
   "cell_type": "code",
   "execution_count": 3,
   "id": "24f11474",
   "metadata": {},
   "outputs": [
    {
     "data": {
      "text/plain": [
       "1.0"
      ]
     },
     "execution_count": 3,
     "metadata": {},
     "output_type": "execute_result"
    }
   ],
   "source": [
    "se = sd / np.sqrt(N)\n",
    "se"
   ]
  },
  {
   "cell_type": "code",
   "execution_count": 4,
   "id": "c833760d",
   "metadata": {},
   "outputs": [
    {
     "name": "stdout",
     "output_type": "stream",
     "text": [
      "78.04 < a < 81.96\n"
     ]
    }
   ],
   "source": [
    "print(f'{Mx-z*se:.2f} < a < {Mx+z*se:.2f}')"
   ]
  },
  {
   "cell_type": "markdown",
   "id": "879512c9",
   "metadata": {},
   "source": [
    "**Ответ**: С надежностью $0.95$ можно утверждать, что доверительный интервал $(78.04, 81.96)$ покрывает математическое ожидание $a$ генеральной совокупности."
   ]
  },
  {
   "cell_type": "markdown",
   "id": "c667b5e8",
   "metadata": {},
   "source": [
    "***\n",
    "## Задание 2.\n",
    "\n",
    "### В результате 10 независимых измерений некоторой величины X, выполненных с одинаковой точностью, получены опытные данные: 6.9, 6.1, 6.2, 6.8, 7.5, 6.3, 6.4, 6.9, 6.7, 6.1. Предполагая, что результаты измерений подчинены нормальному закону распределения вероятностей, оценить истинное значение величины X при помощи доверительного интервала, покрывающего это значение с доверительной вероятностью 0,95.\n",
    "\n",
    "Поскольку из условия задачи нам ничего не известно ни о мат. ожидании генеральной совокупности, ни о среднем квадратическом отклонении для генеральной совокупности, то для расчета 95%-го доверительного интервала будем использовать t-критерий, и формулу: \\\n",
    "$\\bar{x} \\pm t_{\\frac{\\alpha}{2}} \\cdot \\cfrac{S}{\\sqrt{n}}$"
   ]
  },
  {
   "cell_type": "code",
   "execution_count": 5,
   "id": "072a93d5",
   "metadata": {},
   "outputs": [
    {
     "data": {
      "text/plain": [
       "6.590000000000001"
      ]
     },
     "execution_count": 5,
     "metadata": {},
     "output_type": "execute_result"
    }
   ],
   "source": [
    "X = np.array([6.9, 6.1, 6.2, 6.8, 7.5, 6.3, 6.4, 6.9, 6.7, 6.1])\n",
    "n, gamma = 10, 0.95\n",
    "\n",
    "Mx = np.mean(X)\n",
    "Mx"
   ]
  },
  {
   "cell_type": "code",
   "execution_count": 6,
   "id": "b6c8c717",
   "metadata": {},
   "outputs": [
    {
     "data": {
      "text/plain": [
       "0.2032222222222223"
      ]
     },
     "execution_count": 6,
     "metadata": {},
     "output_type": "execute_result"
    }
   ],
   "source": [
    "D = np.var(X, ddof=1)\n",
    "D"
   ]
  },
  {
   "cell_type": "code",
   "execution_count": 7,
   "id": "0845a2af",
   "metadata": {},
   "outputs": [
    {
     "data": {
      "text/plain": [
       "0.14255603186895402"
      ]
     },
     "execution_count": 7,
     "metadata": {},
     "output_type": "execute_result"
    }
   ],
   "source": [
    "se = np.sqrt(D/n)\n",
    "se"
   ]
  },
  {
   "cell_type": "code",
   "execution_count": 8,
   "id": "935acaa7",
   "metadata": {},
   "outputs": [
    {
     "data": {
      "text/plain": [
       "2.2621571627409915"
      ]
     },
     "execution_count": 8,
     "metadata": {},
     "output_type": "execute_result"
    }
   ],
   "source": [
    "alpha = 1 - gamma\n",
    "#t = abs(stats.t.ppf((1-gamma)/2, n-1))\n",
    "t = stats.t.ppf(1 - alpha/2, n-1)\n",
    "t"
   ]
  },
  {
   "cell_type": "code",
   "execution_count": 9,
   "id": "78b5d557",
   "metadata": {},
   "outputs": [
    {
     "name": "stdout",
     "output_type": "stream",
     "text": [
      "6.27 < X < 6.91\n"
     ]
    }
   ],
   "source": [
    "print(f'{Mx-t*se:.2f} < X < {Mx+t*se:.2f}')"
   ]
  },
  {
   "cell_type": "markdown",
   "id": "13d97271",
   "metadata": {},
   "source": [
    "**Ответ**: С надежностью $0.95$ можно утверждать, что доверительный интервал $(6.27, 6.91)$ покрывает истинное значение величины $X$."
   ]
  },
  {
   "cell_type": "markdown",
   "id": "7d1d9deb",
   "metadata": {},
   "source": [
    "***\n",
    "## Задание 3.\n",
    "\n",
    "### Рост дочерей 175, 167, 154, 174, 178, 148, 160, 167, 169, 170. Рост матерей  178, 165, 165, 173, 168, 155, 160, 164, 178, 175. Используя эти данные построить 95% доверительный интервал для разности среднего роста родителей и детей.\n",
    "\n",
    "$\\Delta \\pm t_{\\frac{\\alpha}{2}} \\cdot \\cfrac{S_{\\Delta}}{\\sqrt{n}}$, где $\\Delta = \\bar{X_1} - \\bar{X_2}$\n",
    "\n",
    "$D = \\cfrac{D_1+D_2}{2}$\n",
    "\n",
    "$S_{\\Delta} = \\sqrt{\\cfrac{D}{n_1}+\\cfrac{D}{n_2}}$\n",
    "\n",
    "$df = n_1 + n_2 - 2$"
   ]
  },
  {
   "cell_type": "code",
   "execution_count": null,
   "id": "5a122413",
   "metadata": {},
   "outputs": [],
   "source": [
    "X = np.array([178, 165, 165, 173, 168, 155, 160, 164, 178, 175])\n",
    "Y = np.array([175, 167, 154, 174, 178, 148, 160, 167, 169, 170])\n",
    "gamma = 0.95"
   ]
  },
  {
   "cell_type": "code",
   "execution_count": 12,
   "id": "73741787",
   "metadata": {},
   "outputs": [
    {
     "data": {
      "text/plain": [
       "1.9000000000000057"
      ]
     },
     "execution_count": 12,
     "metadata": {},
     "output_type": "execute_result"
    }
   ],
   "source": [
    "n1, n2 = X.shape[0], Y.shape[0]\n",
    "d = np.mean(X) - np.mean(Y)\n",
    "d"
   ]
  },
  {
   "cell_type": "code",
   "execution_count": 13,
   "id": "8f3092de",
   "metadata": {},
   "outputs": [
    {
     "data": {
      "text/plain": [
       "75.58333333333334"
      ]
     },
     "execution_count": 13,
     "metadata": {},
     "output_type": "execute_result"
    }
   ],
   "source": [
    "D = (np.var(X, ddof=1) + np.var(Y, ddof=1)) / 2\n",
    "D"
   ]
  },
  {
   "cell_type": "code",
   "execution_count": 14,
   "id": "73035c87",
   "metadata": {},
   "outputs": [
    {
     "data": {
      "text/plain": [
       "3.8880157750022915"
      ]
     },
     "execution_count": 14,
     "metadata": {},
     "output_type": "execute_result"
    }
   ],
   "source": [
    "Sd = np.sqrt(D/n1 + D/n2)\n",
    "Sd"
   ]
  },
  {
   "cell_type": "code",
   "execution_count": 15,
   "id": "30229521",
   "metadata": {},
   "outputs": [
    {
     "data": {
      "text/plain": [
       "2.10092204024096"
      ]
     },
     "execution_count": 15,
     "metadata": {},
     "output_type": "execute_result"
    }
   ],
   "source": [
    "alpha = 1 - gamma\n",
    "t = stats.t.ppf(1 - alpha/2, n1+n2-2)\n",
    "t"
   ]
  },
  {
   "cell_type": "code",
   "execution_count": 16,
   "id": "4dd9e74e",
   "metadata": {},
   "outputs": [
    {
     "name": "stdout",
     "output_type": "stream",
     "text": [
      "-6.27 < M(X)-M(Y) < 10.07\n"
     ]
    }
   ],
   "source": [
    "print(f'{d-t*Sd:.2f} < M(X)-M(Y) < {d+t*Sd:.2f}')"
   ]
  },
  {
   "cell_type": "markdown",
   "id": "4bc979ba",
   "metadata": {},
   "source": [
    "**Ответ**: С надежностью $0.95$ можно утверждать, что доверительный интервал $(-6.27, 10.07)$ покрывает математическое ожидание разности среднего роста матерей и детей."
   ]
  },
  {
   "cell_type": "code",
   "execution_count": null,
   "id": "6bd14115",
   "metadata": {},
   "outputs": [],
   "source": []
  }
 ],
 "metadata": {
  "kernelspec": {
   "display_name": "Python 3 (ipykernel)",
   "language": "python",
   "name": "python3"
  },
  "language_info": {
   "codemirror_mode": {
    "name": "ipython",
    "version": 3
   },
   "file_extension": ".py",
   "mimetype": "text/x-python",
   "name": "python",
   "nbconvert_exporter": "python",
   "pygments_lexer": "ipython3",
   "version": "3.9.13"
  }
 },
 "nbformat": 4,
 "nbformat_minor": 5
}
