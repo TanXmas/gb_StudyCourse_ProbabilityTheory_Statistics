{
 "cells": [
  {
   "cell_type": "markdown",
   "id": "61955a9c",
   "metadata": {},
   "source": [
    "# Урок 6. Сравнение долей. Построение доверительного интервала"
   ]
  },
  {
   "cell_type": "code",
   "execution_count": 1,
   "id": "628e7777",
   "metadata": {},
   "outputs": [],
   "source": [
    "from math import factorial\n",
    "\n",
    "import numpy as np\n",
    "import pandas as pd\n",
    "\n",
    "import scipy.stats as stats"
   ]
  },
  {
   "cell_type": "markdown",
   "id": "72036f5c",
   "metadata": {},
   "source": [
    "***\n",
    "## Задание 1.\n",
    "\n",
    "### На препарате А положительный результат лечения наблюдается у 17 из 32 пациентов, а на препарате В у 9 из 22. Построить 95% доверительный интервал для разности долей. Обнаружены ли статистически значимые различия?\n",
    "\n",
    "$H_0: p_1 = p_2$ \\\n",
    "$H_1: p_1 > p_2$ - правосторонняя критическая область"
   ]
  },
  {
   "cell_type": "code",
   "execution_count": 2,
   "id": "32446ee4",
   "metadata": {},
   "outputs": [
    {
     "name": "stdout",
     "output_type": "stream",
     "text": [
      "p1 = 0.53, p2 = 0.41\n",
      "p = 0.48\n",
      "Zk = 1.96\n",
      "-0.15 < 0.12 < 0.39\n"
     ]
    }
   ],
   "source": [
    "n1, m1, n2, m2, gamma = 32, 17, 22, 9, 0.95\n",
    "alpha = 1 - gamma\n",
    "\n",
    "p1, p2 = m1/n1, m2/n2\n",
    "print(f'{p1 = :.2f}, {p2 = :.2f}')\n",
    "\n",
    "p = (m1+m2)/(n1+n2)\n",
    "print(f'{p = :.2f}')\n",
    "\n",
    "Sd = np.sqrt(p*(1-p)*(1/n1+1/n2))\n",
    "\n",
    "Zk = stats.norm.ppf(1-alpha/2)\n",
    "print(f'{Zk = :.2f}')\n",
    "\n",
    "delta = p1-p2\n",
    "print(f'{delta-Zk*Sd:.2f} < {delta:.2f} < {delta+Zk*Sd:.2f}')"
   ]
  },
  {
   "cell_type": "markdown",
   "id": "f96ac515",
   "metadata": {},
   "source": [
    "Т.к. интервал захватывает 0, то статистически значимых различий не обнаружено. Т.е. препараты имеют одинаковую эффективность."
   ]
  },
  {
   "cell_type": "code",
   "execution_count": 3,
   "id": "d7ec36bd",
   "metadata": {},
   "outputs": [
    {
     "name": "stdout",
     "output_type": "stream",
     "text": [
      "Zk = 1.96\n",
      "Zn = 0.88\n",
      "H0: p1 = p2 is True\n"
     ]
    }
   ],
   "source": [
    "n1, m1, n2, m2, gamma = 32, 17, 22, 9, 0.95\n",
    "alpha = 1 - gamma\n",
    "\n",
    "Zk = stats.norm.ppf(1-alpha/2)\n",
    "print(f'{Zk = :.2f}')\n",
    "\n",
    "Zn = (m1/n1-m2/n2)/np.sqrt((m1+m2)/(n1+n2) * (1 - (m1+m2)/(n1+n2)) * (1/n1+1/n2)) \n",
    "print(f'{Zn = :.2f}')\n",
    "\n",
    "print(f'H0: p1 = p2 is {Zn<Zk}')"
   ]
  },
  {
   "cell_type": "markdown",
   "id": "8aa0e70b",
   "metadata": {},
   "source": [
    "***\n",
    "## Задание 2.\n",
    "\n",
    "### Было проведено исследование научных статей на количество авторов в разные годы. Построить 90% и 95% интервалы.\n",
    "\n",
    "| Год | Число статей | Среднее число авторов | Стандартное отклонение |\n",
    "|-----|-----|-----|-----|\n",
    "| 1946 | 151 | 2 | 1.4 |\n",
    "| 1956 | 149 | 2.3 | 1.6 |\n",
    "| 1966 | 157 | 2.8 | 1.2 |\n",
    "| 1976 | 155 | 4.9 | 7.3 |"
   ]
  },
  {
   "cell_type": "code",
   "execution_count": 4,
   "id": "67949607",
   "metadata": {},
   "outputs": [
    {
     "data": {
      "text/html": [
       "<div>\n",
       "<style scoped>\n",
       "    .dataframe tbody tr th:only-of-type {\n",
       "        vertical-align: middle;\n",
       "    }\n",
       "\n",
       "    .dataframe tbody tr th {\n",
       "        vertical-align: top;\n",
       "    }\n",
       "\n",
       "    .dataframe thead th {\n",
       "        text-align: right;\n",
       "    }\n",
       "</style>\n",
       "<table border=\"1\" class=\"dataframe\">\n",
       "  <thead>\n",
       "    <tr style=\"text-align: right;\">\n",
       "      <th></th>\n",
       "      <th>god</th>\n",
       "      <th>N</th>\n",
       "      <th>Mx</th>\n",
       "      <th>SD</th>\n",
       "    </tr>\n",
       "  </thead>\n",
       "  <tbody>\n",
       "    <tr>\n",
       "      <th>0</th>\n",
       "      <td>1946</td>\n",
       "      <td>151</td>\n",
       "      <td>2.0</td>\n",
       "      <td>1.4</td>\n",
       "    </tr>\n",
       "    <tr>\n",
       "      <th>1</th>\n",
       "      <td>1956</td>\n",
       "      <td>149</td>\n",
       "      <td>2.3</td>\n",
       "      <td>1.6</td>\n",
       "    </tr>\n",
       "    <tr>\n",
       "      <th>2</th>\n",
       "      <td>1966</td>\n",
       "      <td>157</td>\n",
       "      <td>2.8</td>\n",
       "      <td>1.2</td>\n",
       "    </tr>\n",
       "    <tr>\n",
       "      <th>3</th>\n",
       "      <td>1976</td>\n",
       "      <td>155</td>\n",
       "      <td>4.9</td>\n",
       "      <td>7.3</td>\n",
       "    </tr>\n",
       "  </tbody>\n",
       "</table>\n",
       "</div>"
      ],
      "text/plain": [
       "    god    N   Mx   SD\n",
       "0  1946  151  2.0  1.4\n",
       "1  1956  149  2.3  1.6\n",
       "2  1966  157  2.8  1.2\n",
       "3  1976  155  4.9  7.3"
      ]
     },
     "execution_count": 4,
     "metadata": {},
     "output_type": "execute_result"
    }
   ],
   "source": [
    "df = pd.DataFrame({'god': [1946, 1956, 1966, 1976],\n",
    "                   'N': [151, 149, 157, 155],\n",
    "                   'Mx': [2, 2.3, 2.8, 4.9],\n",
    "                   'SD': [1.4, 1.6, 1.2, 7.3]})\n",
    "df"
   ]
  },
  {
   "cell_type": "code",
   "execution_count": 5,
   "id": "12680cbd",
   "metadata": {},
   "outputs": [],
   "source": [
    "def get_interval(row):\n",
    "    l = round(row[2] - z * row[3] / np.sqrt(row[1]),2)\n",
    "    r = round(row[2] + z * row[3] / np.sqrt(row[1]),2)\n",
    "    return pd.Interval(left=l, right=r)"
   ]
  },
  {
   "cell_type": "code",
   "execution_count": 6,
   "id": "b73f9e12",
   "metadata": {},
   "outputs": [
    {
     "data": {
      "text/plain": [
       "1.6448536269514722"
      ]
     },
     "execution_count": 6,
     "metadata": {},
     "output_type": "execute_result"
    }
   ],
   "source": [
    "alpha = 0.1\n",
    "z = stats.norm.ppf(1-alpha/2)\n",
    "z"
   ]
  },
  {
   "cell_type": "code",
   "execution_count": 7,
   "id": "af4fc7d2",
   "metadata": {},
   "outputs": [
    {
     "data": {
      "text/html": [
       "<div>\n",
       "<style scoped>\n",
       "    .dataframe tbody tr th:only-of-type {\n",
       "        vertical-align: middle;\n",
       "    }\n",
       "\n",
       "    .dataframe tbody tr th {\n",
       "        vertical-align: top;\n",
       "    }\n",
       "\n",
       "    .dataframe thead th {\n",
       "        text-align: right;\n",
       "    }\n",
       "</style>\n",
       "<table border=\"1\" class=\"dataframe\">\n",
       "  <thead>\n",
       "    <tr style=\"text-align: right;\">\n",
       "      <th></th>\n",
       "      <th>god</th>\n",
       "      <th>N</th>\n",
       "      <th>Mx</th>\n",
       "      <th>SD</th>\n",
       "      <th>int_90</th>\n",
       "    </tr>\n",
       "  </thead>\n",
       "  <tbody>\n",
       "    <tr>\n",
       "      <th>0</th>\n",
       "      <td>1946</td>\n",
       "      <td>151</td>\n",
       "      <td>2.0</td>\n",
       "      <td>1.4</td>\n",
       "      <td>(1.81, 2.19]</td>\n",
       "    </tr>\n",
       "    <tr>\n",
       "      <th>1</th>\n",
       "      <td>1956</td>\n",
       "      <td>149</td>\n",
       "      <td>2.3</td>\n",
       "      <td>1.6</td>\n",
       "      <td>(2.08, 2.52]</td>\n",
       "    </tr>\n",
       "    <tr>\n",
       "      <th>2</th>\n",
       "      <td>1966</td>\n",
       "      <td>157</td>\n",
       "      <td>2.8</td>\n",
       "      <td>1.2</td>\n",
       "      <td>(2.64, 2.96]</td>\n",
       "    </tr>\n",
       "    <tr>\n",
       "      <th>3</th>\n",
       "      <td>1976</td>\n",
       "      <td>155</td>\n",
       "      <td>4.9</td>\n",
       "      <td>7.3</td>\n",
       "      <td>(3.94, 5.86]</td>\n",
       "    </tr>\n",
       "  </tbody>\n",
       "</table>\n",
       "</div>"
      ],
      "text/plain": [
       "    god    N   Mx   SD        int_90\n",
       "0  1946  151  2.0  1.4  (1.81, 2.19]\n",
       "1  1956  149  2.3  1.6  (2.08, 2.52]\n",
       "2  1966  157  2.8  1.2  (2.64, 2.96]\n",
       "3  1976  155  4.9  7.3  (3.94, 5.86]"
      ]
     },
     "execution_count": 7,
     "metadata": {},
     "output_type": "execute_result"
    }
   ],
   "source": [
    "df['int_90'] = df.apply(get_interval, axis=1)\n",
    "df"
   ]
  },
  {
   "cell_type": "code",
   "execution_count": 8,
   "id": "da69655d",
   "metadata": {},
   "outputs": [
    {
     "data": {
      "text/plain": [
       "1.959963984540054"
      ]
     },
     "execution_count": 8,
     "metadata": {},
     "output_type": "execute_result"
    }
   ],
   "source": [
    "alpha = 0.05\n",
    "z = stats.norm.ppf(1-alpha/2)\n",
    "z"
   ]
  },
  {
   "cell_type": "code",
   "execution_count": 9,
   "id": "229de1de",
   "metadata": {},
   "outputs": [
    {
     "data": {
      "text/html": [
       "<div>\n",
       "<style scoped>\n",
       "    .dataframe tbody tr th:only-of-type {\n",
       "        vertical-align: middle;\n",
       "    }\n",
       "\n",
       "    .dataframe tbody tr th {\n",
       "        vertical-align: top;\n",
       "    }\n",
       "\n",
       "    .dataframe thead th {\n",
       "        text-align: right;\n",
       "    }\n",
       "</style>\n",
       "<table border=\"1\" class=\"dataframe\">\n",
       "  <thead>\n",
       "    <tr style=\"text-align: right;\">\n",
       "      <th></th>\n",
       "      <th>god</th>\n",
       "      <th>N</th>\n",
       "      <th>Mx</th>\n",
       "      <th>SD</th>\n",
       "      <th>int_90</th>\n",
       "      <th>int_95</th>\n",
       "    </tr>\n",
       "  </thead>\n",
       "  <tbody>\n",
       "    <tr>\n",
       "      <th>0</th>\n",
       "      <td>1946</td>\n",
       "      <td>151</td>\n",
       "      <td>2.0</td>\n",
       "      <td>1.4</td>\n",
       "      <td>(1.81, 2.19]</td>\n",
       "      <td>(1.78, 2.22]</td>\n",
       "    </tr>\n",
       "    <tr>\n",
       "      <th>1</th>\n",
       "      <td>1956</td>\n",
       "      <td>149</td>\n",
       "      <td>2.3</td>\n",
       "      <td>1.6</td>\n",
       "      <td>(2.08, 2.52]</td>\n",
       "      <td>(2.04, 2.56]</td>\n",
       "    </tr>\n",
       "    <tr>\n",
       "      <th>2</th>\n",
       "      <td>1966</td>\n",
       "      <td>157</td>\n",
       "      <td>2.8</td>\n",
       "      <td>1.2</td>\n",
       "      <td>(2.64, 2.96]</td>\n",
       "      <td>(2.61, 2.99]</td>\n",
       "    </tr>\n",
       "    <tr>\n",
       "      <th>3</th>\n",
       "      <td>1976</td>\n",
       "      <td>155</td>\n",
       "      <td>4.9</td>\n",
       "      <td>7.3</td>\n",
       "      <td>(3.94, 5.86]</td>\n",
       "      <td>(3.75, 6.05]</td>\n",
       "    </tr>\n",
       "  </tbody>\n",
       "</table>\n",
       "</div>"
      ],
      "text/plain": [
       "    god    N   Mx   SD        int_90        int_95\n",
       "0  1946  151  2.0  1.4  (1.81, 2.19]  (1.78, 2.22]\n",
       "1  1956  149  2.3  1.6  (2.08, 2.52]  (2.04, 2.56]\n",
       "2  1966  157  2.8  1.2  (2.64, 2.96]  (2.61, 2.99]\n",
       "3  1976  155  4.9  7.3  (3.94, 5.86]  (3.75, 6.05]"
      ]
     },
     "execution_count": 9,
     "metadata": {},
     "output_type": "execute_result"
    }
   ],
   "source": [
    "df['int_95'] = df.apply(get_interval, axis=1)\n",
    "df"
   ]
  },
  {
   "cell_type": "markdown",
   "id": "ea519e5e",
   "metadata": {},
   "source": [
    "***\n",
    "## Задание 3.\n",
    "\n",
    "### С помощью 90% доверительного интервала оценить средний вес нормально распределенной популяции, если дисперсия генеральной совокупности 3.6, а среднее арифметичекое по выборке объемом 100 получилось равным 71.2."
   ]
  },
  {
   "cell_type": "code",
   "execution_count": 10,
   "id": "84596e29",
   "metadata": {},
   "outputs": [
    {
     "data": {
      "text/plain": [
       "1.6448536269514722"
      ]
     },
     "execution_count": 10,
     "metadata": {},
     "output_type": "execute_result"
    }
   ],
   "source": [
    "gamma, D, N, Mx = 0.9, 3.6, 100, 71.2\n",
    "alpha = 1 - gamma\n",
    "\n",
    "z = stats.norm.ppf(1-alpha/2)\n",
    "z"
   ]
  },
  {
   "cell_type": "code",
   "execution_count": 11,
   "id": "b21cae31",
   "metadata": {},
   "outputs": [
    {
     "data": {
      "text/plain": [
       "0.18973665961010278"
      ]
     },
     "execution_count": 11,
     "metadata": {},
     "output_type": "execute_result"
    }
   ],
   "source": [
    "se = np.sqrt(D/N)\n",
    "se"
   ]
  },
  {
   "cell_type": "code",
   "execution_count": 12,
   "id": "5c8cf2e5",
   "metadata": {},
   "outputs": [
    {
     "name": "stdout",
     "output_type": "stream",
     "text": [
      "70.89 < a < 71.51\n"
     ]
    }
   ],
   "source": [
    "print(f'{Mx-z*se:.2f} < a < {Mx+z*se:.2f}')"
   ]
  },
  {
   "cell_type": "markdown",
   "id": "7fe3d911",
   "metadata": {},
   "source": [
    "***\n",
    "## Задание 4.\n",
    "\n",
    "### Найдите 95% доверительные интервалы для долей больных, которые не чувствовали боли при включенном и выключенном приборе. Можно ли по этим интервалам оценить статистическую значимость различий?\n",
    "\n",
    "|  | Прибор включен | Прибор выключен |\n",
    "| ----- | ----- | ------ |\n",
    "| Боли нет | 24 | 3 |\n",
    "| Боль есть | 6 | 17 |\n",
    "\n",
    "Выборочная оценка по доли имеет стандартную ошибку: \\\n",
    "$se = \\sqrt{\\cfrac{p(1-p)}{n}}$\n",
    "\n",
    "По формуле Бернулли (биноминальное рапределение): \\\n",
    "$P_n(X=k) = C^k_n\\cdot p^k\\cdot q^{n-k}$, где \\\n",
    "$k$ - число наступления события (дискретная величина из отрезка $[0,n]$)<br>\n",
    "$n$ - число испытаний<br>\n",
    "$p$ - вероятность наступления события $A$ в независимых испытаниях<br>\n",
    "$q = 1 - p$"
   ]
  },
  {
   "cell_type": "code",
   "execution_count": 13,
   "id": "8067c028",
   "metadata": {},
   "outputs": [
    {
     "data": {
      "text/plain": [
       "1.959963984540054"
      ]
     },
     "execution_count": 13,
     "metadata": {},
     "output_type": "execute_result"
    }
   ],
   "source": [
    "n1, m1, n2, m2 = 30, 24, 20, 3\n",
    "p1, p2 = m1/n1, m2/n2\n",
    "alpha = 0.05\n",
    "\n",
    "z = stats.norm.ppf(1-alpha/2)\n",
    "z"
   ]
  },
  {
   "cell_type": "code",
   "execution_count": 14,
   "id": "22e19b5f",
   "metadata": {},
   "outputs": [
    {
     "data": {
      "text/plain": [
       "0.07302967433402215"
      ]
     },
     "execution_count": 14,
     "metadata": {},
     "output_type": "execute_result"
    }
   ],
   "source": [
    "se = np.sqrt(p1 * (1-p1) / n1)\n",
    "se"
   ]
  },
  {
   "cell_type": "code",
   "execution_count": 15,
   "id": "5b537911",
   "metadata": {},
   "outputs": [
    {
     "name": "stdout",
     "output_type": "stream",
     "text": [
      "0.66 < p1 < 0.94\n"
     ]
    }
   ],
   "source": [
    "print(f'{p1-z*se:.2f} < p1 < {p1+z*se:.2f}')"
   ]
  },
  {
   "cell_type": "code",
   "execution_count": 16,
   "id": "613509bd",
   "metadata": {},
   "outputs": [],
   "source": [
    "# сочетание C - кол-во способов взять k элем-ов из множ-ва n без учета порядка расположения\n",
    "def C(n, k):\n",
    "    return factorial(n) // (factorial(k) * (factorial(n - k)))"
   ]
  },
  {
   "cell_type": "code",
   "execution_count": 17,
   "id": "a1485363",
   "metadata": {},
   "outputs": [
    {
     "name": "stdout",
     "output_type": "stream",
     "text": [
      "k = 1, p = 0.13679834500416826, gamma = 0.1755578760886826\n",
      "k = 2, p = 0.22933840191875263, gamma = 0.4048962780074352\n",
      "k = 3, p = 0.24282889614926745, gamma = 0.6477251741567027\n",
      "k = 4, p = 0.18212167211195063, gamma = 0.8298468462686533\n",
      "k = 5, p = 0.10284517954557212, gamma = 0.9326920258142255\n",
      "0.04 < p2 < 0.25\n"
     ]
    }
   ],
   "source": [
    "l = C(n2,0) * p2**0 * (1-p2)**(n2-0)\n",
    "gamma = l\n",
    "for k in range(1,n2+1):\n",
    "    p = C(n2,k) * p2**k * (1-p2)**(n2-k)\n",
    "    gamma += p\n",
    "    if gamma > 0.95: break\n",
    "    print(f'{k = }, {p = }, {gamma = }')\n",
    "\n",
    "print(f'{l:.2f} < p2 < {(k-1)/n2}')"
   ]
  },
  {
   "cell_type": "markdown",
   "id": "f0d075cd",
   "metadata": {},
   "source": [
    "Т.к. интервалы не пересекаются, то можно сделать вывод, что есть статистически значимые различия."
   ]
  },
  {
   "cell_type": "code",
   "execution_count": null,
   "id": "3e293eba",
   "metadata": {},
   "outputs": [],
   "source": []
  }
 ],
 "metadata": {
  "kernelspec": {
   "display_name": "Python 3 (ipykernel)",
   "language": "python",
   "name": "python3"
  },
  "language_info": {
   "codemirror_mode": {
    "name": "ipython",
    "version": 3
   },
   "file_extension": ".py",
   "mimetype": "text/x-python",
   "name": "python",
   "nbconvert_exporter": "python",
   "pygments_lexer": "ipython3",
   "version": "3.9.13"
  }
 },
 "nbformat": 4,
 "nbformat_minor": 5
}
