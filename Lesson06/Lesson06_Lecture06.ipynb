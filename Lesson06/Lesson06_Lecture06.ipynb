{
 "cells": [
  {
   "cell_type": "markdown",
   "id": "14da8382",
   "metadata": {},
   "source": [
    "# Урок 6. Сравнение долей. Построение доверительного интервала"
   ]
  },
  {
   "cell_type": "markdown",
   "id": "02ba55df",
   "metadata": {},
   "source": [
    "***\n",
    "## Доверительный интервал для средних арифметических\n",
    "\n",
    "Построение доверительных интервалов позволяет давать интервальную оценку для среднего генеральной совокупности.\n",
    "\n",
    "средняя выборочная стремится к нормальному распределению с средним арифметическим, равным среднему арифметическому генеральной совокупности, откуда была взята выборка, и с дисперсией, равной дисперсии генеральной совокупности, деленой на объем выборки $\\cfrac{\\sigma}{\\sqrt{n}}$.\n",
    "\n",
    "Доверительный интервал можно представить таким образом:\\\n",
    "$1-\\alpha = 0.95$, т.е. $\\alpha = 0.05$\n",
    "\n",
    "95% доверительный интервал означает, что в 95% случаев интервал покроет истинное математическое ожидание.\n",
    "\n",
    "### Если $\\sigma$ генеральной совокупности известна\n",
    "\n",
    "$\\bar{x} \\pm z_{\\frac{\\alpha}{2}} \\cdot \\cfrac{\\sigma}{\\sqrt{n}}$"
   ]
  },
  {
   "cell_type": "code",
   "execution_count": 3,
   "id": "8a6c5e7f",
   "metadata": {},
   "outputs": [
    {
     "data": {
      "text/plain": [
       "1.959963984540054"
      ]
     },
     "execution_count": 3,
     "metadata": {},
     "output_type": "execute_result"
    }
   ],
   "source": [
    "import scipy.stats as stats\n",
    "\n",
    "alpha = 0.05\n",
    "Zk = stats.norm.ppf(1-alpha/2)\n",
    "Zk"
   ]
  },
  {
   "cell_type": "markdown",
   "id": "a5021c9f",
   "metadata": {},
   "source": [
    "### Если $\\sigma$ генеральной совокупности неизвестна\n",
    "\n",
    "$\\bar{x} \\pm t_{\\frac{\\alpha}{2}} \\cdot \\cfrac{S}{\\sqrt{n}}$"
   ]
  },
  {
   "cell_type": "code",
   "execution_count": 6,
   "id": "3c51ad7f",
   "metadata": {},
   "outputs": [
    {
     "data": {
      "text/plain": [
       "2.4469118487916806"
      ]
     },
     "execution_count": 6,
     "metadata": {},
     "output_type": "execute_result"
    }
   ],
   "source": [
    "import scipy.stats as stats\n",
    "\n",
    "alpha = 0.05\n",
    "k = 6\n",
    "\n",
    "stats.t.ppf(1 - alpha/2, k)"
   ]
  },
  {
   "cell_type": "markdown",
   "id": "c21f924e",
   "metadata": {},
   "source": [
    "***\n",
    "## Интервальная оценка для разности средних арифметических\n",
    "\n",
    "$\\Delta \\pm t_{\\frac{\\alpha}{2}} \\cdot \\cfrac{S_{\\Delta}}{\\sqrt{n}}$, где $\\Delta = \\bar{X_1} - \\bar{X_2}$\n",
    "\n",
    "$D = \\cfrac{D_1+D_2}{2}$, где $D_1, D_2$ - несмещенные дисперсии\n",
    "\n",
    "$S_{\\Delta} = \\sqrt{\\cfrac{D}{n_1}+\\cfrac{D}{n_2}}$\n",
    "\n",
    "$df = n_1 + n_2 - 2$"
   ]
  },
  {
   "cell_type": "markdown",
   "id": "c4e4a81b",
   "metadata": {},
   "source": [
    "***\n",
    "## Доверительный интервал для доли\n",
    "\n",
    "$p \\pm Z_{\\frac{\\alpha}{2}} \\cdot se$, где $p = \\cfrac{m}{n}$\n",
    "\n",
    "### Для больших объемов выборок\n",
    "\n",
    "Выборочная оценка для доли $p$ сродни среднему арифметическому $\\mu = p$.\n",
    "\n",
    "$\\sigma = \\sqrt{p(1-p)}$\n",
    "\n",
    "Выборочная оценка по доли имеет стандартную ошибку: \\\n",
    "$se = \\cfrac{\\sigma}{\\sqrt{n}} = \\sqrt{\\cfrac{p(1-p)}{n}}$\n",
    "\n",
    "Из центральной предельной теоремы следует, что при больших объемах выборок выборочная оценка доли стремится к нормальному распределению. Этим приближением мы пользуемся, когда $n \\cdot p > 5$ и $n \\cdot (1-p) > 5$. Это утверждение нарушается при маленьких объемах выборки и $p$ близких к 0 или 1.\n",
    "\n",
    "### Для маленьких объемов выборок\n",
    "\n",
    "Используют биномиальное распределение (формула Бернулли): $C_{n}^{k} \\cdot p^k \\cdot q^{n-k}$ для расчета накопленной вероятности (сумма текущей и предыдущих вероятностей)."
   ]
  },
  {
   "cell_type": "markdown",
   "id": "75d7fcb7",
   "metadata": {},
   "source": [
    "***\n",
    "## Сравнение долей\n",
    "\n",
    "$Z = \\cfrac{p_1-p_2}{\\sqrt{p(1-p)\\left(\\cfrac{1}{n_1}+\\cfrac{1}{n_2}\\right)}}$, где \n",
    "$p = \\cfrac{m_1+m_2}{n_1+n_2}$\n",
    "<br><br>\n",
    "\n",
    "Величина Z – это величина, которая следует нормальному стандартному распределению, но выше вычисленная величина z немного отклоняется от нормального распределения, поэтому  при сравнении долей нам нужно воспользоваться поправкой Йейтса на непрерывность. Данная поправка сокращает отклонения от нормальности и z-критерий будем в итоге находить по формуле: \\\n",
    "$Z = \\cfrac{|p_1-p_2|-\\cfrac{1}{2}\\left(\\cfrac{1}{n_1}+\\cfrac{1}{n_2}\\right)}{\\sqrt{p(1-p)\\left(\\cfrac{1}{n_1}+\\cfrac{1}{n_2}\\right)}}$, где \n",
    "$p = \\cfrac{m_1+m_2}{n_1+n_2}$"
   ]
  },
  {
   "cell_type": "markdown",
   "id": "e5965b93",
   "metadata": {},
   "source": [
    "***\n",
    "## Интервал для разности долей\n",
    "\n",
    "$\\Delta \\pm z_{\\cfrac{\\alpha}{2}} \\cdot S_{\\Delta}$, где $\\Delta = p_1 - p_2$\n",
    "\n",
    "$S_{\\Delta} = \\sqrt{p(1-p)\\left(\\cfrac{1}{n_1}+\\cfrac{1}{n_2}\\right)}$, где \n",
    "$p = \\cfrac{m_1+m_2}{n_1+n_2}$"
   ]
  },
  {
   "cell_type": "code",
   "execution_count": null,
   "id": "c5e53e1a",
   "metadata": {},
   "outputs": [],
   "source": []
  }
 ],
 "metadata": {
  "kernelspec": {
   "display_name": "Python 3 (ipykernel)",
   "language": "python",
   "name": "python3"
  },
  "language_info": {
   "codemirror_mode": {
    "name": "ipython",
    "version": 3
   },
   "file_extension": ".py",
   "mimetype": "text/x-python",
   "name": "python",
   "nbconvert_exporter": "python",
   "pygments_lexer": "ipython3",
   "version": "3.9.13"
  }
 },
 "nbformat": 4,
 "nbformat_minor": 5
}
