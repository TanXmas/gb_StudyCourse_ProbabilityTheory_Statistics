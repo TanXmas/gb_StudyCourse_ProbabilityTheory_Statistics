{
 "cells": [
  {
   "cell_type": "markdown",
   "id": "1a38c569",
   "metadata": {},
   "source": [
    "# Урок 10. Дисперсионный анализ"
   ]
  },
  {
   "cell_type": "code",
   "execution_count": 1,
   "id": "c04df5f2",
   "metadata": {},
   "outputs": [],
   "source": [
    "import numpy as np\n",
    "import pandas as pd\n",
    "\n",
    "import scipy.stats as stats\n",
    "\n",
    "import matplotlib.pyplot as plt\n",
    "import seaborn as sns"
   ]
  },
  {
   "cell_type": "markdown",
   "id": "c88226f2",
   "metadata": {},
   "source": [
    "***\n",
    "## Однофакторный дисперсионный анализ (ANOVA - Analysis of variance)\n",
    "\n",
    "Когда нам нужно понять, а влияет ли качественный показатель на количественный показатель, мы прибегаем к дисперсионному анализу. Т.е. зависимая переменная $y$ должна быть количественной случайной величиной, а $x$ (фактор) - качественной случайной величиной.\n",
    "\n",
    "В однофакторном дисперсионном анализе на одну количественную переменную $y$ влияет один фактор (один качественный показатель), который наблюдается на $k$ уровнях или имеет $k$ выборок для переменной $y$.\n",
    "\n",
    "Можем посчитаем средние по каждой выборке и сравним их средние между собой. И если мы обнаружим статистически значимые различия хотя бы между одной парой, то приходим к выводу, что есть статистически значимый эффект.\n",
    "\n",
    "Появляется эффект **множественных сравнений** - с увеличением числа сравнений $m$ растет вероятность ошибки 1 рода, т.е. растет вероятность найти различия там, где их нет (растет вероятность принять гипотезу $H_1$, когда на самом деле верна гипотеза $H_0$). И вместо привычного, заранее выбранного уровня статистической значимости $\\alpha$, появляется  $\\bar{\\alpha}$, которая является истинным уровнем значимости многократно примененного критерия: \\\n",
    "$\\bar{\\alpha} = 1 - (1 - \\alpha)^m$, где $m = С_k^2$ - кол-во парных сравнений.\n",
    "\n",
    "Чтобы этого избежать, лучше использовать **дисперсионный анализ**:\n",
    "1. Формулируем нулевую и альтернативную гипотезы. \\\n",
    "Нулевая гипотеза будет предполагать, что на самом деле все группы принадлежат одной ГС и соотвественно имеют одно математическое ожидание. Альтернативная гипотеза говорит о том, что хотя бы две выборки статически значимо различаются, то есть хотя бы две средних отличаются друг от друга.\n",
    "<br><br>\n",
    "\n",
    "2. Устанавливаем уровень статистической значимости $\\alpha$.\n",
    "<br><br>\n",
    "\n",
    "3. В дисперсионном анализе используется критерий Фишера. \\\n",
    "Табличное значение определяется на основе общего чила наблюдений в группах $n$, степеней свободы и заданного уровня значимости следующим образом: \\\n",
    "$F_к(\\alpha,k_1,k_2)$, где \\\n",
    "$k_1 = k-1$ \\\n",
    "$k_2 = n-k$\n",
    "<br><br>\n",
    "\n",
    "    F-критерий Фишера рассчитывается по следующей формуле:\\\n",
    "$F = \\cfrac{MS_B}{MS_W}$, где \\\n",
    "$MS_B = \\cfrac{SS_{B}^2}{k-1}$ - межгрупповой средний квадрат / межгрупповая дисперсия / факторная дисперсия, \\\n",
    "$MS_W = \\cfrac{SS_{W}^2}{n-k}$ - внутригрупповой средний квадрат / внутригрупповая дисперсия / остаточная дисперсия.\n",
    "<br><br>\n",
    "\n",
    "    $SS$ (sum of squares) - **сумма квадратов** (отклонения от какого-либо среднего значения):\n",
    "\n",
    "    $\\displaystyle SST = \\sum_{i=1}^{k} \\sum_{j=1}^{n_i} {(x_{ij} - \\bar{X})^2}$ - общее число квадратов отклонений (Total Sum Of Squares)\n",
    "\n",
    "    $\\displaystyle SSB = \\sum_{i=1}^{k}{(\\bar{x_i} - \\bar{X})^2 \\cdot n_i}$ - факторная сумма квадратов отклонений средних групповых значений от общего среднего (Between Groups Sums of Squares)\n",
    "\n",
    "    $\\displaystyle SSW = \\sum_{i=1}^{k} \\sum_{j=1}^{n_i} {(x_{ij} - \\bar{x_i})^2}$ - остаточная сумма квадратов отклонений значений от группового среднего (Within Groups Sums of Squares)\n",
    "\n",
    "    $k$ - количество групп, $n_i$ - число наблюдений в $i$-ой группе.\n",
    "    \n",
    "    $SST = SSB + SSW$\n",
    "<br><br>\n",
    "\n",
    "4. Выводы: если $F_н < F_к$, то принимаем $H_0$.\n",
    "<img src=\"./img/image1.png\" alt=\"image1\" width=\"\"/>"
   ]
  },
  {
   "cell_type": "code",
   "execution_count": 2,
   "id": "94d1ff13",
   "metadata": {},
   "outputs": [
    {
     "data": {
      "text/html": [
       "<div>\n",
       "<style scoped>\n",
       "    .dataframe tbody tr th:only-of-type {\n",
       "        vertical-align: middle;\n",
       "    }\n",
       "\n",
       "    .dataframe tbody tr th {\n",
       "        vertical-align: top;\n",
       "    }\n",
       "\n",
       "    .dataframe thead th {\n",
       "        text-align: right;\n",
       "    }\n",
       "</style>\n",
       "<table border=\"1\" class=\"dataframe\">\n",
       "  <thead>\n",
       "    <tr style=\"text-align: right;\">\n",
       "      <th></th>\n",
       "      <th>y1</th>\n",
       "      <th>y2</th>\n",
       "      <th>y3</th>\n",
       "    </tr>\n",
       "  </thead>\n",
       "  <tbody>\n",
       "    <tr>\n",
       "      <th>0</th>\n",
       "      <td>70</td>\n",
       "      <td>80</td>\n",
       "      <td>148</td>\n",
       "    </tr>\n",
       "    <tr>\n",
       "      <th>1</th>\n",
       "      <td>50</td>\n",
       "      <td>74</td>\n",
       "      <td>142</td>\n",
       "    </tr>\n",
       "    <tr>\n",
       "      <th>2</th>\n",
       "      <td>65</td>\n",
       "      <td>90</td>\n",
       "      <td>140</td>\n",
       "    </tr>\n",
       "    <tr>\n",
       "      <th>3</th>\n",
       "      <td>60</td>\n",
       "      <td>70</td>\n",
       "      <td>150</td>\n",
       "    </tr>\n",
       "    <tr>\n",
       "      <th>4</th>\n",
       "      <td>75</td>\n",
       "      <td>75</td>\n",
       "      <td>160</td>\n",
       "    </tr>\n",
       "    <tr>\n",
       "      <th>5</th>\n",
       "      <td>67</td>\n",
       "      <td>65</td>\n",
       "      <td>170</td>\n",
       "    </tr>\n",
       "    <tr>\n",
       "      <th>6</th>\n",
       "      <td>74</td>\n",
       "      <td>85</td>\n",
       "      <td>155</td>\n",
       "    </tr>\n",
       "  </tbody>\n",
       "</table>\n",
       "</div>"
      ],
      "text/plain": [
       "   y1  y2   y3\n",
       "0  70  80  148\n",
       "1  50  74  142\n",
       "2  65  90  140\n",
       "3  60  70  150\n",
       "4  75  75  160\n",
       "5  67  65  170\n",
       "6  74  85  155"
      ]
     },
     "execution_count": 2,
     "metadata": {},
     "output_type": "execute_result"
    }
   ],
   "source": [
    "df = pd.DataFrame({'y1': [70, 50, 65, 60, 75, 67, 74],\n",
    "                   'y2': [80, 74, 90, 70, 75, 65, 85],\n",
    "                   'y3': [148, 142, 140, 150, 160, 170, 155]})\n",
    "df"
   ]
  },
  {
   "cell_type": "code",
   "execution_count": 3,
   "id": "a94e7dd3",
   "metadata": {},
   "outputs": [
    {
     "data": {
      "text/plain": [
       "30836.952380952374"
      ]
     },
     "execution_count": 3,
     "metadata": {},
     "output_type": "execute_result"
    }
   ],
   "source": [
    "k = df.shape[1]\n",
    "n = df.shape[0]*k\n",
    "\n",
    "m0 = df.values.mean()\n",
    "colms = ['y1', 'y2', 'y3']\n",
    "\n",
    "SSf = 0\n",
    "for col in colms:\n",
    "    m = df[col].mean()\n",
    "    SSf += (m - m0)**2 * df[col].count()\n",
    "SSf"
   ]
  },
  {
   "cell_type": "code",
   "execution_count": 4,
   "id": "485ace85",
   "metadata": {},
   "outputs": [
    {
     "data": {
      "text/plain": [
       "1563.7142857142858"
      ]
     },
     "execution_count": 4,
     "metadata": {},
     "output_type": "execute_result"
    }
   ],
   "source": [
    "SSo = 0\n",
    "for col in colms:\n",
    "    m = df[col].mean()\n",
    "    SSo += sum((df[col] - m)**2)\n",
    "SSo"
   ]
  },
  {
   "cell_type": "code",
   "execution_count": 5,
   "id": "7bfcfb05",
   "metadata": {},
   "outputs": [
    {
     "data": {
      "text/plain": [
       "(15418.476190476187, 86.87301587301587)"
      ]
     },
     "execution_count": 5,
     "metadata": {},
     "output_type": "execute_result"
    }
   ],
   "source": [
    "Df = SSf / (k-1)\n",
    "Do = SSo / (n-k)\n",
    "Df, Do"
   ]
  },
  {
   "cell_type": "code",
   "execution_count": 6,
   "id": "80db3b8c",
   "metadata": {},
   "outputs": [
    {
     "data": {
      "text/plain": [
       "177.48291613374744"
      ]
     },
     "execution_count": 6,
     "metadata": {},
     "output_type": "execute_result"
    }
   ],
   "source": [
    "Fn = Df / Do\n",
    "Fn"
   ]
  },
  {
   "cell_type": "code",
   "execution_count": 7,
   "id": "37e88190",
   "metadata": {},
   "outputs": [
    {
     "data": {
      "text/plain": [
       "3.554557145661787"
      ]
     },
     "execution_count": 7,
     "metadata": {},
     "output_type": "execute_result"
    }
   ],
   "source": [
    "alpha = 0.05\n",
    "k1, k2 = k-1, n-k\n",
    "\n",
    "# правосторонняя критическая область\n",
    "Fk = stats.f.ppf(1-alpha, k1, k2)\n",
    "Fk"
   ]
  },
  {
   "cell_type": "code",
   "execution_count": 8,
   "id": "80964d50",
   "metadata": {},
   "outputs": [
    {
     "data": {
      "text/plain": [
       "F_onewayResult(statistic=177.48291613374704, pvalue=1.420466900107174e-12)"
      ]
     },
     "execution_count": 8,
     "metadata": {},
     "output_type": "execute_result"
    }
   ],
   "source": [
    "stats.f_oneway(df['y1'], df['y2'], df['y3'])"
   ]
  },
  {
   "cell_type": "markdown",
   "id": "987950a8",
   "metadata": {},
   "source": [
    "Расчетное значение 177,48 попадает в область принятия альтернативной гипотезы $H_1$. Т.е. мы делаем вывод, что профессия оказывает статистически значимый эффект на заработную плату."
   ]
  },
  {
   "cell_type": "markdown",
   "id": "fa8c8e22",
   "metadata": {},
   "source": [
    "***\n",
    "### Post hoc test\n",
    "\n",
    "Дисперсионный анализ не покажет,  между какими именно средними были найдены различия. Если по каким-то причинам нам нужно выяснить, а между какими именно группами найдены статистически значимые различия, то воспользуемся post hoc тестом."
   ]
  },
  {
   "cell_type": "code",
   "execution_count": 9,
   "id": "668178c3",
   "metadata": {},
   "outputs": [
    {
     "data": {
      "image/png": "[encoded data removed]",
      "text/plain": [
       "<Figure size 400x500 with 1 Axes>"
      ]
     },
     "metadata": {},
     "output_type": "display_data"
    }
   ],
   "source": [
    "plt.figure(figsize=(4, 5))\n",
    "\n",
    "sns.boxplot(data=[df['y1'], df['y2'], df['y3']]);\n",
    "\n",
    "plt.xticks([0, 1, 2], ['acc', 'law', 'prog']);"
   ]
  },
  {
   "cell_type": "code",
   "execution_count": 10,
   "id": "664d2c6f",
   "metadata": {},
   "outputs": [
    {
     "data": {
      "text/html": [
       "<div>\n",
       "<style scoped>\n",
       "    .dataframe tbody tr th:only-of-type {\n",
       "        vertical-align: middle;\n",
       "    }\n",
       "\n",
       "    .dataframe tbody tr th {\n",
       "        vertical-align: top;\n",
       "    }\n",
       "\n",
       "    .dataframe thead th {\n",
       "        text-align: right;\n",
       "    }\n",
       "</style>\n",
       "<table border=\"1\" class=\"dataframe\">\n",
       "  <thead>\n",
       "    <tr style=\"text-align: right;\">\n",
       "      <th></th>\n",
       "      <th>score</th>\n",
       "      <th>group</th>\n",
       "    </tr>\n",
       "  </thead>\n",
       "  <tbody>\n",
       "    <tr>\n",
       "      <th>0</th>\n",
       "      <td>70</td>\n",
       "      <td>acc</td>\n",
       "    </tr>\n",
       "    <tr>\n",
       "      <th>1</th>\n",
       "      <td>50</td>\n",
       "      <td>acc</td>\n",
       "    </tr>\n",
       "    <tr>\n",
       "      <th>2</th>\n",
       "      <td>65</td>\n",
       "      <td>acc</td>\n",
       "    </tr>\n",
       "    <tr>\n",
       "      <th>3</th>\n",
       "      <td>60</td>\n",
       "      <td>acc</td>\n",
       "    </tr>\n",
       "    <tr>\n",
       "      <th>4</th>\n",
       "      <td>75</td>\n",
       "      <td>acc</td>\n",
       "    </tr>\n",
       "    <tr>\n",
       "      <th>5</th>\n",
       "      <td>67</td>\n",
       "      <td>acc</td>\n",
       "    </tr>\n",
       "    <tr>\n",
       "      <th>6</th>\n",
       "      <td>74</td>\n",
       "      <td>acc</td>\n",
       "    </tr>\n",
       "    <tr>\n",
       "      <th>7</th>\n",
       "      <td>80</td>\n",
       "      <td>law</td>\n",
       "    </tr>\n",
       "    <tr>\n",
       "      <th>8</th>\n",
       "      <td>74</td>\n",
       "      <td>law</td>\n",
       "    </tr>\n",
       "    <tr>\n",
       "      <th>9</th>\n",
       "      <td>90</td>\n",
       "      <td>law</td>\n",
       "    </tr>\n",
       "    <tr>\n",
       "      <th>10</th>\n",
       "      <td>70</td>\n",
       "      <td>law</td>\n",
       "    </tr>\n",
       "    <tr>\n",
       "      <th>11</th>\n",
       "      <td>75</td>\n",
       "      <td>law</td>\n",
       "    </tr>\n",
       "    <tr>\n",
       "      <th>12</th>\n",
       "      <td>65</td>\n",
       "      <td>law</td>\n",
       "    </tr>\n",
       "    <tr>\n",
       "      <th>13</th>\n",
       "      <td>85</td>\n",
       "      <td>law</td>\n",
       "    </tr>\n",
       "    <tr>\n",
       "      <th>14</th>\n",
       "      <td>148</td>\n",
       "      <td>prog</td>\n",
       "    </tr>\n",
       "    <tr>\n",
       "      <th>15</th>\n",
       "      <td>142</td>\n",
       "      <td>prog</td>\n",
       "    </tr>\n",
       "    <tr>\n",
       "      <th>16</th>\n",
       "      <td>140</td>\n",
       "      <td>prog</td>\n",
       "    </tr>\n",
       "    <tr>\n",
       "      <th>17</th>\n",
       "      <td>150</td>\n",
       "      <td>prog</td>\n",
       "    </tr>\n",
       "    <tr>\n",
       "      <th>18</th>\n",
       "      <td>160</td>\n",
       "      <td>prog</td>\n",
       "    </tr>\n",
       "    <tr>\n",
       "      <th>19</th>\n",
       "      <td>170</td>\n",
       "      <td>prog</td>\n",
       "    </tr>\n",
       "    <tr>\n",
       "      <th>20</th>\n",
       "      <td>155</td>\n",
       "      <td>prog</td>\n",
       "    </tr>\n",
       "  </tbody>\n",
       "</table>\n",
       "</div>"
      ],
      "text/plain": [
       "    score group\n",
       "0      70   acc\n",
       "1      50   acc\n",
       "2      65   acc\n",
       "3      60   acc\n",
       "4      75   acc\n",
       "5      67   acc\n",
       "6      74   acc\n",
       "7      80   law\n",
       "8      74   law\n",
       "9      90   law\n",
       "10     70   law\n",
       "11     75   law\n",
       "12     65   law\n",
       "13     85   law\n",
       "14    148  prog\n",
       "15    142  prog\n",
       "16    140  prog\n",
       "17    150  prog\n",
       "18    160  prog\n",
       "19    170  prog\n",
       "20    155  prog"
      ]
     },
     "execution_count": 10,
     "metadata": {},
     "output_type": "execute_result"
    }
   ],
   "source": [
    "from statsmodels.stats.multicomp import pairwise_tukeyhsd\n",
    "\n",
    "df = pd.DataFrame({'score': [70, 50, 65, 60, 75, 67, 74,\n",
    "                             80, 74, 90, 70, 75, 65, 85,\n",
    "                             148, 142, 140, 150, 160, 170, 155],\n",
    "                   'group': np.repeat(['acc','law','prog'], repeats=7)})\n",
    "df"
   ]
  },
  {
   "cell_type": "code",
   "execution_count": 11,
   "id": "9a8a2125",
   "metadata": {},
   "outputs": [
    {
     "name": "stdout",
     "output_type": "stream",
     "text": [
      "Multiple Comparison of Means - Tukey HSD, FWER=0.05 \n",
      "====================================================\n",
      "group1 group2 meandiff p-adj   lower   upper  reject\n",
      "----------------------------------------------------\n",
      "   acc    law  11.1429 0.0918 -1.5722 23.8579  False\n",
      "   acc   prog  86.2857    0.0 73.5707 99.0007   True\n",
      "   law   prog  75.1429    0.0 62.4278 87.8579   True\n",
      "----------------------------------------------------\n"
     ]
    }
   ],
   "source": [
    "tukey = pairwise_tukeyhsd(endog=df['score'],\n",
    "                          groups=df['group'],\n",
    "                          alpha=0.05)\n",
    "print(tukey)"
   ]
  },
  {
   "cell_type": "markdown",
   "id": "eb722ed9",
   "metadata": {},
   "source": [
    "***\n",
    "## Двухфакторный дисперсионный анализ\n",
    "\n",
    "В двухфакторном дисперсионном анализе на одну количественную переменную $Y$ влияют два фактора (два качественных показателя), наблюдаемых соответственно на $k$ и $m$ уровнях.\n",
    "\n",
    "Ообщая сумма квадратов отклонений $SS_T$ равна сумме квадратов отклонений фактора $A$ ($SS_A$), фактора $B$ ($SS_B$), взаимодействия факторов ($SS_{AB}$) и случайной ошибки ($SS_E$):\n",
    "$$SS_T = SS_A + SS_B + SS_{AB} + SS_E$$\n",
    "\n",
    "<img src=\"./img/image2.png\" alt=\"image2\" width=\"\"/>"
   ]
  },
  {
   "cell_type": "code",
   "execution_count": 12,
   "id": "59423141",
   "metadata": {},
   "outputs": [
    {
     "data": {
      "text/plain": [
       "array([[[57, 59],\n",
       "        [56, 58]],\n",
       "\n",
       "       [[32, 34],\n",
       "        [71, 71]]])"
      ]
     },
     "execution_count": 12,
     "metadata": {},
     "output_type": "execute_result"
    }
   ],
   "source": [
    "data = np.array([57,59,56,58,32,34,71,71]).reshape(2,2,2)\n",
    "data"
   ]
  },
  {
   "cell_type": "code",
   "execution_count": 13,
   "id": "16a1e882",
   "metadata": {},
   "outputs": [],
   "source": [
    "a, b, k = data.shape[0], data.shape[1], data.shape[2]"
   ]
  },
  {
   "cell_type": "code",
   "execution_count": 14,
   "id": "c49ba22a",
   "metadata": {},
   "outputs": [
    {
     "data": {
      "text/plain": [
       "array([[58., 57.],\n",
       "       [33., 71.]])"
      ]
     },
     "execution_count": 14,
     "metadata": {},
     "output_type": "execute_result"
    }
   ],
   "source": [
    "data2 = np.mean(data, axis=2)\n",
    "data2"
   ]
  },
  {
   "cell_type": "code",
   "execution_count": 15,
   "id": "ece6a93f",
   "metadata": {},
   "outputs": [
    {
     "data": {
      "text/plain": [
       "54.75"
      ]
     },
     "execution_count": 15,
     "metadata": {},
     "output_type": "execute_result"
    }
   ],
   "source": [
    "m = np.hstack((np.mean(data2, axis=(1)),\n",
    "               np.mean(data2, axis=(0)))).mean()\n",
    "m"
   ]
  },
  {
   "cell_type": "code",
   "execution_count": 16,
   "id": "beb5e3d7",
   "metadata": {},
   "outputs": [
    {
     "data": {
      "text/plain": [
       "1511.5"
      ]
     },
     "execution_count": 16,
     "metadata": {},
     "output_type": "execute_result"
    }
   ],
   "source": [
    "SSt = np.sum(data**2) - a*b*k * m**2\n",
    "SSt"
   ]
  },
  {
   "cell_type": "code",
   "execution_count": 17,
   "id": "9ffa2b6f",
   "metadata": {},
   "outputs": [
    {
     "data": {
      "text/plain": [
       "60.5"
      ]
     },
     "execution_count": 17,
     "metadata": {},
     "output_type": "execute_result"
    }
   ],
   "source": [
    "SSa = a*k * np.sum(np.mean(data2, axis=(1))**2) - a*b*k * m**2\n",
    "SSa"
   ]
  },
  {
   "cell_type": "code",
   "execution_count": 18,
   "id": "b082ec6c",
   "metadata": {},
   "outputs": [
    {
     "data": {
      "text/plain": [
       "684.5"
      ]
     },
     "execution_count": 18,
     "metadata": {},
     "output_type": "execute_result"
    }
   ],
   "source": [
    "SSb = b*k * np.sum(np.mean(data2, axis=(0))**2) - a*b*k * m**2\n",
    "SSb"
   ]
  },
  {
   "cell_type": "code",
   "execution_count": 19,
   "id": "45af60d0",
   "metadata": {},
   "outputs": [
    {
     "data": {
      "text/plain": [
       "760.5"
      ]
     },
     "execution_count": 19,
     "metadata": {},
     "output_type": "execute_result"
    }
   ],
   "source": [
    "SSab = k * np.sum(data2**2) - a*b*k * m**2 - SSa - SSb\n",
    "SSab"
   ]
  },
  {
   "cell_type": "code",
   "execution_count": 20,
   "id": "63429c05",
   "metadata": {},
   "outputs": [
    {
     "data": {
      "text/plain": [
       "6.0"
      ]
     },
     "execution_count": 20,
     "metadata": {},
     "output_type": "execute_result"
    }
   ],
   "source": [
    "SSe = SSt - SSa - SSb - SSab\n",
    "SSe"
   ]
  },
  {
   "cell_type": "code",
   "execution_count": 21,
   "id": "8aa633f3",
   "metadata": {},
   "outputs": [],
   "source": [
    "df_a = a - 1\n",
    "df_b = b - 1\n",
    "df_ab = (a-1)*(b-1)\n",
    "df_e = a*b*(k-1)"
   ]
  },
  {
   "cell_type": "code",
   "execution_count": 22,
   "id": "7c115546",
   "metadata": {},
   "outputs": [],
   "source": [
    "MSa = SSa / df_a\n",
    "MSb = SSb / df_b\n",
    "MSab = SSab / df_ab\n",
    "MSe = SSe / df_e"
   ]
  },
  {
   "cell_type": "code",
   "execution_count": 23,
   "id": "8b34fa43",
   "metadata": {},
   "outputs": [
    {
     "data": {
      "text/plain": [
       "(40.333333333333336, 456.3333333333333, 507.0)"
      ]
     },
     "execution_count": 23,
     "metadata": {},
     "output_type": "execute_result"
    }
   ],
   "source": [
    "Fa = MSa / MSe\n",
    "Fb = MSb / MSe\n",
    "Fab = MSab / MSe\n",
    "Fa, Fb, Fab"
   ]
  },
  {
   "cell_type": "code",
   "execution_count": 24,
   "id": "a4907560",
   "metadata": {},
   "outputs": [
    {
     "data": {
      "text/html": [
       "<div>\n",
       "<style scoped>\n",
       "    .dataframe tbody tr th:only-of-type {\n",
       "        vertical-align: middle;\n",
       "    }\n",
       "\n",
       "    .dataframe tbody tr th {\n",
       "        vertical-align: top;\n",
       "    }\n",
       "\n",
       "    .dataframe thead th {\n",
       "        text-align: right;\n",
       "    }\n",
       "</style>\n",
       "<table border=\"1\" class=\"dataframe\">\n",
       "  <thead>\n",
       "    <tr style=\"text-align: right;\">\n",
       "      <th></th>\n",
       "      <th>fA</th>\n",
       "      <th>fB</th>\n",
       "      <th>values</th>\n",
       "    </tr>\n",
       "  </thead>\n",
       "  <tbody>\n",
       "    <tr>\n",
       "      <th>0</th>\n",
       "      <td>low</td>\n",
       "      <td>low</td>\n",
       "      <td>57</td>\n",
       "    </tr>\n",
       "    <tr>\n",
       "      <th>1</th>\n",
       "      <td>low</td>\n",
       "      <td>low</td>\n",
       "      <td>59</td>\n",
       "    </tr>\n",
       "    <tr>\n",
       "      <th>2</th>\n",
       "      <td>low</td>\n",
       "      <td>high</td>\n",
       "      <td>56</td>\n",
       "    </tr>\n",
       "    <tr>\n",
       "      <th>3</th>\n",
       "      <td>low</td>\n",
       "      <td>high</td>\n",
       "      <td>58</td>\n",
       "    </tr>\n",
       "    <tr>\n",
       "      <th>4</th>\n",
       "      <td>high</td>\n",
       "      <td>low</td>\n",
       "      <td>32</td>\n",
       "    </tr>\n",
       "    <tr>\n",
       "      <th>5</th>\n",
       "      <td>high</td>\n",
       "      <td>low</td>\n",
       "      <td>34</td>\n",
       "    </tr>\n",
       "    <tr>\n",
       "      <th>6</th>\n",
       "      <td>high</td>\n",
       "      <td>high</td>\n",
       "      <td>71</td>\n",
       "    </tr>\n",
       "    <tr>\n",
       "      <th>7</th>\n",
       "      <td>high</td>\n",
       "      <td>high</td>\n",
       "      <td>71</td>\n",
       "    </tr>\n",
       "  </tbody>\n",
       "</table>\n",
       "</div>"
      ],
      "text/plain": [
       "     fA    fB  values\n",
       "0   low   low      57\n",
       "1   low   low      59\n",
       "2   low  high      56\n",
       "3   low  high      58\n",
       "4  high   low      32\n",
       "5  high   low      34\n",
       "6  high  high      71\n",
       "7  high  high      71"
      ]
     },
     "execution_count": 24,
     "metadata": {},
     "output_type": "execute_result"
    }
   ],
   "source": [
    "import statsmodels.api as sm\n",
    "from statsmodels.formula.api import ols\n",
    "\n",
    "fA = np.array(['low','low','low','low','high','high','high','high'])\n",
    "fB = np.array(['low','low','high','high','low','low','high','high'])\n",
    "values = np.array([57,59,56,58,32,34,71,71])\n",
    "df = pd.DataFrame({'fA': fA, 'fB': fB, 'values': values})\n",
    "df"
   ]
  },
  {
   "cell_type": "code",
   "execution_count": 25,
   "id": "dad41adf",
   "metadata": {},
   "outputs": [
    {
     "data": {
      "text/html": [
       "<div>\n",
       "<style scoped>\n",
       "    .dataframe tbody tr th:only-of-type {\n",
       "        vertical-align: middle;\n",
       "    }\n",
       "\n",
       "    .dataframe tbody tr th {\n",
       "        vertical-align: top;\n",
       "    }\n",
       "\n",
       "    .dataframe thead th {\n",
       "        text-align: right;\n",
       "    }\n",
       "</style>\n",
       "<table border=\"1\" class=\"dataframe\">\n",
       "  <thead>\n",
       "    <tr style=\"text-align: right;\">\n",
       "      <th></th>\n",
       "      <th>sum_sq</th>\n",
       "      <th>df</th>\n",
       "      <th>F</th>\n",
       "      <th>PR(&gt;F)</th>\n",
       "    </tr>\n",
       "  </thead>\n",
       "  <tbody>\n",
       "    <tr>\n",
       "      <th>C(fA)</th>\n",
       "      <td>60.5</td>\n",
       "      <td>1.0</td>\n",
       "      <td>40.333333</td>\n",
       "      <td>0.003150</td>\n",
       "    </tr>\n",
       "    <tr>\n",
       "      <th>C(fB)</th>\n",
       "      <td>684.5</td>\n",
       "      <td>1.0</td>\n",
       "      <td>456.333333</td>\n",
       "      <td>0.000028</td>\n",
       "    </tr>\n",
       "    <tr>\n",
       "      <th>C(fA):C(fB)</th>\n",
       "      <td>760.5</td>\n",
       "      <td>1.0</td>\n",
       "      <td>507.000000</td>\n",
       "      <td>0.000023</td>\n",
       "    </tr>\n",
       "    <tr>\n",
       "      <th>Residual</th>\n",
       "      <td>6.0</td>\n",
       "      <td>4.0</td>\n",
       "      <td>NaN</td>\n",
       "      <td>NaN</td>\n",
       "    </tr>\n",
       "  </tbody>\n",
       "</table>\n",
       "</div>"
      ],
      "text/plain": [
       "             sum_sq   df           F    PR(>F)\n",
       "C(fA)          60.5  1.0   40.333333  0.003150\n",
       "C(fB)         684.5  1.0  456.333333  0.000028\n",
       "C(fA):C(fB)   760.5  1.0  507.000000  0.000023\n",
       "Residual        6.0  4.0         NaN       NaN"
      ]
     },
     "execution_count": 25,
     "metadata": {},
     "output_type": "execute_result"
    }
   ],
   "source": [
    "model = ols('values ~ C(fA) * C(fB)', data = df).fit()\n",
    "\n",
    "table = sm.stats.anova_lm(model, typ=2)\n",
    "table"
   ]
  },
  {
   "cell_type": "markdown",
   "id": "cb157b73",
   "metadata": {},
   "source": [
    "***\n",
    "## Условия применимости дисперсионного анализа\n",
    "\n",
    "1.\t**Значения групп должны следовать нормальному распределению.** \\\n",
    "Проверить с помощью теста Шапиро-Уилка или с помощью QQ–графика.<br><br>\n",
    "\n",
    "2.\t**Однородность дисперсий** \\\n",
    "Однородность (равенство) дисперсий определяете с помощью Барлетт теста или с помощью теста Левене.<br><br>\n",
    "\n",
    "3.\t**Независимость измерений** \\\n",
    "Независимость измерений вы должны обеспечить во время планирования эксперимента, чтобы исключить влияния какие-то внешних факторов, избежать предвзятых оценок."
   ]
  },
  {
   "cell_type": "code",
   "execution_count": null,
   "id": "51383c0a",
   "metadata": {},
   "outputs": [],
   "source": []
  }
 ],
 "metadata": {
  "kernelspec": {
   "display_name": "Python 3 (ipykernel)",
   "language": "python",
   "name": "python3"
  },
  "language_info": {
   "codemirror_mode": {
    "name": "ipython",
    "version": 3
   },
   "file_extension": ".py",
   "mimetype": "text/x-python",
   "name": "python",
   "nbconvert_exporter": "python",
   "pygments_lexer": "ipython3",
   "version": "3.9.13"
  }
 },
 "nbformat": 4,
 "nbformat_minor": 5
}
