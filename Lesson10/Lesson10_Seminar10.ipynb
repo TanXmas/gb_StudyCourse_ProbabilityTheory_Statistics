{
 "cells": [
  {
   "cell_type": "markdown",
   "id": "85bdb14d",
   "metadata": {},
   "source": [
    "# Урок 10. Дисперсионный анализ"
   ]
  },
  {
   "cell_type": "code",
   "execution_count": 1,
   "id": "34d673fd",
   "metadata": {},
   "outputs": [],
   "source": [
    "import numpy as np\n",
    "import pandas as pd\n",
    "\n",
    "import scipy.stats as stats\n",
    "\n",
    "import matplotlib.pyplot as plt\n",
    "import seaborn as sns"
   ]
  },
  {
   "cell_type": "markdown",
   "id": "72dc997f",
   "metadata": {},
   "source": [
    "***\n",
    "## Задание 1.\n",
    "\n",
    "### Есть ли различие между процентным содержанием изотопов плутония? Используйте функции в Python. Провести предварительный разведочный анализ (проверку на нормальность и равенство дисперсий)."
   ]
  },
  {
   "cell_type": "code",
   "execution_count": 2,
   "id": "43b34f7e",
   "metadata": {},
   "outputs": [
    {
     "data": {
      "text/html": [
       "<div>\n",
       "<style scoped>\n",
       "    .dataframe tbody tr th:only-of-type {\n",
       "        vertical-align: middle;\n",
       "    }\n",
       "\n",
       "    .dataframe tbody tr th {\n",
       "        vertical-align: top;\n",
       "    }\n",
       "\n",
       "    .dataframe thead th {\n",
       "        text-align: right;\n",
       "    }\n",
       "</style>\n",
       "<table border=\"1\" class=\"dataframe\">\n",
       "  <thead>\n",
       "    <tr style=\"text-align: right;\">\n",
       "      <th></th>\n",
       "      <th>pu238</th>\n",
       "      <th>pu239</th>\n",
       "      <th>pu240</th>\n",
       "      <th>pu241</th>\n",
       "    </tr>\n",
       "  </thead>\n",
       "  <tbody>\n",
       "    <tr>\n",
       "      <th>0</th>\n",
       "      <td>0.126</td>\n",
       "      <td>75.804</td>\n",
       "      <td>21.204</td>\n",
       "      <td>2.180</td>\n",
       "    </tr>\n",
       "    <tr>\n",
       "      <th>1</th>\n",
       "      <td>0.133</td>\n",
       "      <td>75.515</td>\n",
       "      <td>21.408</td>\n",
       "      <td>2.240</td>\n",
       "    </tr>\n",
       "    <tr>\n",
       "      <th>2</th>\n",
       "      <td>0.127</td>\n",
       "      <td>75.175</td>\n",
       "      <td>21.668</td>\n",
       "      <td>2.305</td>\n",
       "    </tr>\n",
       "    <tr>\n",
       "      <th>3</th>\n",
       "      <td>0.156</td>\n",
       "      <td>78.872</td>\n",
       "      <td>18.428</td>\n",
       "      <td>1.906</td>\n",
       "    </tr>\n",
       "    <tr>\n",
       "      <th>4</th>\n",
       "      <td>0.503</td>\n",
       "      <td>73.317</td>\n",
       "      <td>20.223</td>\n",
       "      <td>4.128</td>\n",
       "    </tr>\n",
       "    <tr>\n",
       "      <th>5</th>\n",
       "      <td>0.113</td>\n",
       "      <td>79.116</td>\n",
       "      <td>18.548</td>\n",
       "      <td>1.690</td>\n",
       "    </tr>\n",
       "    <tr>\n",
       "      <th>6</th>\n",
       "      <td>0.129</td>\n",
       "      <td>75.751</td>\n",
       "      <td>21.162</td>\n",
       "      <td>2.260</td>\n",
       "    </tr>\n",
       "    <tr>\n",
       "      <th>7</th>\n",
       "      <td>0.124</td>\n",
       "      <td>75.326</td>\n",
       "      <td>21.557</td>\n",
       "      <td>2.282</td>\n",
       "    </tr>\n",
       "    <tr>\n",
       "      <th>8</th>\n",
       "      <td>1.022</td>\n",
       "      <td>63.287</td>\n",
       "      <td>24.493</td>\n",
       "      <td>6.990</td>\n",
       "    </tr>\n",
       "    <tr>\n",
       "      <th>9</th>\n",
       "      <td>1.412</td>\n",
       "      <td>59.553</td>\n",
       "      <td>25.576</td>\n",
       "      <td>8.027</td>\n",
       "    </tr>\n",
       "    <tr>\n",
       "      <th>10</th>\n",
       "      <td>1.533</td>\n",
       "      <td>58.688</td>\n",
       "      <td>25.719</td>\n",
       "      <td>8.279</td>\n",
       "    </tr>\n",
       "    <tr>\n",
       "      <th>11</th>\n",
       "      <td>1.534</td>\n",
       "      <td>58.758</td>\n",
       "      <td>25.692</td>\n",
       "      <td>8.261</td>\n",
       "    </tr>\n",
       "    <tr>\n",
       "      <th>12</th>\n",
       "      <td>1.437</td>\n",
       "      <td>59.728</td>\n",
       "      <td>25.146</td>\n",
       "      <td>8.377</td>\n",
       "    </tr>\n",
       "    <tr>\n",
       "      <th>13</th>\n",
       "      <td>1.439</td>\n",
       "      <td>59.544</td>\n",
       "      <td>25.126</td>\n",
       "      <td>8.569</td>\n",
       "    </tr>\n",
       "    <tr>\n",
       "      <th>14</th>\n",
       "      <td>1.375</td>\n",
       "      <td>59.877</td>\n",
       "      <td>25.128</td>\n",
       "      <td>8.428</td>\n",
       "    </tr>\n",
       "    <tr>\n",
       "      <th>15</th>\n",
       "      <td>1.153</td>\n",
       "      <td>61.182</td>\n",
       "      <td>25.100</td>\n",
       "      <td>7.802</td>\n",
       "    </tr>\n",
       "    <tr>\n",
       "      <th>16</th>\n",
       "      <td>0.201</td>\n",
       "      <td>78.244</td>\n",
       "      <td>18.488</td>\n",
       "      <td>2.351</td>\n",
       "    </tr>\n",
       "    <tr>\n",
       "      <th>17</th>\n",
       "      <td>0.176</td>\n",
       "      <td>78.166</td>\n",
       "      <td>18.629</td>\n",
       "      <td>2.365</td>\n",
       "    </tr>\n",
       "    <tr>\n",
       "      <th>18</th>\n",
       "      <td>0.239</td>\n",
       "      <td>74.254</td>\n",
       "      <td>21.515</td>\n",
       "      <td>2.901</td>\n",
       "    </tr>\n",
       "    <tr>\n",
       "      <th>19</th>\n",
       "      <td>0.102</td>\n",
       "      <td>79.840</td>\n",
       "      <td>17.872</td>\n",
       "      <td>1.674</td>\n",
       "    </tr>\n",
       "    <tr>\n",
       "      <th>20</th>\n",
       "      <td>1.070</td>\n",
       "      <td>62.455</td>\n",
       "      <td>24.656</td>\n",
       "      <td>7.512</td>\n",
       "    </tr>\n",
       "    <tr>\n",
       "      <th>21</th>\n",
       "      <td>0.851</td>\n",
       "      <td>73.189</td>\n",
       "      <td>18.285</td>\n",
       "      <td>5.597</td>\n",
       "    </tr>\n",
       "    <tr>\n",
       "      <th>22</th>\n",
       "      <td>0.125</td>\n",
       "      <td>75.968</td>\n",
       "      <td>20.794</td>\n",
       "      <td>2.407</td>\n",
       "    </tr>\n",
       "    <tr>\n",
       "      <th>23</th>\n",
       "      <td>0.142</td>\n",
       "      <td>75.957</td>\n",
       "      <td>20.867</td>\n",
       "      <td>2.341</td>\n",
       "    </tr>\n",
       "    <tr>\n",
       "      <th>24</th>\n",
       "      <td>0.352</td>\n",
       "      <td>72.885</td>\n",
       "      <td>21.718</td>\n",
       "      <td>3.618</td>\n",
       "    </tr>\n",
       "    <tr>\n",
       "      <th>25</th>\n",
       "      <td>0.351</td>\n",
       "      <td>72.907</td>\n",
       "      <td>21.721</td>\n",
       "      <td>3.601</td>\n",
       "    </tr>\n",
       "    <tr>\n",
       "      <th>26</th>\n",
       "      <td>0.346</td>\n",
       "      <td>72.919</td>\n",
       "      <td>21.713</td>\n",
       "      <td>3.600</td>\n",
       "    </tr>\n",
       "    <tr>\n",
       "      <th>27</th>\n",
       "      <td>0.217</td>\n",
       "      <td>76.089</td>\n",
       "      <td>20.225</td>\n",
       "      <td>2.556</td>\n",
       "    </tr>\n",
       "    <tr>\n",
       "      <th>28</th>\n",
       "      <td>1.068</td>\n",
       "      <td>70.129</td>\n",
       "      <td>18.573</td>\n",
       "      <td>7.689</td>\n",
       "    </tr>\n",
       "    <tr>\n",
       "      <th>29</th>\n",
       "      <td>1.171</td>\n",
       "      <td>69.273</td>\n",
       "      <td>18.633</td>\n",
       "      <td>8.300</td>\n",
       "    </tr>\n",
       "    <tr>\n",
       "      <th>30</th>\n",
       "      <td>1.213</td>\n",
       "      <td>69.147</td>\n",
       "      <td>18.640</td>\n",
       "      <td>8.363</td>\n",
       "    </tr>\n",
       "    <tr>\n",
       "      <th>31</th>\n",
       "      <td>1.226</td>\n",
       "      <td>68.294</td>\n",
       "      <td>18.869</td>\n",
       "      <td>8.826</td>\n",
       "    </tr>\n",
       "    <tr>\n",
       "      <th>32</th>\n",
       "      <td>1.111</td>\n",
       "      <td>71.076</td>\n",
       "      <td>18.122</td>\n",
       "      <td>7.248</td>\n",
       "    </tr>\n",
       "    <tr>\n",
       "      <th>33</th>\n",
       "      <td>0.183</td>\n",
       "      <td>75.714</td>\n",
       "      <td>20.750</td>\n",
       "      <td>2.488</td>\n",
       "    </tr>\n",
       "    <tr>\n",
       "      <th>34</th>\n",
       "      <td>0.162</td>\n",
       "      <td>76.150</td>\n",
       "      <td>20.345</td>\n",
       "      <td>2.524</td>\n",
       "    </tr>\n",
       "    <tr>\n",
       "      <th>35</th>\n",
       "      <td>0.113</td>\n",
       "      <td>77.845</td>\n",
       "      <td>19.108</td>\n",
       "      <td>2.275</td>\n",
       "    </tr>\n",
       "    <tr>\n",
       "      <th>36</th>\n",
       "      <td>1.309</td>\n",
       "      <td>62.382</td>\n",
       "      <td>22.754</td>\n",
       "      <td>9.311</td>\n",
       "    </tr>\n",
       "    <tr>\n",
       "      <th>37</th>\n",
       "      <td>1.638</td>\n",
       "      <td>60.112</td>\n",
       "      <td>23.320</td>\n",
       "      <td>9.972</td>\n",
       "    </tr>\n",
       "    <tr>\n",
       "      <th>38</th>\n",
       "      <td>1.589</td>\n",
       "      <td>60.519</td>\n",
       "      <td>23.128</td>\n",
       "      <td>9.970</td>\n",
       "    </tr>\n",
       "    <tr>\n",
       "      <th>39</th>\n",
       "      <td>1.411</td>\n",
       "      <td>61.585</td>\n",
       "      <td>23.133</td>\n",
       "      <td>9.339</td>\n",
       "    </tr>\n",
       "    <tr>\n",
       "      <th>40</th>\n",
       "      <td>1.457</td>\n",
       "      <td>61.332</td>\n",
       "      <td>23.239</td>\n",
       "      <td>9.321</td>\n",
       "    </tr>\n",
       "    <tr>\n",
       "      <th>41</th>\n",
       "      <td>0.397</td>\n",
       "      <td>72.291</td>\n",
       "      <td>21.761</td>\n",
       "      <td>3.836</td>\n",
       "    </tr>\n",
       "    <tr>\n",
       "      <th>42</th>\n",
       "      <td>0.328</td>\n",
       "      <td>73.451</td>\n",
       "      <td>21.429</td>\n",
       "      <td>3.419</td>\n",
       "    </tr>\n",
       "    <tr>\n",
       "      <th>43</th>\n",
       "      <td>0.242</td>\n",
       "      <td>74.888</td>\n",
       "      <td>20.939</td>\n",
       "      <td>2.875</td>\n",
       "    </tr>\n",
       "    <tr>\n",
       "      <th>44</th>\n",
       "      <td>1.367</td>\n",
       "      <td>60.507</td>\n",
       "      <td>23.603</td>\n",
       "      <td>9.839</td>\n",
       "    </tr>\n",
       "  </tbody>\n",
       "</table>\n",
       "</div>"
      ],
      "text/plain": [
       "    pu238   pu239   pu240  pu241\n",
       "0   0.126  75.804  21.204  2.180\n",
       "1   0.133  75.515  21.408  2.240\n",
       "2   0.127  75.175  21.668  2.305\n",
       "3   0.156  78.872  18.428  1.906\n",
       "4   0.503  73.317  20.223  4.128\n",
       "5   0.113  79.116  18.548  1.690\n",
       "6   0.129  75.751  21.162  2.260\n",
       "7   0.124  75.326  21.557  2.282\n",
       "8   1.022  63.287  24.493  6.990\n",
       "9   1.412  59.553  25.576  8.027\n",
       "10  1.533  58.688  25.719  8.279\n",
       "11  1.534  58.758  25.692  8.261\n",
       "12  1.437  59.728  25.146  8.377\n",
       "13  1.439  59.544  25.126  8.569\n",
       "14  1.375  59.877  25.128  8.428\n",
       "15  1.153  61.182  25.100  7.802\n",
       "16  0.201  78.244  18.488  2.351\n",
       "17  0.176  78.166  18.629  2.365\n",
       "18  0.239  74.254  21.515  2.901\n",
       "19  0.102  79.840  17.872  1.674\n",
       "20  1.070  62.455  24.656  7.512\n",
       "21  0.851  73.189  18.285  5.597\n",
       "22  0.125  75.968  20.794  2.407\n",
       "23  0.142  75.957  20.867  2.341\n",
       "24  0.352  72.885  21.718  3.618\n",
       "25  0.351  72.907  21.721  3.601\n",
       "26  0.346  72.919  21.713  3.600\n",
       "27  0.217  76.089  20.225  2.556\n",
       "28  1.068  70.129  18.573  7.689\n",
       "29  1.171  69.273  18.633  8.300\n",
       "30  1.213  69.147  18.640  8.363\n",
       "31  1.226  68.294  18.869  8.826\n",
       "32  1.111  71.076  18.122  7.248\n",
       "33  0.183  75.714  20.750  2.488\n",
       "34  0.162  76.150  20.345  2.524\n",
       "35  0.113  77.845  19.108  2.275\n",
       "36  1.309  62.382  22.754  9.311\n",
       "37  1.638  60.112  23.320  9.972\n",
       "38  1.589  60.519  23.128  9.970\n",
       "39  1.411  61.585  23.133  9.339\n",
       "40  1.457  61.332  23.239  9.321\n",
       "41  0.397  72.291  21.761  3.836\n",
       "42  0.328  73.451  21.429  3.419\n",
       "43  0.242  74.888  20.939  2.875\n",
       "44  1.367  60.507  23.603  9.839"
      ]
     },
     "execution_count": 2,
     "metadata": {},
     "output_type": "execute_result"
    }
   ],
   "source": [
    "df = pd.DataFrame({'pu238': [0.126, 0.133, 0.127, 0.156, 0.503, 0.113, 0.129, 0.124, 1.022, 1.412, 1.533, 1.534, 1.437, 1.439,\n",
    "                             1.375, 1.153, 0.201, 0.176, 0.239, 0.102, 1.070, 0.851, 0.125, 0.142, 0.352, 0.351, 0.346, 0.217,\n",
    "                             1.068, 1.171, 1.213, 1.226, 1.111, 0.183, 0.162, 0.113, 1.309, 1.638, 1.589, 1.411, 1.457, 0.397,\n",
    "                             0.328, 0.242, 1.367],\n",
    "                   'pu239': [75.804, 75.515, 75.175, 78.872, 73.317, 79.116, 75.751, 75.326, 63.287, 59.553, 58.688, 58.758, \n",
    "                             59.728, 59.544, 59.877, 61.182, 78.244, 78.166, 74.254, 79.840, 62.455, 73.189, 75.968, 75.957,\n",
    "                             72.885,72.907, 72.919, 76.089, 70.129, 69.273, 69.147, 68.294, 71.076, 75.714, 76.150, 77.845,\n",
    "                             62.382, 60.112, 60.519, 61.585, 61.332, 72.291, 73.451, 74.888, 60.507],\n",
    "                   'pu240': [21.204, 21.408, 21.668, 18.428, 20.223, 18.548, 21.162, 21.557, 24.493, 25.576, 25.719, 25.692,\n",
    "                             25.146, 25.126, 25.128, 25.100, 18.488, 18.629, 21.515, 17.872, 24.656, 18.285, 20.794, 20.867,\n",
    "                             21.718, 21.721, 21.713, 20.225, 18.573, 18.633, 18.640, 18.869, 18.122, 20.750, 20.345, 19.108,\n",
    "                             22.754, 23.320, 23.128, 23.133, 23.239, 21.761, 21.429, 20.939, 23.603],\n",
    "                   'pu241': [2.180, 2.240, 2.305, 1.906, 4.128, 1.690, 2.260, 2.282, 6.990, 8.027, 8.279, 8.261, 8.377, 8.569,\n",
    "                             8.428, 7.802, 2.351, 2.365, 2.901, 1.674, 7.512, 5.597, 2.407, 2.341, 3.618, 3.601, 3.600, 2.556,\n",
    "                             7.689, 8.300, 8.363, 8.826, 7.248, 2.488, 2.524, 2.275, 9.311, 9.972, 9.970, 9.339, 9.321, 3.836,\n",
    "                             3.419, 2.875, 9.839]\n",
    "                  })\n",
    "df"
   ]
  },
  {
   "cell_type": "code",
   "execution_count": 3,
   "id": "09e22374",
   "metadata": {},
   "outputs": [
    {
     "data": {
      "text/plain": [
       "['pu238', 'pu239', 'pu240', 'pu241']"
      ]
     },
     "execution_count": 3,
     "metadata": {},
     "output_type": "execute_result"
    }
   ],
   "source": [
    "cols = df.columns.to_list()\n",
    "cols"
   ]
  },
  {
   "cell_type": "code",
   "execution_count": 4,
   "id": "08ea561a",
   "metadata": {},
   "outputs": [
    {
     "name": "stdout",
     "output_type": "stream",
     "text": [
      "pu238: ShapiroResult(statistic=0.8199635744094849, pvalue=6.733238933520624e-06)\n",
      "pu239: ShapiroResult(statistic=0.8647032380104065, pvalue=8.951310883276165e-05)\n",
      "pu240: ShapiroResult(statistic=0.9316781759262085, pvalue=0.010755813680589199)\n",
      "pu241: ShapiroResult(statistic=0.8336212635040283, pvalue=1.4246789760363754e-05)\n"
     ]
    }
   ],
   "source": [
    "for col in cols:\n",
    "    print(f'{col}: {stats.shapiro(df[col])}')"
   ]
  },
  {
   "cell_type": "code",
   "execution_count": 5,
   "id": "2281ea2c",
   "metadata": {},
   "outputs": [
    {
     "data": {
      "image/png": "[encoded data removed]",
      "text/plain": [
       "<Figure size 1600x400 with 4 Axes>"
      ]
     },
     "metadata": {},
     "output_type": "display_data"
    }
   ],
   "source": [
    "plt.figure(figsize = [4*4, 4])\n",
    "\n",
    "for i,col in enumerate(cols, 1):\n",
    "    plt.subplot(1, 4, i)\n",
    "    stats.probplot(df[col], dist=\"norm\", plot=plt)\n",
    "    plt.title(f'{col}')"
   ]
  },
  {
   "cell_type": "markdown",
   "id": "4860cb9f",
   "metadata": {},
   "source": [
    "Т.к. не соблюдаются условия применимости ANOVA, используем непараметрический тест (критерий Крускала–Уоллиса)."
   ]
  },
  {
   "cell_type": "code",
   "execution_count": 7,
   "id": "bdc387d8",
   "metadata": {},
   "outputs": [
    {
     "data": {
      "text/plain": [
       "KruskalResult(statistic=167.8178522154513, pvalue=3.76478949748032e-36)"
      ]
     },
     "execution_count": 7,
     "metadata": {},
     "output_type": "execute_result"
    }
   ],
   "source": [
    "stats.kruskal(df['pu238'], df['pu239'], df['pu240'], df['pu241'])"
   ]
  },
  {
   "cell_type": "markdown",
   "id": "bed0a063",
   "metadata": {},
   "source": [
    "***\n",
    "## Задание 2.\n",
    "\n",
    "### Даны квартальные прибыли акции Johnson&Johnson с 1960-1980 гг.\n",
    "\n",
    "### 2.1 Провести EDA (проверка на нормальность, проверка на однородность дисперсий с помощью Барлетт теста)."
   ]
  },
  {
   "cell_type": "code",
   "execution_count": 8,
   "id": "e41c68cd",
   "metadata": {},
   "outputs": [],
   "source": [
    "df = pd.DataFrame({\n",
    "    'jj1': [0.71, 0.63, 0.85, 0.44, 0.61, 0.69, 0.92, 0.55, 0.72, 0.77, 0.92, 0.60, 0.83, 0.80, 1.00, 0.77, 0.92, 1.00, 1.24, 1.00, 1.16],\n",
    "    'jj2': [1.30, 1.45, 1.25, 1.26, 1.38, 1.86, 1.56, 1.53, 1.59, 1.83, 1.86, 1.53, 2.07, 2.34, 2.25, 2.16, 2.43, 2.70, 2.25, 2.79, 3.42],\n",
    "    'jj3': [3.69, 3.60, 3.60, 4.32, 4.32, 4.05, 4.86, 5.04, 5.04, 4.41, 5.58, 5.85, 6.57, 5.31, 6.03, 6.39, 6.93, 5.85, 6.93, 7.74, 7.83],\n",
    "    'jj4': [6.12, 7.74, 8.91, 8.28, 6.84, 9.54, 10.26, 9.54, 8.73, 11.88, 12.06, 12.15, 8.91, 14.04, 12.96, 14.85, 9.99, 16.20, 14.67, 16.02, 11.61]\n",
    "})"
   ]
  },
  {
   "cell_type": "code",
   "execution_count": 9,
   "id": "38ebbad2",
   "metadata": {},
   "outputs": [
    {
     "data": {
      "text/plain": [
       "['jj1', 'jj2', 'jj3', 'jj4']"
      ]
     },
     "execution_count": 9,
     "metadata": {},
     "output_type": "execute_result"
    }
   ],
   "source": [
    "cols = df.columns.to_list()\n",
    "cols"
   ]
  },
  {
   "cell_type": "code",
   "execution_count": 10,
   "id": "7dfc4062",
   "metadata": {},
   "outputs": [
    {
     "name": "stdout",
     "output_type": "stream",
     "text": [
      "jj1: ShapiroResult(statistic=0.9837694764137268, pvalue=0.9688350558280945)\n",
      "jj2: ShapiroResult(statistic=0.9252575635910034, pvalue=0.11057926714420319)\n",
      "jj3: ShapiroResult(statistic=0.9523218274116516, pvalue=0.37654614448547363)\n",
      "jj4: ShapiroResult(statistic=0.9590807557106018, pvalue=0.49780404567718506)\n"
     ]
    }
   ],
   "source": [
    "for col in cols:\n",
    "    print(f'{col}: {stats.shapiro(df[col])}')"
   ]
  },
  {
   "cell_type": "code",
   "execution_count": 11,
   "id": "bb90c26f",
   "metadata": {},
   "outputs": [
    {
     "data": {
      "image/png": "[encoded data removed]",
      "text/plain": [
       "<Figure size 1600x400 with 4 Axes>"
      ]
     },
     "metadata": {},
     "output_type": "display_data"
    }
   ],
   "source": [
    "plt.figure(figsize = [4*4, 4])\n",
    "\n",
    "for i,col in enumerate(cols, 1):\n",
    "    plt.subplot(1, 4, i)\n",
    "    stats.probplot(df[col], dist=\"norm\", plot=plt)\n",
    "    plt.title(f'{col}')"
   ]
  },
  {
   "cell_type": "code",
   "execution_count": 12,
   "id": "162386f7",
   "metadata": {},
   "outputs": [
    {
     "data": {
      "text/plain": [
       "BartlettResult(statistic=109.62893110687122, pvalue=1.3188378332498206e-23)"
      ]
     },
     "execution_count": 12,
     "metadata": {},
     "output_type": "execute_result"
    }
   ],
   "source": [
    "# проверка на однородность дисперсий\n",
    "stats.bartlett(df['jj1'], df['jj2'], df['jj3'], df['jj4'])"
   ]
  },
  {
   "cell_type": "markdown",
   "id": "83c7ffee",
   "metadata": {},
   "source": [
    "### 2.2 Есть ли различия прибыли между 4-мя кварталами?"
   ]
  },
  {
   "cell_type": "code",
   "execution_count": 13,
   "id": "f35821b1",
   "metadata": {},
   "outputs": [
    {
     "data": {
      "text/plain": [
       "F_onewayResult(statistic=162.03157448390618, pvalue=6.81307443530621e-34)"
      ]
     },
     "execution_count": 13,
     "metadata": {},
     "output_type": "execute_result"
    }
   ],
   "source": [
    "stats.f_oneway(df['jj1'], df['jj2'], df['jj3'], df['jj4'])"
   ]
  },
  {
   "cell_type": "markdown",
   "id": "0a6e5f45",
   "metadata": {},
   "source": [
    "### 2.3 Провести post hoc tests. Между какими группами не обнаружено статистически значимых различий?"
   ]
  },
  {
   "cell_type": "code",
   "execution_count": 14,
   "id": "a1189de9",
   "metadata": {},
   "outputs": [
    {
     "data": {
      "image/png": "[encoded data removed]",
      "text/plain": [
       "<Figure size 500x600 with 1 Axes>"
      ]
     },
     "metadata": {},
     "output_type": "display_data"
    }
   ],
   "source": [
    "plt.figure(figsize=(5, 6))\n",
    "\n",
    "sns.boxplot(data=[df['jj1'], df['jj2'], df['jj3'], df['jj4']]);\n",
    "\n",
    "plt.xticks([0, 1, 2, 3], ['jj1', 'jj2', 'jj3', 'jj4']);"
   ]
  },
  {
   "cell_type": "code",
   "execution_count": 15,
   "id": "21ad8ad2",
   "metadata": {},
   "outputs": [
    {
     "data": {
      "text/html": [
       "<div>\n",
       "<style scoped>\n",
       "    .dataframe tbody tr th:only-of-type {\n",
       "        vertical-align: middle;\n",
       "    }\n",
       "\n",
       "    .dataframe tbody tr th {\n",
       "        vertical-align: top;\n",
       "    }\n",
       "\n",
       "    .dataframe thead th {\n",
       "        text-align: right;\n",
       "    }\n",
       "</style>\n",
       "<table border=\"1\" class=\"dataframe\">\n",
       "  <thead>\n",
       "    <tr style=\"text-align: right;\">\n",
       "      <th></th>\n",
       "      <th>score</th>\n",
       "      <th>group</th>\n",
       "    </tr>\n",
       "  </thead>\n",
       "  <tbody>\n",
       "    <tr>\n",
       "      <th>0</th>\n",
       "      <td>0.71</td>\n",
       "      <td>jj1</td>\n",
       "    </tr>\n",
       "    <tr>\n",
       "      <th>1</th>\n",
       "      <td>0.63</td>\n",
       "      <td>jj1</td>\n",
       "    </tr>\n",
       "    <tr>\n",
       "      <th>2</th>\n",
       "      <td>0.85</td>\n",
       "      <td>jj1</td>\n",
       "    </tr>\n",
       "    <tr>\n",
       "      <th>3</th>\n",
       "      <td>0.44</td>\n",
       "      <td>jj1</td>\n",
       "    </tr>\n",
       "    <tr>\n",
       "      <th>4</th>\n",
       "      <td>0.61</td>\n",
       "      <td>jj1</td>\n",
       "    </tr>\n",
       "    <tr>\n",
       "      <th>...</th>\n",
       "      <td>...</td>\n",
       "      <td>...</td>\n",
       "    </tr>\n",
       "    <tr>\n",
       "      <th>79</th>\n",
       "      <td>9.99</td>\n",
       "      <td>jj4</td>\n",
       "    </tr>\n",
       "    <tr>\n",
       "      <th>80</th>\n",
       "      <td>16.20</td>\n",
       "      <td>jj4</td>\n",
       "    </tr>\n",
       "    <tr>\n",
       "      <th>81</th>\n",
       "      <td>14.67</td>\n",
       "      <td>jj4</td>\n",
       "    </tr>\n",
       "    <tr>\n",
       "      <th>82</th>\n",
       "      <td>16.02</td>\n",
       "      <td>jj4</td>\n",
       "    </tr>\n",
       "    <tr>\n",
       "      <th>83</th>\n",
       "      <td>11.61</td>\n",
       "      <td>jj4</td>\n",
       "    </tr>\n",
       "  </tbody>\n",
       "</table>\n",
       "<p>84 rows × 2 columns</p>\n",
       "</div>"
      ],
      "text/plain": [
       "    score group\n",
       "0    0.71   jj1\n",
       "1    0.63   jj1\n",
       "2    0.85   jj1\n",
       "3    0.44   jj1\n",
       "4    0.61   jj1\n",
       "..    ...   ...\n",
       "79   9.99   jj4\n",
       "80  16.20   jj4\n",
       "81  14.67   jj4\n",
       "82  16.02   jj4\n",
       "83  11.61   jj4\n",
       "\n",
       "[84 rows x 2 columns]"
      ]
     },
     "execution_count": 15,
     "metadata": {},
     "output_type": "execute_result"
    }
   ],
   "source": [
    "n = df.shape[0]\n",
    "data = pd.DataFrame({'score': np.hstack([df['jj1'], df['jj2'], df['jj3'], df['jj4']]),\n",
    "                     'group': np.repeat(['jj1', 'jj2', 'jj3', 'jj4'], repeats=n)})\n",
    "data"
   ]
  },
  {
   "cell_type": "code",
   "execution_count": 16,
   "id": "7cb65bb5",
   "metadata": {},
   "outputs": [
    {
     "name": "stdout",
     "output_type": "stream",
     "text": [
      "Multiple Comparison of Means - Tukey HSD, FWER=0.05 \n",
      "====================================================\n",
      "group1 group2 meandiff p-adj   lower   upper  reject\n",
      "----------------------------------------------------\n",
      "   jj1    jj2   1.1276 0.1282 -0.2087   2.464  False\n",
      "   jj1    jj3     4.61    0.0  3.2737  5.9463   True\n",
      "   jj1    jj4  10.1986    0.0  8.8622 11.5349   True\n",
      "   jj2    jj3   3.4824    0.0   2.146  4.8187   True\n",
      "   jj2    jj4    9.071    0.0  7.7346 10.4073   True\n",
      "   jj3    jj4   5.5886    0.0  4.2522  6.9249   True\n",
      "----------------------------------------------------\n"
     ]
    }
   ],
   "source": [
    "from statsmodels.stats.multicomp import pairwise_tukeyhsd\n",
    "\n",
    "tukey = pairwise_tukeyhsd(endog=data['score'],\n",
    "                          groups=data['group'],\n",
    "                          alpha=0.05)\n",
    "print(tukey)"
   ]
  },
  {
   "cell_type": "markdown",
   "id": "6d042d31",
   "metadata": {},
   "source": [
    "Между 1м и 2м кварталом статистически значимых различий не обнаружено."
   ]
  },
  {
   "cell_type": "markdown",
   "id": "2b0ada3e",
   "metadata": {},
   "source": [
    "***\n",
    "## Задание 3.\n",
    "\n",
    "### Даны веса пациентов до и после диеты. Веса распределены нормально."
   ]
  },
  {
   "cell_type": "code",
   "execution_count": 17,
   "id": "41a2f1c7",
   "metadata": {},
   "outputs": [
    {
     "data": {
      "text/html": [
       "<div>\n",
       "<style scoped>\n",
       "    .dataframe tbody tr th:only-of-type {\n",
       "        vertical-align: middle;\n",
       "    }\n",
       "\n",
       "    .dataframe tbody tr th {\n",
       "        vertical-align: top;\n",
       "    }\n",
       "\n",
       "    .dataframe thead th {\n",
       "        text-align: right;\n",
       "    }\n",
       "</style>\n",
       "<table border=\"1\" class=\"dataframe\">\n",
       "  <thead>\n",
       "    <tr style=\"text-align: right;\">\n",
       "      <th></th>\n",
       "      <th>X</th>\n",
       "      <th>Y</th>\n",
       "    </tr>\n",
       "  </thead>\n",
       "  <tbody>\n",
       "    <tr>\n",
       "      <th>0</th>\n",
       "      <td>92.8</td>\n",
       "      <td>87.1</td>\n",
       "    </tr>\n",
       "    <tr>\n",
       "      <th>1</th>\n",
       "      <td>95.6</td>\n",
       "      <td>84.1</td>\n",
       "    </tr>\n",
       "    <tr>\n",
       "      <th>2</th>\n",
       "      <td>92.1</td>\n",
       "      <td>81.3</td>\n",
       "    </tr>\n",
       "    <tr>\n",
       "      <th>3</th>\n",
       "      <td>100.6</td>\n",
       "      <td>77.0</td>\n",
       "    </tr>\n",
       "    <tr>\n",
       "      <th>4</th>\n",
       "      <td>96.2</td>\n",
       "      <td>86.0</td>\n",
       "    </tr>\n",
       "    <tr>\n",
       "      <th>5</th>\n",
       "      <td>92.1</td>\n",
       "      <td>82.9</td>\n",
       "    </tr>\n",
       "    <tr>\n",
       "      <th>6</th>\n",
       "      <td>96.7</td>\n",
       "      <td>83.0</td>\n",
       "    </tr>\n",
       "    <tr>\n",
       "      <th>7</th>\n",
       "      <td>97.6</td>\n",
       "      <td>85.5</td>\n",
       "    </tr>\n",
       "    <tr>\n",
       "      <th>8</th>\n",
       "      <td>97.0</td>\n",
       "      <td>85.2</td>\n",
       "    </tr>\n",
       "    <tr>\n",
       "      <th>9</th>\n",
       "      <td>93.9</td>\n",
       "      <td>84.6</td>\n",
       "    </tr>\n",
       "  </tbody>\n",
       "</table>\n",
       "</div>"
      ],
      "text/plain": [
       "       X     Y\n",
       "0   92.8  87.1\n",
       "1   95.6  84.1\n",
       "2   92.1  81.3\n",
       "3  100.6  77.0\n",
       "4   96.2  86.0\n",
       "5   92.1  82.9\n",
       "6   96.7  83.0\n",
       "7   97.6  85.5\n",
       "8   97.0  85.2\n",
       "9   93.9  84.6"
      ]
     },
     "execution_count": 17,
     "metadata": {},
     "output_type": "execute_result"
    }
   ],
   "source": [
    "df = pd.DataFrame({'X': [92.8 , 95.6, 92.1, 100.6, 96.2, 92.1, 96.7, 97.6, 97.0, 93.9],\n",
    "                   'Y': [87.1, 84.1, 81.3, 77.0, 86.0, 82.9, 83.0, 85.5, 85.2, 84.6]})\n",
    "df"
   ]
  },
  {
   "cell_type": "code",
   "execution_count": 18,
   "id": "14e25435",
   "metadata": {},
   "outputs": [
    {
     "data": {
      "image/png": "[encoded data removed]",
      "text/plain": [
       "<Figure size 300x400 with 1 Axes>"
      ]
     },
     "metadata": {},
     "output_type": "display_data"
    }
   ],
   "source": [
    "plt.figure(figsize=(3, 4))\n",
    "\n",
    "sns.boxplot(data=[df['X'], df['Y']]);\n",
    "\n",
    "plt.xticks([0, 1], ['X', 'Y']);"
   ]
  },
  {
   "cell_type": "markdown",
   "id": "6ccfa4ff",
   "metadata": {},
   "source": [
    "### Проверить гипотезу о, том что средний вес пациентов после диеты статистически меньше веса до диеты.\n",
    "\n",
    "Речь идет о случайной величине $\\bar{D}=\\bar{x}-\\bar{y}$ – случайной разнице между случайными значениями $\\bar{x}$ и $\\bar{y}$ выборочных средних.\n",
    "\n",
    "Проверяем гипотезу о том, что генеральная средняя (матожидание) этой разницы равна нулю $H_0: M(\\bar{D})=0$ против $H_1: M(\\bar{D})>0$ (правосторонняя)."
   ]
  },
  {
   "cell_type": "code",
   "execution_count": 19,
   "id": "ee1da143",
   "metadata": {},
   "outputs": [
    {
     "data": {
      "text/plain": [
       "(95.46000000000001, 83.67)"
      ]
     },
     "execution_count": 19,
     "metadata": {},
     "output_type": "execute_result"
    }
   ],
   "source": [
    "Mx, My = df['X'].mean(), df['Y'].mean()\n",
    "Mx, My"
   ]
  },
  {
   "cell_type": "code",
   "execution_count": 20,
   "id": "12b1acdf",
   "metadata": {},
   "outputs": [
    {
     "data": {
      "text/plain": [
       "(10, 10)"
      ]
     },
     "execution_count": 20,
     "metadata": {},
     "output_type": "execute_result"
    }
   ],
   "source": [
    "alpha = 0.05\n",
    "n, m = df['X'].count(), df['Y'].count()\n",
    "n, m"
   ]
  },
  {
   "cell_type": "code",
   "execution_count": 21,
   "id": "5beaa0e7",
   "metadata": {},
   "outputs": [
    {
     "data": {
      "text/plain": [
       "1.7340636066175354"
      ]
     },
     "execution_count": 21,
     "metadata": {},
     "output_type": "execute_result"
    }
   ],
   "source": [
    "from scipy.stats import t\n",
    "\n",
    "k = n + m - 2\n",
    "Tk = t.ppf(1-alpha, k)\n",
    "Tk"
   ]
  },
  {
   "cell_type": "code",
   "execution_count": 22,
   "id": "3a8c5c90",
   "metadata": {},
   "outputs": [
    {
     "data": {
      "text/plain": [
       "7.972831441034034"
      ]
     },
     "execution_count": 22,
     "metadata": {},
     "output_type": "execute_result"
    }
   ],
   "source": [
    "d = df['X'] - df['Y']\n",
    "Md = np.sum(d)/n\n",
    "Sd = np.sqrt((np.sum(d**2) - np.sum(d)**2/n) / (n-1))\n",
    "\n",
    "Tn = Md * np.sqrt(n) / Sd\n",
    "Tn"
   ]
  },
  {
   "cell_type": "code",
   "execution_count": 23,
   "id": "4b059ed1",
   "metadata": {},
   "outputs": [
    {
     "name": "stdout",
     "output_type": "stream",
     "text": [
      "H0: M(D)=0 is False\n"
     ]
    }
   ],
   "source": [
    "print(f'H0: M(D)=0 is {Tn<Tk}')"
   ]
  },
  {
   "cell_type": "code",
   "execution_count": 24,
   "id": "f0cc78b0",
   "metadata": {},
   "outputs": [
    {
     "data": {
      "text/plain": [
       "(7.972831441034037, 2.2744427446816035e-05)"
      ]
     },
     "execution_count": 24,
     "metadata": {},
     "output_type": "execute_result"
    }
   ],
   "source": [
    "# H1: M(X) <> M(Y)\n",
    "Tn, p_value = stats.ttest_rel(df['X'], df['Y'], alternative='two-sided') # по умолчанию\n",
    "Tn, p_value"
   ]
  },
  {
   "cell_type": "code",
   "execution_count": 25,
   "id": "c89142c9",
   "metadata": {},
   "outputs": [
    {
     "name": "stdout",
     "output_type": "stream",
     "text": [
      "H0: M(D)=0 is False\n"
     ]
    }
   ],
   "source": [
    "print(f'H0: M(D)=0 is {p_value > alpha}')"
   ]
  },
  {
   "cell_type": "markdown",
   "id": "f7d9ca9d",
   "metadata": {},
   "source": [
    "**Т.к. $p-value < \\alpha$, то гипотезу $H_0: M(\\bar{D})=0$ на уровне значимости 0.05 отклоняем в пользу гипотезы о неравенстве стредних.**"
   ]
  },
  {
   "cell_type": "code",
   "execution_count": 27,
   "id": "d20d9116",
   "metadata": {},
   "outputs": [
    {
     "data": {
      "text/plain": [
       "(7.972831441034037, 0.9999886277862766)"
      ]
     },
     "execution_count": 27,
     "metadata": {},
     "output_type": "execute_result"
    }
   ],
   "source": [
    "# H1: M(X) < M(Y)\n",
    "Tn, p_value = stats.ttest_rel(df['X'], df['Y'], alternative='less')\n",
    "Tn, p_value"
   ]
  },
  {
   "cell_type": "code",
   "execution_count": 28,
   "id": "72a4262a",
   "metadata": {},
   "outputs": [
    {
     "name": "stdout",
     "output_type": "stream",
     "text": [
      "H0: M(D)=0 is True\n"
     ]
    }
   ],
   "source": [
    "print(f'H0: M(D)=0 is {p_value > alpha}')"
   ]
  },
  {
   "cell_type": "markdown",
   "id": "9349e55c",
   "metadata": {},
   "source": [
    "**Т.к. $p-value > \\alpha$, то гипотезу $H_0: M(\\bar{D})=0$ на уровне значимости 0.05 принимаем, а гипотезу $H_1: M(\\bar{D})<0$ отклоняем.**"
   ]
  },
  {
   "cell_type": "code",
   "execution_count": 29,
   "id": "71e9db91",
   "metadata": {},
   "outputs": [
    {
     "data": {
      "text/plain": [
       "(7.972831441034037, 1.1372213723408018e-05)"
      ]
     },
     "execution_count": 29,
     "metadata": {},
     "output_type": "execute_result"
    }
   ],
   "source": [
    "# H1: M(X) > M(Y)\n",
    "Tn, p_value = stats.ttest_rel(df['X'], df['Y'], alternative='greater')\n",
    "Tn, p_value"
   ]
  },
  {
   "cell_type": "code",
   "execution_count": 30,
   "id": "02b4887a",
   "metadata": {},
   "outputs": [
    {
     "name": "stdout",
     "output_type": "stream",
     "text": [
      "H0: M(D)=0 is False\n"
     ]
    }
   ],
   "source": [
    "print(f'H0: M(D)=0 is {p_value > alpha}')"
   ]
  },
  {
   "cell_type": "markdown",
   "id": "c71feada",
   "metadata": {},
   "source": [
    "**Т.к. $p-value < \\alpha$, то гипотеза $H_0: M(\\bar{D})=0$ на уровне значимости 0.05 отклоняем в пользу гипотезы $H_1: M(\\bar{D})>0$.**"
   ]
  },
  {
   "cell_type": "code",
   "execution_count": null,
   "id": "0842877a",
   "metadata": {},
   "outputs": [],
   "source": []
  }
 ],
 "metadata": {
  "kernelspec": {
   "display_name": "Python 3 (ipykernel)",
   "language": "python",
   "name": "python3"
  },
  "language_info": {
   "codemirror_mode": {
    "name": "ipython",
    "version": 3
   },
   "file_extension": ".py",
   "mimetype": "text/x-python",
   "name": "python",
   "nbconvert_exporter": "python",
   "pygments_lexer": "ipython3",
   "version": "3.9.13"
  }
 },
 "nbformat": 4,
 "nbformat_minor": 5
}
