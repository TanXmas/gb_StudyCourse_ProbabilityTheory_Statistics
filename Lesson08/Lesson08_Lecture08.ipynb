{
 "cells": [
  {
   "cell_type": "markdown",
   "id": "2214e568",
   "metadata": {},
   "source": [
    "# Урок 8. Корреляционный анализ\n",
    "\n",
    "**Корреляция** – это математический показатель, по которому можно судить о наличии статистической взаимосвязи между двумя и более случайными величинами."
   ]
  },
  {
   "cell_type": "code",
   "execution_count": 1,
   "id": "0d7d8c0a",
   "metadata": {},
   "outputs": [],
   "source": [
    "import numpy as np\n",
    "import pandas as pd\n",
    "\n",
    "import scipy.stats as stats\n",
    "\n",
    "import matplotlib.pyplot as plt"
   ]
  },
  {
   "cell_type": "markdown",
   "id": "9ef90307",
   "metadata": {},
   "source": [
    "***\n",
    "## Ковариация\n",
    "\n",
    "**Ковариация** – это величина, определяющая зависимость  двух случайных величин.\n",
    "\n",
    "$\\displaystyle cov_{xy} = M(XY) - M(X) \\cdot M(Y)$, где \\\n",
    "$\\displaystyle M(XY) = \\sum_{i=1}^{n} \\sum_{j=1}^{m} x_i y_j p_{ij}$, \\\n",
    "$\\displaystyle M(X) = \\sum_{i=1}^{n}{x_i p_i}$, \\\n",
    "$\\displaystyle M(Y) = \\sum_{j=1}^{m}{y_j p_j}$\n",
    "\n",
    "Масштаб ковариации зависит от дисперсии, поэтому  по ковариации нельзя судить о силе взаимосвязи СВ."
   ]
  },
  {
   "cell_type": "code",
   "execution_count": 2,
   "id": "ca854ad0",
   "metadata": {},
   "outputs": [],
   "source": [
    "X = np.array([1.2, 1.6, 1.8, 1.8, 2.5, 2.6, 3, 3.3])\n",
    "Y = np.array([27, 37, 42, 48, 57, 56, 77, 80])"
   ]
  },
  {
   "cell_type": "code",
   "execution_count": 3,
   "id": "49e1d6bc",
   "metadata": {},
   "outputs": [
    {
     "data": {
      "text/plain": [
       "11.662500000000023"
      ]
     },
     "execution_count": 3,
     "metadata": {},
     "output_type": "execute_result"
    }
   ],
   "source": [
    "np.mean(X*Y) - np.mean(X) * np.mean(Y)"
   ]
  },
  {
   "cell_type": "code",
   "execution_count": 4,
   "id": "3fe9302d",
   "metadata": {},
   "outputs": [
    {
     "data": {
      "text/plain": [
       "array([[  0.471875,  11.6625  ],\n",
       "       [ 11.6625  , 301.      ]])"
      ]
     },
     "execution_count": 4,
     "metadata": {},
     "output_type": "execute_result"
    }
   ],
   "source": [
    "np.cov(X, Y, ddof=0)"
   ]
  },
  {
   "cell_type": "markdown",
   "id": "401d3720",
   "metadata": {},
   "source": [
    "***\n",
    "## Коэффициент корреляции\n",
    "\n",
    "**Коэффициент корреляции** – это коэффициент, который показывает, насколько велика линейная зависимость между случайными величинами.\n",
    "\n",
    "***\n",
    "### Коэффициент корреляции Пирсона\n",
    "\n",
    "$r_{xy} = \\cfrac{cov_{xy}}{\\sigma_x \\sigma_y}$"
   ]
  },
  {
   "cell_type": "code",
   "execution_count": 5,
   "id": "40c9c8b4",
   "metadata": {},
   "outputs": [
    {
     "data": {
      "text/plain": [
       "0.9785768205829909"
      ]
     },
     "execution_count": 5,
     "metadata": {},
     "output_type": "execute_result"
    }
   ],
   "source": [
    "cov = np.cov(X, Y, ddof=0)[1,0]\n",
    "SDx = np.std(X, ddof=0)\n",
    "SDy = np.std(Y, ddof=0)\n",
    "cov / (SDx * SDy)"
   ]
  },
  {
   "cell_type": "code",
   "execution_count": 6,
   "id": "3f4cb238",
   "metadata": {},
   "outputs": [
    {
     "data": {
      "text/plain": [
       "0.9785768205829907"
      ]
     },
     "execution_count": 6,
     "metadata": {},
     "output_type": "execute_result"
    }
   ],
   "source": [
    "cov = np.cov(X, Y, ddof=1)[1,0]\n",
    "SDx = np.std(X, ddof=1)\n",
    "SDy = np.std(Y, ddof=1)\n",
    "cov / (SDx * SDy)"
   ]
  },
  {
   "cell_type": "code",
   "execution_count": 7,
   "id": "5c041cae",
   "metadata": {},
   "outputs": [
    {
     "data": {
      "text/plain": [
       "array([[1.        , 0.97857682],\n",
       "       [0.97857682, 1.        ]])"
      ]
     },
     "execution_count": 7,
     "metadata": {},
     "output_type": "execute_result"
    }
   ],
   "source": [
    "np.corrcoef(X, Y)"
   ]
  },
  {
   "cell_type": "markdown",
   "id": "d0baf4fa",
   "metadata": {},
   "source": [
    "***\n",
    "### Коэффициент корреляции Спирмена\n",
    "\n",
    "Коэффициент корреляции Спирмена называют ранговым коэффициентом корреляции. Он также показывает тесноту линейной связи, но в отличии от коэффициента корреляции Пирсона не требует нормальности распределений случайных величин и применяется для количественных и  порядковых данных."
   ]
  },
  {
   "cell_type": "code",
   "execution_count": 8,
   "id": "1b362beb",
   "metadata": {},
   "outputs": [],
   "source": [
    "X = np.array([1.2, 1.6, 1.8, 1.8, 2.5, 2.6, 3, 3.3])\n",
    "Y = np.array([27, 37, 42, 48, 57, 56, 77, 80])"
   ]
  },
  {
   "cell_type": "code",
   "execution_count": 9,
   "id": "3123eea7",
   "metadata": {},
   "outputs": [
    {
     "data": {
      "text/html": [
       "<div>\n",
       "<style scoped>\n",
       "    .dataframe tbody tr th:only-of-type {\n",
       "        vertical-align: middle;\n",
       "    }\n",
       "\n",
       "    .dataframe tbody tr th {\n",
       "        vertical-align: top;\n",
       "    }\n",
       "\n",
       "    .dataframe thead th {\n",
       "        text-align: right;\n",
       "    }\n",
       "</style>\n",
       "<table border=\"1\" class=\"dataframe\">\n",
       "  <thead>\n",
       "    <tr style=\"text-align: right;\">\n",
       "      <th></th>\n",
       "      <th>X</th>\n",
       "      <th>Y</th>\n",
       "      <th>Xr</th>\n",
       "      <th>Yr</th>\n",
       "    </tr>\n",
       "  </thead>\n",
       "  <tbody>\n",
       "    <tr>\n",
       "      <th>0</th>\n",
       "      <td>1.2</td>\n",
       "      <td>27</td>\n",
       "      <td>1.0</td>\n",
       "      <td>1.0</td>\n",
       "    </tr>\n",
       "    <tr>\n",
       "      <th>1</th>\n",
       "      <td>1.6</td>\n",
       "      <td>37</td>\n",
       "      <td>2.0</td>\n",
       "      <td>2.0</td>\n",
       "    </tr>\n",
       "    <tr>\n",
       "      <th>2</th>\n",
       "      <td>1.8</td>\n",
       "      <td>42</td>\n",
       "      <td>3.5</td>\n",
       "      <td>3.0</td>\n",
       "    </tr>\n",
       "    <tr>\n",
       "      <th>3</th>\n",
       "      <td>1.8</td>\n",
       "      <td>48</td>\n",
       "      <td>3.5</td>\n",
       "      <td>4.0</td>\n",
       "    </tr>\n",
       "    <tr>\n",
       "      <th>4</th>\n",
       "      <td>2.5</td>\n",
       "      <td>57</td>\n",
       "      <td>5.0</td>\n",
       "      <td>6.0</td>\n",
       "    </tr>\n",
       "    <tr>\n",
       "      <th>5</th>\n",
       "      <td>2.6</td>\n",
       "      <td>56</td>\n",
       "      <td>6.0</td>\n",
       "      <td>5.0</td>\n",
       "    </tr>\n",
       "    <tr>\n",
       "      <th>6</th>\n",
       "      <td>3.0</td>\n",
       "      <td>77</td>\n",
       "      <td>7.0</td>\n",
       "      <td>7.0</td>\n",
       "    </tr>\n",
       "    <tr>\n",
       "      <th>7</th>\n",
       "      <td>3.3</td>\n",
       "      <td>80</td>\n",
       "      <td>8.0</td>\n",
       "      <td>8.0</td>\n",
       "    </tr>\n",
       "  </tbody>\n",
       "</table>\n",
       "</div>"
      ],
      "text/plain": [
       "     X   Y   Xr   Yr\n",
       "0  1.2  27  1.0  1.0\n",
       "1  1.6  37  2.0  2.0\n",
       "2  1.8  42  3.5  3.0\n",
       "3  1.8  48  3.5  4.0\n",
       "4  2.5  57  5.0  6.0\n",
       "5  2.6  56  6.0  5.0\n",
       "6  3.0  77  7.0  7.0\n",
       "7  3.3  80  8.0  8.0"
      ]
     },
     "execution_count": 9,
     "metadata": {},
     "output_type": "execute_result"
    }
   ],
   "source": [
    "n = X.shape[0]\n",
    "df = pd.DataFrame({'X': X, 'Y': Y})\n",
    "df['Xr'] = df['X'].rank()\n",
    "df['Yr'] = df['Y'].rank()\n",
    "df"
   ]
  },
  {
   "cell_type": "code",
   "execution_count": 10,
   "id": "8d95e54e",
   "metadata": {},
   "outputs": [
    {
     "data": {
      "text/plain": [
       "array([[1.        , 0.97007727],\n",
       "       [0.97007727, 1.        ]])"
      ]
     },
     "execution_count": 10,
     "metadata": {},
     "output_type": "execute_result"
    }
   ],
   "source": [
    "np.corrcoef(df['Xr'], df['Yr'])"
   ]
  },
  {
   "cell_type": "code",
   "execution_count": 11,
   "id": "5a1516f0",
   "metadata": {},
   "outputs": [
    {
     "data": {
      "text/plain": [
       "SpearmanrResult(correlation=0.9700772721497398, pvalue=6.548558831120599e-05)"
      ]
     },
     "execution_count": 11,
     "metadata": {},
     "output_type": "execute_result"
    }
   ],
   "source": [
    "stats.spearmanr(X, Y)"
   ]
  },
  {
   "cell_type": "markdown",
   "id": "999871f9",
   "metadata": {},
   "source": [
    "***\n",
    "### Условия применимости коэффициентов корреляции\n",
    "\n",
    "| Коэффициент корреляции Пирсона | Коэффициент корреляции Спирмена |\n",
    "| :--- | :--- |\n",
    "| параметрический метод | непараметрический метод |\n",
    "| нормальность | распределение может быть отличным от нормального |\n",
    "| количественные данные | количественные и порядковые признаки |\n"
   ]
  },
  {
   "cell_type": "markdown",
   "id": "f9a85659",
   "metadata": {},
   "source": [
    "***\n",
    "### Интерпретация коэффициента корреляции\n",
    "\n",
    "Коэффициент корреляции обозначается $r$ и принимает значения $[-1, 1]$. Теснота линейной взаимосвязи определяется по модулю, чем ближе по модулю к 1, тем сильнее линейная взаимосвязь. Знак показывает  прямая или обратная взаимосвязь между случайными величинами.\n",
    "\n",
    "| Значение $r$ | Интерпретация линейной зависимости |\n",
    "| --- | :--- |\n",
    "| 0 - 0.1   | нет линейной зависимости |\n",
    "| 0.1 - 0.3 | очень слабая |\n",
    "| 0.3 - 0.5 | слабая |\n",
    "| 0.5 - 0.7 | средняя (заметная) |\n",
    "| 0.7 - 0.9 | сильная |\n",
    "| 0.9 - 1   | очень сильная |\n",
    "\n",
    "Т.е. коэффициент корреляции -1 и 1 показывают одинаково сильную линейную зависимость. Только одна из них будет обратная (-1), а другая прямая зависимость (1).\n",
    "\n",
    "Прямая зависимость означает, что рост одной случайной величины сопровождается ростом другой случайной величины.\n",
    "<img src=\"./img/image1.png\" alt=\"image1\" width=\"250\"/>\n",
    "\n",
    "Обратная зависимость означает, что с увеличением одной случайной величины уменьшается другая случайная величина. \n",
    "<img src=\"./img/image2.png\" alt=\"image2\" width=\"250\"/>\n",
    "\n",
    "И если коэффициент корреляции равен или близок к нулю, то это говорит лишь о том, что между СВ нет линейной зависимости, но возможна какая-то другая зависимость, поэтому в таком случае рекомендуется построить график.\n",
    "<img src=\"./img/image3.png\" alt=\"image3\" width=\"250\"/>\n",
    "Одним из самых распространенных примеров из книг по статистики, который иллюстрирует справедливость вышеупомянутого факта, является квадратичная зависимость $y=x^2$. На графике четко видна параболла, но коэффициент корреляции показывает ноль."
   ]
  },
  {
   "cell_type": "code",
   "execution_count": 12,
   "id": "dedcfeaa",
   "metadata": {},
   "outputs": [
    {
     "data": {
      "text/plain": [
       "array([[ 1.00000000e+00, -3.07735001e-17],\n",
       "       [-3.07735001e-17,  1.00000000e+00]])"
      ]
     },
     "execution_count": 12,
     "metadata": {},
     "output_type": "execute_result"
    }
   ],
   "source": [
    "x = np.linspace(-10, 10, 21)\n",
    "y = x**2\n",
    "np.corrcoef(x,y)"
   ]
  },
  {
   "cell_type": "code",
   "execution_count": 13,
   "id": "93a22ff3",
   "metadata": {},
   "outputs": [
    {
     "data": {
      "image/png": "[encoded data removed]",
      "text/plain": [
       "<Figure size 640x480 with 1 Axes>"
      ]
     },
     "metadata": {},
     "output_type": "display_data"
    }
   ],
   "source": [
    "plt.scatter(x,y);"
   ]
  },
  {
   "cell_type": "markdown",
   "id": "d3b20ea9",
   "metadata": {},
   "source": [
    "***\n",
    "## Слабые стороны корреляционного анализа\n",
    "\n",
    "1. То, что коэффициент корреляции показывает ноль при наличии, например, квадратичной зависимости можно уже отнести к недостаткам корреляционного анализа.\n",
    "\n",
    "2. Еще одним недостатком может служить то, что случайные величины могут коррелировать по случайности.\n",
    "\n",
    "3. Высокая корреляции двух величин может свидетельствовать о том, что есть третья скрытая переменная.\n",
    "\n",
    "4. Можно перепутать причинно-следственную связи, т.е. что является причиной, а что следствием.\n",
    "\n",
    "5. Коэффициент корреляции не показывает, как быстро изменяется зависимая переменная $y$ при изменении независимой переменной $x$."
   ]
  },
  {
   "cell_type": "code",
   "execution_count": null,
   "id": "5744c423",
   "metadata": {},
   "outputs": [],
   "source": []
  }
 ],
 "metadata": {
  "kernelspec": {
   "display_name": "Python 3 (ipykernel)",
   "language": "python",
   "name": "python3"
  },
  "language_info": {
   "codemirror_mode": {
    "name": "ipython",
    "version": 3
   },
   "file_extension": ".py",
   "mimetype": "text/x-python",
   "name": "python",
   "nbconvert_exporter": "python",
   "pygments_lexer": "ipython3",
   "version": "3.9.13"
  }
 },
 "nbformat": 4,
 "nbformat_minor": 5
}
