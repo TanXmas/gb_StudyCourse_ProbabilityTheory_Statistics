{
 "cells": [
  {
   "cell_type": "markdown",
   "id": "79880b1e",
   "metadata": {},
   "source": [
    "# Урок 8. Корреляционный анализ"
   ]
  },
  {
   "cell_type": "code",
   "execution_count": 1,
   "id": "87d63d0e",
   "metadata": {},
   "outputs": [],
   "source": [
    "import numpy as np\n",
    "import scipy.stats as stats\n",
    "import matplotlib.pyplot as plt"
   ]
  },
  {
   "cell_type": "markdown",
   "id": "d2a6e482",
   "metadata": {},
   "source": [
    "***\n",
    "## Задание 1.\n",
    "\n",
    "### Даны значения величины заработной платы заемщиков банка (zp) и значения их поведенческого кредитного скоринга (ks)."
   ]
  },
  {
   "cell_type": "code",
   "execution_count": 2,
   "id": "397ea5e8",
   "metadata": {},
   "outputs": [],
   "source": [
    "X = np.array([35, 45, 190, 200, 40, 70, 54, 150, 120, 110])\n",
    "Y = np.array([401, 574, 874, 919, 459, 739, 653, 902, 746, 832])"
   ]
  },
  {
   "cell_type": "markdown",
   "id": "c68297dd",
   "metadata": {},
   "source": [
    "### Найдите ковариацию этих двух величин с помощью элементарных действий"
   ]
  },
  {
   "cell_type": "code",
   "execution_count": 3,
   "id": "02c478d5",
   "metadata": {},
   "outputs": [
    {
     "data": {
      "text/plain": [
       "9157.839999999997"
      ]
     },
     "execution_count": 3,
     "metadata": {},
     "output_type": "execute_result"
    }
   ],
   "source": [
    "cov = np.mean(X*Y) - np.mean(X)*np.mean(Y)\n",
    "cov"
   ]
  },
  {
   "cell_type": "markdown",
   "id": "5b2eb0e2",
   "metadata": {},
   "source": [
    "### Найдите ковариацию этих двух величин с помощью функции cov из numpy."
   ]
  },
  {
   "cell_type": "code",
   "execution_count": 4,
   "id": "7085fb54",
   "metadata": {},
   "outputs": [
    {
     "data": {
      "text/plain": [
       "9157.84"
      ]
     },
     "execution_count": 4,
     "metadata": {},
     "output_type": "execute_result"
    }
   ],
   "source": [
    "np.cov(X, Y, ddof=0)[1,0]"
   ]
  },
  {
   "cell_type": "markdown",
   "id": "fdd35419",
   "metadata": {},
   "source": [
    "### Найдите коэффициент корреляции Пирсона с помощью ковариации и среднеквадратичных отклонений двух признаков"
   ]
  },
  {
   "cell_type": "code",
   "execution_count": 5,
   "id": "490cd72a",
   "metadata": {},
   "outputs": [
    {
     "data": {
      "text/plain": [
       "0.8874900920739158"
      ]
     },
     "execution_count": 5,
     "metadata": {},
     "output_type": "execute_result"
    }
   ],
   "source": [
    "SDx = np.std(X, ddof=0)\n",
    "SDy = np.std(Y, ddof=0)\n",
    "r = cov / (SDx * SDy)\n",
    "r"
   ]
  },
  {
   "cell_type": "markdown",
   "id": "420d8a71",
   "metadata": {},
   "source": [
    "### Найдите коэффициент корреляции Пирсона с использованием функций из библиотек numpy и pandas."
   ]
  },
  {
   "cell_type": "code",
   "execution_count": 6,
   "id": "eab2d7aa",
   "metadata": {},
   "outputs": [
    {
     "data": {
      "text/plain": [
       "0.8874900920739162"
      ]
     },
     "execution_count": 6,
     "metadata": {},
     "output_type": "execute_result"
    }
   ],
   "source": [
    "np.corrcoef(X, Y)[1,0]"
   ]
  },
  {
   "cell_type": "code",
   "execution_count": 7,
   "id": "0a86f124",
   "metadata": {},
   "outputs": [
    {
     "data": {
      "image/png": "[encoded data removed]",
      "text/plain": [
       "<Figure size 600x400 with 1 Axes>"
      ]
     },
     "metadata": {},
     "output_type": "display_data"
    }
   ],
   "source": [
    "plt.figure(figsize=(6,4))\n",
    "plt.scatter(X, Y)\n",
    "plt.title(f'r={r:.3f}')\n",
    "plt.xlabel('Величина заработной платы')\n",
    "plt.ylabel('Поведенческий кредитный скоринг', rotation=90);"
   ]
  },
  {
   "cell_type": "markdown",
   "id": "7970e58a",
   "metadata": {},
   "source": [
    "***\n",
    "## Задание 2.\n",
    "\n",
    "### Измерены значения IQ выборки студентов, обучающихся в местных технических вузах: 131, 125, 115, 122, 131, 115, 107, 99, 125, 111. Известно, что в генеральной совокупности IQ распределен нормально. Найдите доверительный интервал для математического ожидания с надежностью 0.95."
   ]
  },
  {
   "cell_type": "code",
   "execution_count": 8,
   "id": "0374b756",
   "metadata": {},
   "outputs": [
    {
     "data": {
      "text/plain": [
       "3.3348329959851224"
      ]
     },
     "execution_count": 8,
     "metadata": {},
     "output_type": "execute_result"
    }
   ],
   "source": [
    "X = np.array([131, 125, 115, 122, 131, 115, 107, 99, 125, 111])\n",
    "gamma = 0.95\n",
    "n = X.shape[0]\n",
    "Mx = np.mean(X)\n",
    "SDx = np.std(X, ddof=1)\n",
    "\n",
    "se = SDx/np.sqrt(n)\n",
    "se"
   ]
  },
  {
   "cell_type": "code",
   "execution_count": 9,
   "id": "da9ab3e9",
   "metadata": {},
   "outputs": [
    {
     "data": {
      "text/plain": [
       "2.26"
      ]
     },
     "execution_count": 9,
     "metadata": {},
     "output_type": "execute_result"
    }
   ],
   "source": [
    "alpha = 1 - gamma\n",
    "t = round(stats.t.ppf(1-alpha/2, n - 1),2)\n",
    "t"
   ]
  },
  {
   "cell_type": "code",
   "execution_count": 10,
   "id": "d6b353ff",
   "metadata": {},
   "outputs": [
    {
     "data": {
      "text/plain": [
       "(110.56327742907362, 125.63672257092637)"
      ]
     },
     "execution_count": 10,
     "metadata": {},
     "output_type": "execute_result"
    }
   ],
   "source": [
    "Mx-t*se, Mx+t*se"
   ]
  },
  {
   "cell_type": "markdown",
   "id": "0ae80648",
   "metadata": {},
   "source": [
    "***\n",
    "## Задание 3.\n",
    "\n",
    "### Известно, что рост футболистов в сборной распределен нормально с дисперсией генеральной совокупности, равной 25 кв.см. Объем выборки равен 27, среднее выборочное составляет 174.2. Найдите доверительный интервал для математического ожидания с надежностью 0.95."
   ]
  },
  {
   "cell_type": "code",
   "execution_count": 11,
   "id": "88da7ce6",
   "metadata": {},
   "outputs": [
    {
     "data": {
      "text/plain": [
       "0.9622504486493763"
      ]
     },
     "execution_count": 11,
     "metadata": {},
     "output_type": "execute_result"
    }
   ],
   "source": [
    "Dx, n, Mx, gamma  = 25, 27, 174.2, 0.95\n",
    "\n",
    "se = np.sqrt(Dx / n)\n",
    "se"
   ]
  },
  {
   "cell_type": "code",
   "execution_count": 12,
   "id": "b2890c01",
   "metadata": {},
   "outputs": [
    {
     "data": {
      "text/plain": [
       "1.96"
      ]
     },
     "execution_count": 12,
     "metadata": {},
     "output_type": "execute_result"
    }
   ],
   "source": [
    "alpha = 1 - gamma\n",
    "z = round(stats.norm.ppf(1-alpha/2),4)\n",
    "z"
   ]
  },
  {
   "cell_type": "code",
   "execution_count": 13,
   "id": "e8234198",
   "metadata": {},
   "outputs": [
    {
     "data": {
      "text/plain": [
       "(172.31398912064722, 176.08601087935276)"
      ]
     },
     "execution_count": 13,
     "metadata": {},
     "output_type": "execute_result"
    }
   ],
   "source": [
    "Mx-z*se, Mx+z*se"
   ]
  },
  {
   "cell_type": "code",
   "execution_count": null,
   "id": "ae6c98a6",
   "metadata": {},
   "outputs": [],
   "source": []
  }
 ],
 "metadata": {
  "kernelspec": {
   "display_name": "Python 3 (ipykernel)",
   "language": "python",
   "name": "python3"
  },
  "language_info": {
   "codemirror_mode": {
    "name": "ipython",
    "version": 3
   },
   "file_extension": ".py",
   "mimetype": "text/x-python",
   "name": "python",
   "nbconvert_exporter": "python",
   "pygments_lexer": "ipython3",
   "version": "3.9.13"
  }
 },
 "nbformat": 4,
 "nbformat_minor": 5
}
