{
 "cells": [
  {
   "cell_type": "markdown",
   "id": "13bd6e41",
   "metadata": {},
   "source": [
    "# Урок 3. Разведочный анализ / EDA (exploratory data analysis)"
   ]
  },
  {
   "cell_type": "code",
   "execution_count": 1,
   "id": "2f02742f",
   "metadata": {},
   "outputs": [],
   "source": [
    "import numpy as np"
   ]
  },
  {
   "cell_type": "markdown",
   "id": "9db604ad",
   "metadata": {},
   "source": [
    "***\n",
    "## Задание 1.\n",
    "\n",
    "### 1.1. Найти среднее арифметическое для выборки: 77, 79, 67, 95, 87, 91, 98, 100, 104, 105."
   ]
  },
  {
   "cell_type": "code",
   "execution_count": 2,
   "id": "716be286",
   "metadata": {},
   "outputs": [
    {
     "name": "stdout",
     "output_type": "stream",
     "text": [
      "M(X) = 90.3\n"
     ]
    }
   ],
   "source": [
    "X = np.array([77, 79, 67, 95, 87, 91, 98, 100, 104, 105])\n",
    "mx = sum(X)/X.shape[0]\n",
    "print(f'M(X) = {mx}')"
   ]
  },
  {
   "cell_type": "markdown",
   "id": "73cbafed",
   "metadata": {},
   "source": [
    "### 1.2. Найти медиану."
   ]
  },
  {
   "cell_type": "code",
   "execution_count": 3,
   "id": "0778be90",
   "metadata": {},
   "outputs": [
    {
     "name": "stdout",
     "output_type": "stream",
     "text": [
      "Me = 93.0\n"
     ]
    }
   ],
   "source": [
    "me = np.median(X)\n",
    "print(f'Me = {me}')"
   ]
  },
  {
   "cell_type": "markdown",
   "id": "c5e4359c",
   "metadata": {},
   "source": [
    "### 1.3. Найти интерквартильное расстояние."
   ]
  },
  {
   "cell_type": "code",
   "execution_count": 4,
   "id": "0cb903da",
   "metadata": {},
   "outputs": [
    {
     "name": "stdout",
     "output_type": "stream",
     "text": [
      "[ 67  77  79  87  91  95  98 100 104 105]\n",
      "IQR = 100 - 79 = 21\n"
     ]
    }
   ],
   "source": [
    "print(np.sort(X))\n",
    "q1 = np.quantile(X, 0.25, interpolation='lower')\n",
    "q3 = np.quantile(X, 0.75, interpolation='higher')\n",
    "print(f'IQR = {q3} - {q1} = {q3-q1}')"
   ]
  },
  {
   "cell_type": "code",
   "execution_count": 5,
   "id": "fb0a017d",
   "metadata": {},
   "outputs": [
    {
     "name": "stdout",
     "output_type": "stream",
     "text": [
      "D = 159.79\n",
      "\n"
     ]
    }
   ],
   "source": [
    "# несмещенная дисперсия\n",
    "d = np.var(X, ddof=1)\n",
    "print(f'D = {d:.2f}\\n')"
   ]
  },
  {
   "cell_type": "code",
   "execution_count": 6,
   "id": "0e306f43",
   "metadata": {},
   "outputs": [
    {
     "name": "stdout",
     "output_type": "stream",
     "text": [
      "SD = 12.64\n"
     ]
    }
   ],
   "source": [
    "# несмещенное стандартное отклонение\n",
    "sd = np.std(X, ddof=1)\n",
    "print(f'SD = {sd:.2f}')"
   ]
  },
  {
   "cell_type": "code",
   "execution_count": null,
   "id": "de8f978f",
   "metadata": {},
   "outputs": [],
   "source": []
  }
 ],
 "metadata": {
  "kernelspec": {
   "display_name": "Python 3 (ipykernel)",
   "language": "python",
   "name": "python3"
  },
  "language_info": {
   "codemirror_mode": {
    "name": "ipython",
    "version": 3
   },
   "file_extension": ".py",
   "mimetype": "text/x-python",
   "name": "python",
   "nbconvert_exporter": "python",
   "pygments_lexer": "ipython3",
   "version": "3.9.13"
  }
 },
 "nbformat": 4,
 "nbformat_minor": 5
}
