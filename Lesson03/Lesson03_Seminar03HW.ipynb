{
 "cells": [
  {
   "cell_type": "markdown",
   "id": "eb2c3aec",
   "metadata": {},
   "source": [
    "# Урок 3. Разведочный анализ / EDA (exploratory data analysis)"
   ]
  },
  {
   "cell_type": "code",
   "execution_count": 1,
   "id": "ff6633e3",
   "metadata": {},
   "outputs": [],
   "source": [
    "from math import sqrt, factorial\n",
    "import numpy as np"
   ]
  },
  {
   "cell_type": "markdown",
   "id": "fb32a544",
   "metadata": {},
   "source": [
    "***\n",
    "## Задание 1.\n",
    "\n",
    "### Даны значения зарплат из выборки выпускников: 100, 80, 75, 77, 89, 33, 45, 25, 65, 17, 30, 24, 57, 55, 70, 75, 65, 84, 90, 150. Посчитать (без использования статистических методов наподобие std, var, mean) среднее арифметическое, среднее квадратичное отклонение, смещенную и несмещенную оценки дисперсий для данной выборки."
   ]
  },
  {
   "cell_type": "code",
   "execution_count": 2,
   "id": "0b6927f0",
   "metadata": {},
   "outputs": [],
   "source": [
    "X = np.array([100, 80, 75, 77, 89, 33, 45, 25, 65, 17, 30, 24, 57, 55, 70, 75, 65, 84, 90, 150])"
   ]
  },
  {
   "cell_type": "markdown",
   "id": "af0807c0",
   "metadata": {},
   "source": [
    "### 1) среднее арифметическое\n",
    "\n",
    "Для выборки объемом $m$: $\\displaystyle \\bar X = \\frac{1}{m}\\sum^{m}_{i=1}{x_i}$"
   ]
  },
  {
   "cell_type": "code",
   "execution_count": 3,
   "id": "ae8bbc66",
   "metadata": {},
   "outputs": [],
   "source": [
    "def mean(arr):\n",
    "    return sum(arr)/len(arr)"
   ]
  },
  {
   "cell_type": "code",
   "execution_count": 4,
   "id": "77f565f8",
   "metadata": {},
   "outputs": [
    {
     "name": "stdout",
     "output_type": "stream",
     "text": [
      "Среднее арифметическое: 65.3\n",
      "\n"
     ]
    }
   ],
   "source": [
    "print(f'Среднее арифметическое: {mean(X)}\\n')"
   ]
  },
  {
   "cell_type": "markdown",
   "id": "5501ba03",
   "metadata": {},
   "source": [
    "### 2) смещеная и несмещенная оценки дисперсий для данной выборки\n",
    "\n",
    "**Смещенная дисперсия**: $\\displaystyle \\sigma^2 = \\frac{\\sum^{n}_{i=1}{(x_i-\\bar X)^2}}{n}$\n",
    "\n",
    "**Несмещенная дисперсия**: $\\displaystyle S^2 = \\frac{\\sum^{n}_{i=1}{(x_i-\\bar X)^2}}{n-1}$"
   ]
  },
  {
   "cell_type": "code",
   "execution_count": 5,
   "id": "a305bbba",
   "metadata": {},
   "outputs": [],
   "source": [
    "def variance(arr, unbiased=False):\n",
    "    x_ = mean(arr)\n",
    "    return sum((arr-x_)**2)/(len(arr) - 1*int(unbiased))"
   ]
  },
  {
   "cell_type": "code",
   "execution_count": 6,
   "id": "228aa48a",
   "metadata": {},
   "outputs": [
    {
     "name": "stdout",
     "output_type": "stream",
     "text": [
      "Смещенная дисперсия: 950.11\n",
      "Несмещенная дисперсия: 1000.1158\n",
      "\n"
     ]
    }
   ],
   "source": [
    "print(f'Смещенная дисперсия: {variance(X)}')\n",
    "print(f'Несмещенная дисперсия: {variance(X, True):.4f}\\n')"
   ]
  },
  {
   "cell_type": "markdown",
   "id": "adcfe045",
   "metadata": {},
   "source": [
    "### 3) среднее квадратичное отклонение\n",
    "\n",
    "Несмещенное стандартное отклонение (т.к. объем выборки $<100$): $\\displaystyle S = \\sqrt{S^2}$"
   ]
  },
  {
   "cell_type": "code",
   "execution_count": 7,
   "id": "f3825687",
   "metadata": {},
   "outputs": [],
   "source": [
    "def sd(arr, unbiased=True):\n",
    "    return sqrt(variance(arr, unbiased))"
   ]
  },
  {
   "cell_type": "code",
   "execution_count": 8,
   "id": "42ddcecc",
   "metadata": {},
   "outputs": [
    {
     "name": "stdout",
     "output_type": "stream",
     "text": [
      "Несмещенное стандартное отклонение: 31.6246\n"
     ]
    }
   ],
   "source": [
    "print(f'Несмещенное стандартное отклонение: {sd(X, True):.4f}')"
   ]
  },
  {
   "cell_type": "markdown",
   "id": "73100af8",
   "metadata": {},
   "source": [
    "***\n",
    "## Задание 2.\n",
    "\n",
    "### В первом ящике находится 8 мячей, из которых 5 - белые. Во втором ящике - 12 мячей, из которых 5 белых. Из первого ящика вытаскивают случайным образом два мяча, из второго - 4. Какова вероятность того, что 3 мяча белые?\n",
    "\n",
    "Из классического определения вероятности: $\\displaystyle P(A)= \\frac{m}{n}$ \\\n",
    "$n = C_8^2 \\cdot C_{12}^4$ - количество способов достать 2 мяча из 1-го ящика и 4 мяча из 2-го ящика.\n",
    "\n",
    "Событие $A$ - достали 3 белых мяча будет складываться из 3-х вариантов:\n",
    "1) из 1-го ящика не вытащили ни одного белого мяча, из 2-го вытащили 3 белых мяча: $C_3^2 \\cdot C_5^3 \\cdot C_7^1$ \\\n",
    "2) из 1-го ящика вытащили 1 белый мяч, из 2-го - 2 белых мяча: $C_5^1 \\cdot C_3^1 \\cdot C_5^2 \\cdot C_7^2$ \\\n",
    "3) из 1-го ящика вытащили 2 белых мяча, из 2-го - 1 белый мяч: $С_5^2 \\cdot C_5^1 \\cdot C_7^3$"
   ]
  },
  {
   "cell_type": "code",
   "execution_count": 10,
   "id": "5b8ff6e3",
   "metadata": {},
   "outputs": [
    {
     "name": "stdout",
     "output_type": "stream",
     "text": [
      "P(A) = 0.3687\n"
     ]
    }
   ],
   "source": [
    "# сочетание C - кол-во способов взять k элем-ов из множ-ва n без учета порядка расположения\n",
    "def C(n, k):\n",
    "    return factorial(n) // (factorial(k) * (factorial(n - k)))\n",
    "\n",
    "A = C(3,2)*C(5,3)*C(7,1) + C(5,1)*C(3,1)*C(5,2)*C(7,2) + C(5,2)*C(5,1)*C(7,3)\n",
    "O = C(8,2)*C(12,4)\n",
    "print(f'P(A) = {A/O:.4f}')"
   ]
  },
  {
   "cell_type": "markdown",
   "id": "1585e9df",
   "metadata": {},
   "source": [
    "***\n",
    "## Задание 3.\n",
    "\n",
    "### На соревновании по биатлону один из трех спортсменов стреляет и попадает в мишень. Вероятность попадания для первого спортсмена равна 0.9, для второго — 0.8, для третьего — 0.6. Найти вероятность того, что выстрел произведен: a) первым спортсменом; б) вторым спортсменом; в) третьим спортсменом.\n",
    "\n",
    "Формула Байеса: $\\displaystyle P(A|B) = \\frac{P(B|A)}{P(B)}\\cdot P(A)$\n",
    "\n",
    "$В$ - спортсмен попадает в мишень, \\\n",
    "$A_1$ - 1-й спорсмен, $A_2$ - 2-ой спорсмен, $A_3$ - 3-й спортсмен.\n",
    "\n",
    "$P(B|A_1) = 0.9 \\\\\n",
    "P(B|A_2) = 0.8 \\\\\n",
    "P(B|A_3) = 0.6$\n",
    "\n",
    "$\\displaystyle P(A_1) = P(A_2) = P(A_3) = \\frac{1}{3}$\n",
    "\n",
    "По формула полной вероятности: $\\displaystyle P(B) = \\sum_{i=1}^n{P(B|A_i)\\cdot P(A_i)} = 0.9\\cdot\\frac{1}{3}+0.8\\cdot\\frac{1}{3}+0.6\\cdot\\frac{1}{3} = 0.7667$"
   ]
  },
  {
   "cell_type": "code",
   "execution_count": 11,
   "id": "76b907ba",
   "metadata": {},
   "outputs": [
    {
     "name": "stdout",
     "output_type": "stream",
     "text": [
      "P(B) = 0.7667\n"
     ]
    }
   ],
   "source": [
    "pb = 1/3 * (0.9 + 0.8 + 0.6)\n",
    "print(f'P(B) = {pb:.4f}')"
   ]
  },
  {
   "cell_type": "markdown",
   "id": "e8357ba8",
   "metadata": {},
   "source": [
    "### a) Найти вероятность того, что выстрел произведен первым спортсменом.\n",
    "\n",
    "$\\displaystyle P(A_1|B) = \\frac{P(B|A_1)}{P(B)}\\cdot P(A_1) = 0.3913$"
   ]
  },
  {
   "cell_type": "code",
   "execution_count": 12,
   "id": "410dc835",
   "metadata": {},
   "outputs": [
    {
     "name": "stdout",
     "output_type": "stream",
     "text": [
      "P(A1|B) = 0.3913\n"
     ]
    }
   ],
   "source": [
    "print(f'P(A1|B) = {0.9 / pb * 1/3:.4f}')"
   ]
  },
  {
   "cell_type": "markdown",
   "id": "a8561482",
   "metadata": {},
   "source": [
    "### б) Найти вероятность того, что выстрел произведен вторым спортсменом.\n",
    "\n",
    "$\\displaystyle P(A_2|B) = \\frac{P(B|A_2)}{P(B)}\\cdot P(A_2) = 0.3478$"
   ]
  },
  {
   "cell_type": "code",
   "execution_count": 13,
   "id": "bb053b22",
   "metadata": {},
   "outputs": [
    {
     "name": "stdout",
     "output_type": "stream",
     "text": [
      "P(A2|B) = 0.3478\n"
     ]
    }
   ],
   "source": [
    "print(f'P(A2|B) = {0.8 / pb * 1/3:.4f}')"
   ]
  },
  {
   "cell_type": "markdown",
   "id": "e05c96b5",
   "metadata": {},
   "source": [
    "### в) Найти вероятность того, что выстрел произведен третьим спортсменом.\n",
    "\n",
    "$\\displaystyle P(A_3|B) = \\frac{P(B|A_3)}{P(B)}\\cdot P(A_3) = 0.2609$"
   ]
  },
  {
   "cell_type": "code",
   "execution_count": 14,
   "id": "2ba32ae0",
   "metadata": {},
   "outputs": [
    {
     "name": "stdout",
     "output_type": "stream",
     "text": [
      "P(A3|B) = 0.2609\n"
     ]
    }
   ],
   "source": [
    "print(f'P(A3|B) = {0.6 / pb * 1/3:.4f}')"
   ]
  },
  {
   "cell_type": "markdown",
   "id": "f947ed89",
   "metadata": {},
   "source": [
    "***\n",
    "## Задание 4.\n",
    "\n",
    "### В университет на факультеты A и B поступило равное количество студентов, а на факультет C студентов поступило столько же, сколько на A и B вместе. Вероятность того, что студент факультета A сдаст первую сессию, равна 0.8. Для студента факультета B эта вероятность равна 0.7, а для студента факультета C - 0.9. Студент сдал первую сессию. Какова вероятность, что он учится: a) на факультете A; б) на факультете B; в) на факультете C?\n",
    "\n",
    "Формула Байеса: $\\displaystyle P(A|B) = \\frac{P(B|A)}{P(B)}\\cdot P(A)$\n",
    "\n",
    "$В$ - студент сдал первую сессию, \\\n",
    "$A_a$ - студент с факультета А, $A_b$ - студент с факультета В, $A_c$ - студент с факультета С.\n",
    "\n",
    "$P(B|A_a) = 0.8 \\\\\n",
    "P(B|A_b) = 0.7 \\\\\n",
    "P(B|A_c) = 0.9$\n",
    "\n",
    "$\\displaystyle P(A_a) = P(A_b) = \\frac{1}{4} \\\\\n",
    "P(A_c) = \\frac{1}{2}$\n",
    "\n",
    "По формула полной вероятности: $\\displaystyle P(B) = \\sum_{i=1}^n{P(B|A_i)\\cdot P(A_i)} = 0.8\\cdot\\frac{1}{4}+0.7\\cdot\\frac{1}{4}+0.9\\cdot\\frac{1}{2} = 0.825$"
   ]
  },
  {
   "cell_type": "code",
   "execution_count": 15,
   "id": "631199a5",
   "metadata": {},
   "outputs": [
    {
     "name": "stdout",
     "output_type": "stream",
     "text": [
      "P(B) = 0.8250\n"
     ]
    }
   ],
   "source": [
    "pb = 1/4 * (0.8 + 0.7) + 0.9 * 1/2\n",
    "print(f'P(B) = {pb:.4f}')"
   ]
  },
  {
   "cell_type": "markdown",
   "id": "051c22cd",
   "metadata": {},
   "source": [
    "### а) Какова вероятность, что cтудент сдавший первую сессию учится на факультете A?\n",
    "\n",
    "$\\displaystyle P(A_a|B) = \\frac{P(B|A_a)}{P(B)}\\cdot P(A_a) = 0.2424$"
   ]
  },
  {
   "cell_type": "code",
   "execution_count": 16,
   "id": "b7963e0f",
   "metadata": {},
   "outputs": [
    {
     "name": "stdout",
     "output_type": "stream",
     "text": [
      "P(Aa|B) = 0.2424\n"
     ]
    }
   ],
   "source": [
    "print(f'P(Aa|B) = {0.8 / pb * 1/4:.4f}')"
   ]
  },
  {
   "cell_type": "markdown",
   "id": "eda3c1c8",
   "metadata": {},
   "source": [
    "### б) Какова вероятность, что cтудент сдавший первую сессию учится на факультете B?\n",
    "\n",
    "$\\displaystyle P(A_b|B) = \\frac{P(B|A_b)}{P(B)}\\cdot P(A_b) = 0.2121$"
   ]
  },
  {
   "cell_type": "code",
   "execution_count": 17,
   "id": "c448fbc7",
   "metadata": {},
   "outputs": [
    {
     "name": "stdout",
     "output_type": "stream",
     "text": [
      "P(Ab|B) = 0.2121\n"
     ]
    }
   ],
   "source": [
    "print(f'P(Ab|B) = {0.7 / pb * 1/4:.4f}')"
   ]
  },
  {
   "cell_type": "markdown",
   "id": "fe39ce7f",
   "metadata": {},
   "source": [
    "### в) Какова вероятность, что cтудент сдавший первую сессию учится на факультете C?\n",
    "\n",
    "$\\displaystyle P(A_c|B) = \\frac{P(B|A_c)}{P(B)}\\cdot P(A_c) = 0.5455$"
   ]
  },
  {
   "cell_type": "code",
   "execution_count": 18,
   "id": "062dc031",
   "metadata": {},
   "outputs": [
    {
     "name": "stdout",
     "output_type": "stream",
     "text": [
      "P(Ac|B) = 0.5455\n"
     ]
    }
   ],
   "source": [
    "print(f'P(Ac|B) = {0.9 / pb * 1/2:.4f}')"
   ]
  },
  {
   "cell_type": "markdown",
   "id": "025863ee",
   "metadata": {},
   "source": [
    "***\n",
    "## Задание 5.\n",
    "\n",
    "### Устройство состоит из трех деталей. Для первой детали вероятность выйти из строя в первый месяц равна 0.1, для второй - 0.2, для третьей - 0.25. Какова вероятность того, что в первый месяц выйдут из строя: а) все детали б) только две детали в) хотя бы одна деталь г) от одной до двух деталей?\n",
    "\n",
    "$A_1$ - первая деталь вышла из строя, $A_2$ - вторая деталь вышла из строя, $A_3$ - третья деталь вышла из строя.\n",
    "\n",
    "$P(A_1) = 0.1,\\;\\;\\;\\,P(\\bar{A_1}) = 1 - 0.1 = 0.9 \\\\\n",
    "P(A_2) = 0.2,\\;\\;\\;\\,P(\\bar{A_2}) = 1 - 0.2 = 0.8 \\\\\n",
    "P(A_3) = 0.25,\\;\\;P(\\bar{A_3}) = 1 - 0.25 = 0.75$"
   ]
  },
  {
   "cell_type": "markdown",
   "id": "09e9b8a6",
   "metadata": {},
   "source": [
    "### а) Какова вероятность того, что в первый месяц выйдут из строя все детали?\n",
    "\n",
    "По формуле вероятность одновременного появления независимых событий:\\\n",
    "$P(3) = P(A_1\\cdot A_2\\cdot A_3) = P(A_1)\\cdot P(A_2)\\cdot P(A_3) = 0.1\\cdot 0.2\\cdot 0.25 = 0.005$"
   ]
  },
  {
   "cell_type": "code",
   "execution_count": 19,
   "id": "23facd72",
   "metadata": {},
   "outputs": [
    {
     "name": "stdout",
     "output_type": "stream",
     "text": [
      "P(3) = 0.0050\n"
     ]
    }
   ],
   "source": [
    "print(f'P(3) = {0.1*0.2*0.25:.4f}')"
   ]
  },
  {
   "cell_type": "markdown",
   "id": "e34a1084",
   "metadata": {},
   "source": [
    "### б) Какова вероятность того, что в первый месяц выйдут из строя только две детали?\n",
    "\n",
    "Для того, чтобы произошло событие \"вышли из строя 2 детали\", необходимо что бы случилось одна из следующих комбинаций событий:\\\n",
    "1) $A_1$ и $A_2$ и $\\bar{A_3}$ \\\n",
    "2) $A_1$ и $\\bar{A_2}$ и $A_3$ \\\n",
    "3) $\\bar{A_1}$ и $A_2$ и $A_3$\n",
    "\n",
    "По формуле вероятность одновременного появления независимых событий: \\\n",
    "$P(A_1\\cdot A_2\\cdot\\bar{A_3}) = P(A_1)\\cdot (A_2)\\cdot P(\\bar{A_3}) \\\\\n",
    " P(A_1\\cdot \\bar{A_2}\\cdot A_3) = P(A_1)\\cdot (\\bar{A_2})\\cdot P(A_3) \\\\\n",
    " P(\\bar{A_1}\\cdot A_2\\cdot A_3) = P(\\bar{A_1})\\cdot (A_2)\\cdot P(A_3)$\n",
    " \n",
    "Воероятностью события \"вышли из строя 2 детали\" будет сумма вероятностей этих комбинаций:\n",
    "$P(2) = P(A_1)\\cdot (A_2)\\cdot P(\\bar{A_3}) + P(A_1)\\cdot (\\bar{A_2})\\cdot P(A_3) + P(\\bar{A_1})\\cdot (A_2)\\cdot P(A_3) =\n",
    "0.1\\cdot 0.2\\cdot 0.75 + 0.1\\cdot 0.8\\cdot 0.25 + 0.9\\cdot 0.2\\cdot 0.25 = 0.08$"
   ]
  },
  {
   "cell_type": "code",
   "execution_count": 20,
   "id": "a9054218",
   "metadata": {},
   "outputs": [
    {
     "name": "stdout",
     "output_type": "stream",
     "text": [
      "0.08000000000000002\n"
     ]
    }
   ],
   "source": [
    "print(0.1*0.2*0.75 + 0.1*0.8*0.25 + 0.9*0.2*0.25)"
   ]
  },
  {
   "cell_type": "markdown",
   "id": "963f09bb",
   "metadata": {},
   "source": [
    "### в) Какова вероятность того, что в первый месяц выйдут из строя хотя бы одна деталь?\n",
    "\n",
    "Пусть событие $A$ - сломалась хотя бы одна деталь, тогда $\\bar{A}$ - не сломалось ни одной детали.\n",
    "\n",
    "По правилу суммы для противоположных событий: $P(A) = 1-P(\\bar{A})$\n",
    "\n",
    "По формуле вероятность одновременного появления независимых событий: \\\n",
    "$P(\\bar{A}) = P(0) = P(\\bar{A_1})\\cdot P(\\bar{A_2})\\cdot P(\\bar{A_3}) = 0.9\\cdot 0.8\\cdot 0.75 = 0.54$ \\\n",
    "$P(A) = 1-P(\\bar{A}) = 1 - 0.54 = 0.46$"
   ]
  },
  {
   "cell_type": "code",
   "execution_count": 21,
   "id": "5f02f9ed",
   "metadata": {},
   "outputs": [
    {
     "name": "stdout",
     "output_type": "stream",
     "text": [
      "P(хобя бы 1 деталь) = 0.4600\n"
     ]
    }
   ],
   "source": [
    "print(f'P(хобя бы 1 деталь) = {1-0.9*0.8*0.75:.4f}')"
   ]
  },
  {
   "cell_type": "markdown",
   "id": "62dada4e",
   "metadata": {},
   "source": [
    "### б) Какова вероятность того, что в первый месяц выйдут из строя от одной до двух деталей?\n",
    "\n",
    "События \"не выйдет из строя ни одной детали\", \"из строя выйдет одна деталь\", \"из строя выйдет 2 детали\", \"из строя выйдут все детали\" - несовместны, и образуют полную группу событий, поэтому сумма вероятностей наступления этих событий равна $1$.\n",
    "\n",
    "$P(0) + P(1) + P(2) + P(3) = 0.54 + P(1) + 0.08 + 0.005 = 1\\;\\;\\Rightarrow\\;\\;P(1) = 1 - 0.625 = 0.375 \\\\\n",
    "P(1\\cup2) = P(1) + P(2) = 0.375 + 0.08 = 0.455$"
   ]
  },
  {
   "cell_type": "code",
   "execution_count": null,
   "id": "6d8a5e2c",
   "metadata": {},
   "outputs": [],
   "source": []
  }
 ],
 "metadata": {
  "kernelspec": {
   "display_name": "Python 3 (ipykernel)",
   "language": "python",
   "name": "python3"
  },
  "language_info": {
   "codemirror_mode": {
    "name": "ipython",
    "version": 3
   },
   "file_extension": ".py",
   "mimetype": "text/x-python",
   "name": "python",
   "nbconvert_exporter": "python",
   "pygments_lexer": "ipython3",
   "version": "3.9.13"
  }
 },
 "nbformat": 4,
 "nbformat_minor": 5
}
