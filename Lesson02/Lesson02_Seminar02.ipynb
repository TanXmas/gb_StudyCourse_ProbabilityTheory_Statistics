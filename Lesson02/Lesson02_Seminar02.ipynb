{
 "cells": [
  {
   "cell_type": "markdown",
   "id": "17839ac9",
   "metadata": {},
   "source": [
    "# Урок 2. Дискретные распределения вероятностей"
   ]
  },
  {
   "cell_type": "code",
   "execution_count": 1,
   "id": "df0cfd0b",
   "metadata": {},
   "outputs": [],
   "source": [
    "from math import sqrt, factorial, e\n",
    "\n",
    "# сочетание C - кол-во способов взять k элем-ов из множ-ва n без учета порядка расположения\n",
    "def C(n, k):\n",
    "    return factorial(n) // (factorial(k) * (factorial(n - k)))"
   ]
  },
  {
   "cell_type": "markdown",
   "id": "aabb55b8",
   "metadata": {},
   "source": [
    "***\n",
    "## Задание 1.\n",
    "\n",
    "### Найдите математическое ожидание случайной величины X, распределенной по биномиальному закону с параметрами n =100, р=0.3.\n",
    "\n",
    "$n = 100$ - число испытаний \\\n",
    "$p = 0.3$ - вероятность получить величину $X$ \\\n",
    "Сколько раз из 100 испытаний ожидаем получить $X$?\n",
    "\n",
    "$M(X) = 100 \\cdot 0.3 = 30$"
   ]
  },
  {
   "cell_type": "markdown",
   "id": "7678f26b",
   "metadata": {},
   "source": [
    "***\n",
    "## Задание 2.\n",
    "\n",
    "### Найти $σ$ случайной величины Х, распределенной по биномиальному закону с параметрами n=50, p=0.6.\n",
    "\n",
    "$D(X) = n \\cdot p \\cdot q = 50 \\cdot 0.6 \\cdot (1-0.6)$\n",
    "\n",
    "$σ = \\sqrt{D(X)}$"
   ]
  },
  {
   "cell_type": "code",
   "execution_count": 2,
   "id": "ca29093a",
   "metadata": {},
   "outputs": [
    {
     "name": "stdout",
     "output_type": "stream",
     "text": [
      "D(X) = 12.0\n",
      "o = 3.4641\n"
     ]
    }
   ],
   "source": [
    "d = 50 * 0.6 * (1-0.6)\n",
    "print(f'D(X) = {d}')\n",
    "\n",
    "o = sqrt(d)\n",
    "print(f'{o = :.4f}')"
   ]
  },
  {
   "cell_type": "markdown",
   "id": "2fe3fe66",
   "metadata": {},
   "source": [
    "***\n",
    "## Задание 3.\n",
    "\n",
    "### Вероятность события А в каждом независимом испытании 0.0015. Какова вероятность того, что при 2000 испытаниях событие А появится 3 раза.\n",
    "\n",
    "По формуле Пуассона: $P_m \\approx \\cfrac{λ^m}{m!} \\cdot e^{-λ}$\n",
    "\n",
    "$n = 2000$ \\\n",
    "$p = 0.0015$ \\\n",
    "$m = 3$\n",
    "\n",
    "$λ = n \\cdot p = 2000 * 0.0015 = 3$"
   ]
  },
  {
   "cell_type": "code",
   "execution_count": 3,
   "id": "471918d2",
   "metadata": {},
   "outputs": [
    {
     "name": "stdout",
     "output_type": "stream",
     "text": [
      "l = 3.0\n",
      "P(3) = 0.2240\n"
     ]
    }
   ],
   "source": [
    "l = 2000 * 0.0015\n",
    "print(f'{l = }')\n",
    "\n",
    "p = l ** 3 / factorial(3) * e ** (-l)\n",
    "print(f'P(3) = {p:.4f}')"
   ]
  },
  {
   "cell_type": "markdown",
   "id": "7dbe6b1b",
   "metadata": {},
   "source": [
    "***\n",
    "## Задание 4.\n",
    "\n",
    "### Подбрасывают 4 одинаковые монеты. Какова вероятность, что решка выпадет не более 1 раза?\n",
    "\n",
    "$P_n(X=k) = C_n^k \\cdot p^k \\cdot q^{n-k}$\n",
    "\n",
    "$n = 4$ \\\n",
    "$k = [0,1]$ \\\n",
    "$p = 0.5$ \\\n",
    "\n",
    "$P_n(X=0) = C^0_4 \\cdot 0,5^0 \\cdot 0,5^{4}$ \\\n",
    "$P_n(X=1) = C^1_4 \\cdot 0,5^1 \\cdot 0,5^{3}$"
   ]
  },
  {
   "cell_type": "code",
   "execution_count": 4,
   "id": "c127ab4f",
   "metadata": {},
   "outputs": [
    {
     "name": "stdout",
     "output_type": "stream",
     "text": [
      "0.3125\n"
     ]
    }
   ],
   "source": [
    "n, p = 4, 0.5\n",
    "print(sum([C(n,k) * p**k * (1-p)**(n-k) for k in [0,1]]))\n",
    "    "
   ]
  },
  {
   "cell_type": "markdown",
   "id": "321d531f",
   "metadata": {},
   "source": [
    "***\n",
    "## Задание 5.\n",
    "\n",
    "### Сколько раз надо подбросить игральный кубик, чтобы наивероятнейшее число выпаданий тройки было 30.\n",
    "\n",
    "$n\\cdot p-q \\leq k_0 \\leq n\\cdot p + p$\n",
    "\n",
    "$k_0 = 30$ \\\n",
    "$p = \\cfrac{1}{6}$ \\\n",
    "$q = \\cfrac{5}{6}$\n",
    "\n",
    "$n \\cdot \\cfrac{1}{6} - \\cfrac{5}{6} \\leq 30 \\leq n\\cdot \\cfrac{1}{6} + \\cfrac{1}{6}$\n",
    "\n",
    "$\\cfrac{n-5}{6} \\leq 30 \\leq \\cfrac{n+1}{6}$\n",
    "\n",
    "$n-5 \\leq 30 \\cdot 6 \\leq n+1$\n",
    "\n",
    "$\\left\\{ \n",
    "\\begin{array}{c}\n",
    "n-5 \\leq 180 \\\\\n",
    "n+1 \\geq 180 \\\\\n",
    "\\end{array}\n",
    "\\right.$\n",
    "\n",
    "$\\left\\{ \n",
    "\\begin{array}{c}\n",
    "n \\leq 185 \\\\\n",
    "n \\geq 179 \\\\\n",
    "\\end{array}\n",
    "\\right.$\n",
    "\n",
    "$n \\in [179,185]$"
   ]
  },
  {
   "cell_type": "markdown",
   "id": "3c0beac2",
   "metadata": {},
   "source": [
    "***\n",
    "## Задание 6.\n",
    "\n",
    "### Какова вероятность наступления события $B$ в каждом отдельном испытании, если наивероятнейшее число наступления события $B$ в 120 испытаниях составило 32?\n",
    "\n",
    "$n\\cdot p-q \\leq k_0 \\leq n\\cdot p + p$<br>\n",
    "\n",
    "$k_0 = 32$<br>\n",
    "$n = 120$<br>\n",
    "\n",
    "$120\\cdot p-(1-p) \\leq 32 \\leq 120\\cdot p + p$<br>\n",
    "\n",
    "$\\left\\{ \n",
    "\\begin{array}{c}\n",
    "121 \\cdot p-1 \\leq 32 \\\\\n",
    "121 \\cdot p \\geq 32\n",
    "\\end{array}\n",
    "\\right.$\n",
    "\n",
    "$\\left\\{ \n",
    "\\begin{array}{c}\n",
    "121 \\cdot p \\leq 33 \\\\\n",
    "121 \\cdot p \\geq 32\n",
    "\\end{array}\n",
    "\\right.$\n",
    "\n",
    "$\\left\\{ \n",
    "\\begin{array}{c}\n",
    "p \\leq \\cfrac{33}{121} \\\\\n",
    "p \\geq \\cfrac{32}{121}\n",
    "\\end{array}\n",
    "\\right.$"
   ]
  },
  {
   "cell_type": "markdown",
   "id": "76708022",
   "metadata": {},
   "source": [
    "***\n",
    "## Задание 7.\n",
    "\n",
    "### Определить наиболее вероятное число выпадений герба при 25 подбрасывания монет.\n",
    "\n",
    "$n \\cdot p-q \\leq k_0 \\leq n \\cdot p + p$\n",
    "\n",
    "$n = 25 \\\\ \n",
    " p = 0.5$\n",
    "\n",
    "$25 \\cdot 0.5-0.5 \\leq k_0 \\leq 25\\cdot 0.5 + 0.5$"
   ]
  },
  {
   "cell_type": "code",
   "execution_count": 5,
   "id": "bde2cdc7",
   "metadata": {},
   "outputs": [
    {
     "name": "stdout",
     "output_type": "stream",
     "text": [
      "12.0 <= k <= 13.0\n"
     ]
    }
   ],
   "source": [
    "l = 25*0.5 - 0.5\n",
    "r = 25*0.5 + 0.5\n",
    "print(f'{l} <= k <= {r}')"
   ]
  },
  {
   "cell_type": "markdown",
   "id": "69824273",
   "metadata": {},
   "source": [
    "***\n",
    "## Задание 8.\n",
    "\n",
    "### Вероятность рождения мальчиков 0.515. Найти наивероятнейшее число девочек из 600 новорожденных.\n",
    "\n",
    "$n \\cdot p-q \\leq k_0 \\leq n \\cdot p + p$\n",
    "\n",
    "$n = 600 \\\\\n",
    "p_m = 0.515 \\\\\n",
    "p_d = 1 - 0.515 = 0.485$\n",
    "\n",
    "$600 \\cdot 0.485-0.515 \\leq k_d \\leq 600 \\cdot 0.485 + 0.485 \\\\\n",
    "290 \\leq k_d \\leq 291$"
   ]
  },
  {
   "cell_type": "code",
   "execution_count": 6,
   "id": "a91e941e",
   "metadata": {},
   "outputs": [
    {
     "name": "stdout",
     "output_type": "stream",
     "text": [
      "290 <= k <= 291\n"
     ]
    }
   ],
   "source": [
    "l = int(600*0.485 - 0.515)\n",
    "r = int(600*0.485 + 0.485)\n",
    "print(f'{l} <= k <= {r}')"
   ]
  },
  {
   "cell_type": "markdown",
   "id": "c3ed32a2",
   "metadata": {},
   "source": [
    "***\n",
    "## Задание 9.\n",
    "\n",
    "### Известно, что в принятой для сборки партии из 1000 деталей имеются 4 дефектных. Найдите вероятность, что среди 50 случайно взятых деталей нет дефектных.\n",
    "\n",
    "$Х$ - дефектная деталь, $P(X) = 0.004$.\n",
    "\n",
    "\n",
    "По формуле Пуассона: $P_m \\approx \\cfrac{λ^m}{m!} \\cdot e^{-λ}$\n",
    "\n",
    "$n = 50 \\\\\n",
    "λ = 50 * 0,004 = 0.2 \\\\\n",
    "m = 0$ \n",
    "\n",
    "$P_{0} \\approx \\cfrac{0.2^{0}}{0!} \\cdot e^{-0.2} = 0.8187$"
   ]
  },
  {
   "cell_type": "code",
   "execution_count": 7,
   "id": "e7e34972",
   "metadata": {},
   "outputs": [
    {
     "name": "stdout",
     "output_type": "stream",
     "text": [
      "0.2\n",
      "0.8187307530779818\n"
     ]
    }
   ],
   "source": [
    "print(50 * 0.004)\n",
    "print(0.2**0 / factorial(0) * e**-0.2)"
   ]
  },
  {
   "cell_type": "markdown",
   "id": "aac2a3df",
   "metadata": {},
   "source": [
    "По формуле Бернулли: $P_n(X=k) = C^k_n \\cdot p^k \\cdot q^{n-k}$, где \\\n",
    "$k$ - число наступления события (дискретная величина из отрезка $[0,n]$) \\\n",
    "$n$ - число испытаний \\\n",
    "$p$ - вероятность наступления события $A$ в независимых испытаниях \\\n",
    "$q = 1 - p$\n",
    "\n",
    "$k = 0 \\\\\n",
    "n = 50 \\\\\n",
    "p = 0.004 \\\\\n",
    "q = 1-0.004$\n",
    "\n",
    "$P_{50}(X=0) = C^0_{50} \\cdot 0.004^0 \\cdot (1-0.004)^{50} = 0.8184$"
   ]
  },
  {
   "cell_type": "code",
   "execution_count": 8,
   "id": "4fbc7936",
   "metadata": {},
   "outputs": [
    {
     "name": "stdout",
     "output_type": "stream",
     "text": [
      "0.8184024506760997\n"
     ]
    }
   ],
   "source": [
    "print(C(50,0) * 0.004**0 * (1-0.004)**(50-0))"
   ]
  }
 ],
 "metadata": {
  "kernelspec": {
   "display_name": "Python 3 (ipykernel)",
   "language": "python",
   "name": "python3"
  },
  "language_info": {
   "codemirror_mode": {
    "name": "ipython",
    "version": 3
   },
   "file_extension": ".py",
   "mimetype": "text/x-python",
   "name": "python",
   "nbconvert_exporter": "python",
   "pygments_lexer": "ipython3",
   "version": "3.9.13"
  }
 },
 "nbformat": 4,
 "nbformat_minor": 5
}
