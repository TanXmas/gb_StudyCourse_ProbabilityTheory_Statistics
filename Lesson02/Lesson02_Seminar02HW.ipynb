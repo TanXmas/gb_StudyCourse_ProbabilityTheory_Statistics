{
 "cells": [
  {
   "cell_type": "markdown",
   "id": "de33d756",
   "metadata": {},
   "source": [
    "# Урок 2. Дискретные распределения вероятностей."
   ]
  },
  {
   "cell_type": "code",
   "execution_count": 1,
   "id": "8dfa3561",
   "metadata": {},
   "outputs": [],
   "source": [
    "from math import sqrt, factorial, e\n",
    "\n",
    "# сочетание C - кол-во способов взять k элем-ов из множ-ва n без учета порядка расположения\n",
    "def C(n, k):\n",
    "    return factorial(n) // (factorial(k) * (factorial(n - k)))"
   ]
  },
  {
   "cell_type": "markdown",
   "id": "81e4506d",
   "metadata": {},
   "source": [
    "***\n",
    "## Задание 1.\n",
    "\n",
    "### Вероятность того, что стрелок попадет в мишень, выстрелив один раз, равна 0.8. Стрелок выстрелил 100 раз. Найдите вероятность того, что стрелок попадет в цель ровно 85 раз.\n",
    "\n",
    "$P_n(X=k) = C^k_n\\cdot p^k\\cdot q^{n-k}$\n",
    "\n",
    "$p = 0.8 \\\\\n",
    "n = 100 \\\\\n",
    "k = 85$\n",
    "\n",
    "$P_{100}(X=85) = C^{85}_{100}\\cdot 0.8^{85}\\cdot (1-0.8)^{15}$"
   ]
  },
  {
   "cell_type": "code",
   "execution_count": 2,
   "id": "2694c3c9",
   "metadata": {},
   "outputs": [
    {
     "name": "stdout",
     "output_type": "stream",
     "text": [
      "P(X=85) = 0.0481\n"
     ]
    }
   ],
   "source": [
    "p = C(100,85) * 0.8**85 * (1-0.8)**15\n",
    "print(f'P(X=85) = {p:.4f}')"
   ]
  },
  {
   "cell_type": "markdown",
   "id": "49653d18",
   "metadata": {},
   "source": [
    "***\n",
    "## Задание 2.\n",
    "\n",
    "### Вероятность того, что лампочка перегорит в течение первого дня эксплуатации, равна 0.0004. В жилом комплексе после ремонта в один день включили 5000 новых лампочек. Какова вероятность, что ни одна из них не перегорит в первый день? Какова вероятность, что перегорят ровно две?\n",
    "\n",
    "$P_m \\approx \\cfrac{λ^m}{m!} \\cdot e^{-λ}$\n",
    "\n",
    "$n = 5000 \\\\\n",
    " p = 0.0004 \\\\\n",
    " λ = n \\cdot p = 5000 \\cdot 0.0004$"
   ]
  },
  {
   "cell_type": "code",
   "execution_count": 3,
   "id": "62faf734",
   "metadata": {},
   "outputs": [
    {
     "name": "stdout",
     "output_type": "stream",
     "text": [
      "P(0) = 0.1353\n",
      "P(2) = 0.2707\n"
     ]
    }
   ],
   "source": [
    "l = 5000 * 0.0004\n",
    "for m in [0,2]:\n",
    "    p = l**m / factorial(m) * e**(-l)\n",
    "    print(f'P({m}) = {p:.4f}')"
   ]
  },
  {
   "cell_type": "markdown",
   "id": "45a1e892",
   "metadata": {},
   "source": [
    "***\n",
    "## Задание 3.\n",
    "\n",
    "### Монету подбросили 144 раза. Какова вероятность, что орел выпадет ровно 70 раз?\n",
    "\n",
    "$P_n(X=k) = C^k_n\\cdot p^k\\cdot q^{n-k}$\n",
    "\n",
    "$n = 144 \\\\\n",
    " p = 0.5 \\\\\n",
    " k = 70$\n",
    " \n",
    "$P_{144}(X=70) = C^{70}_{144} \\cdot \\left(\\cfrac{1}{2}\\right)^{70} \\cdot \\left(1-\\cfrac{1}{2}\\right)^{144-70} = 0.0628$"
   ]
  },
  {
   "cell_type": "code",
   "execution_count": 4,
   "id": "3dfe8453",
   "metadata": {},
   "outputs": [
    {
     "name": "stdout",
     "output_type": "stream",
     "text": [
      "P(X=70) = 0.0628\n"
     ]
    }
   ],
   "source": [
    "p = C(144,70) * 0.5**70 * (1-0.5)**(144-70)\n",
    "print(f'P(X=70) = {p:.4f}')"
   ]
  },
  {
   "cell_type": "markdown",
   "id": "b580152c",
   "metadata": {},
   "source": [
    "***\n",
    "## Задание 4.\n",
    "\n",
    "### В первом ящике находится 10 мячей, из которых 7 - белые. Во втором ящике - 11 мячей, из которых 9 белых. Из каждого ящика вытаскивают случайным образом по два мяча.\n",
    "\n",
    "### а) Какова вероятность того, что все мячи белые?\n",
    "\n",
    "Событие $A$ — 4 белых мяча.\n",
    "\n",
    "$P(A) = \\cfrac{7}{10} \\cdot \\cfrac{6}{9} \\cdot \\cfrac{9}{11} \\cdot \\cfrac{8}{10} = 0.3055$\n",
    "\n",
    "$P(A) = \\cfrac{C^2_7 \\cdot C^2_9}{C^2_{10} \\cdot C^2_{11}} = 0.3055$"
   ]
  },
  {
   "cell_type": "code",
   "execution_count": 5,
   "id": "1ebd0dd8",
   "metadata": {},
   "outputs": [
    {
     "name": "stdout",
     "output_type": "stream",
     "text": [
      "P(4 белых) = 0.3055\n",
      "P(4 белых) = 0.3055\n"
     ]
    }
   ],
   "source": [
    "p = 7/10 * 6/9 * 9/11 * 8/10\n",
    "print(f'P(4 белых) = {p:.4f}')\n",
    "\n",
    "p = (C(7,2) * C(9,2)) / (C(10,2)*C(11,2))\n",
    "print(f'P(4 белых) = {p:.4f}')"
   ]
  },
  {
   "cell_type": "markdown",
   "id": "b022c8ab",
   "metadata": {},
   "source": [
    "### б) Какова вероятность того, что ровно два мяча белые?\n",
    "Событие $A$ — 2 белых мяча складывается из 3-х вариантов: \\\n",
    "* $A_1$ — из 1-го ящика 1 белый и из 2-го ящика 1 белый\n",
    "* $A_2$ — из 1-го ящика 2 белый\n",
    "* $A_3$ — из 2-го ящика 2 белых\n",
    "\n",
    "\n",
    "$\\displaystyle P(A_1) = \n",
    "\\left(\\frac{7}{10}\\cdot \\frac{3}{9} + \\frac{3}{10}\\cdot \\frac{7}{9}\\right)\\cdot\n",
    "\\left(\\frac{9}{11}\\cdot \\frac{2}{10} + \\frac{2}{11}\\cdot \\frac{9}{10}\\right)$\n",
    "\n",
    "$\\displaystyle P(A_2) = \\frac{3}{10}\\cdot \\frac{2}{9} + \\frac{9}{11}\\cdot \\frac{8}{10}$\n",
    "\n",
    "$\\displaystyle P(A_3) = \\frac{7}{10}\\cdot \\frac{6}{9} + \\frac{2}{11}\\cdot \\frac{1}{10}$\n",
    "\n",
    "$P(A) = P(A_1) + P(A_2) + P(A_3) = 0.2048$\n",
    "<br><br>\n",
    "\n",
    "$|A_1| = C^1_7\\cdot C^1_3\\cdot C^1_9\\cdot C^1_2 = 378$\n",
    "\n",
    "$|A_2| = C^2_3\\cdot C^2_9 = 108$\n",
    "\n",
    "$|A_3| = C^2_7\\cdot C^2_2 = 21$\n",
    "\n",
    "$|\\Omega| = C^2_{10}\\cdot C^2_{11} = 2475$\n",
    "\n",
    "$\\displaystyle P(A) = \\frac{|A_1|+|A_2|+|A_3|}{|\\Omega|} = \\frac{378+108+21}{2475} = 0.2048$"
   ]
  },
  {
   "cell_type": "code",
   "execution_count": 6,
   "id": "4caa686e",
   "metadata": {},
   "outputs": [
    {
     "name": "stdout",
     "output_type": "stream",
     "text": [
      "P(2 белых) = 0.2048\n",
      "P(2 белых) = 0.2048\n"
     ]
    }
   ],
   "source": [
    "p = (7/10 * 3/9 + 3/10 * 7/9) * (9/11 * 2/10 + 2/11 * 9/10) + (3/10 * 2/9 * 9/11 * 8/10) + (7/10 * 6/9 * 2/11 * 1/10)\n",
    "print(f'P(2 белых) = {p:.4f}')\n",
    "\n",
    "p = (C(7,1)*C(3,1) * C(9,1)*C(2,1) + C(3,2)*C(9,2) + C(7,2)*C(2,2)) / (C(10,2)*C(11,2))\n",
    "print(f'P(2 белых) = {p:.4f}')"
   ]
  },
  {
   "cell_type": "markdown",
   "id": "a7b418aa",
   "metadata": {},
   "source": [
    "### в) Какова вероятность того, что хотя бы один мяч белый?\n",
    "\n",
    "Событие $A$ — белых мячей $\\geq 1$, тогда $\\bar A$ — белых мячей $=0$.\n",
    "\n",
    "$\\displaystyle P(A) = 1 - P(\\bar A) = 1 - \\frac{3}{10}\\cdot \\frac{2}{9}\\cdot \\frac{2}{11}\\cdot \\frac{1}{10} = 0.9988$\n",
    "\n",
    "$\\displaystyle P(A) = 1 - P(\\bar A) = 1 - \\frac{C^2_3\\cdot C^2_2}{C^2_{10}\\cdot C^2_{11}} = 0.9988$"
   ]
  },
  {
   "cell_type": "code",
   "execution_count": 7,
   "id": "bf439422",
   "metadata": {},
   "outputs": [
    {
     "name": "stdout",
     "output_type": "stream",
     "text": [
      "P(хотя бы 1 белый) = 0.9988\n",
      "P(хотя бы 1 белый) = 0.9988\n"
     ]
    }
   ],
   "source": [
    "p = 1 - 3/10 * 2/9 * 2/11 * 1/10\n",
    "print(f'P(хотя бы 1 белый) = {p:.4f}')\n",
    "\n",
    "p = 1 - (C(3,2) * C(2,2)) / (C(10,2)*C(11,2))\n",
    "print(f'P(хотя бы 1 белый) = {p:.4f}')"
   ]
  },
  {
   "cell_type": "code",
   "execution_count": null,
   "id": "dff1706f",
   "metadata": {},
   "outputs": [],
   "source": []
  }
 ],
 "metadata": {
  "kernelspec": {
   "display_name": "Python 3 (ipykernel)",
   "language": "python",
   "name": "python3"
  },
  "language_info": {
   "codemirror_mode": {
    "name": "ipython",
    "version": 3
   },
   "file_extension": ".py",
   "mimetype": "text/x-python",
   "name": "python",
   "nbconvert_exporter": "python",
   "pygments_lexer": "ipython3",
   "version": "3.9.13"
  }
 },
 "nbformat": 4,
 "nbformat_minor": 5
}
