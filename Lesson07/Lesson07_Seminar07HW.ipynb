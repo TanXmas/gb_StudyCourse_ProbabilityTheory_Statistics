{
 "cells": [
  {
   "cell_type": "markdown",
   "id": "696086ac",
   "metadata": {},
   "source": [
    "# Урок 7. Непараметрические тесты"
   ]
  },
  {
   "cell_type": "code",
   "execution_count": 1,
   "id": "4a2fa1f8",
   "metadata": {},
   "outputs": [],
   "source": [
    "import numpy as np\n",
    "import scipy.stats as stats"
   ]
  },
  {
   "cell_type": "markdown",
   "id": "5c2cc67e",
   "metadata": {},
   "source": [
    "***\n",
    "## Задание 1.\n",
    "\n",
    "### Выбрать тест и проверить, есть  ли различия между выборками. Даны две независимые выборки. Не соблюдается условие нормальности. Сделайте вывод по результатам, полученным с помощью функции.\n",
    "\n",
    "x1  380,420, 290 \\\n",
    "y1 140,360,200,900\n",
    "\n",
    "Поскольку выборки 2, они независимы и не соблюдается условие нормальности, то выбираем критерий Манна-Уитни."
   ]
  },
  {
   "cell_type": "code",
   "execution_count": 2,
   "id": "870ee920",
   "metadata": {},
   "outputs": [
    {
     "data": {
      "text/plain": [
       "MannwhitneyuResult(statistic=8.0, pvalue=0.6285714285714286)"
      ]
     },
     "execution_count": 2,
     "metadata": {},
     "output_type": "execute_result"
    }
   ],
   "source": [
    "X = np.array([380, 420, 290])\n",
    "Y = np.array([140, 360, 200, 900])\n",
    "\n",
    "stats.mannwhitneyu(X,Y)"
   ]
  },
  {
   "cell_type": "markdown",
   "id": "8311121c",
   "metadata": {},
   "source": [
    "Примем значение уровня значимости $\\alpha=0.05$\\\n",
    "Т.к. p-value=0.62 больше 0.05, то гипотезу $H_0$ принимаем. Статистически значимой разницы между выборками нет."
   ]
  },
  {
   "cell_type": "markdown",
   "id": "b749e2bb",
   "metadata": {},
   "source": [
    "***\n",
    "## Задание 2.\n",
    "\n",
    "### Исследовалось влияние препарата на уровень давления пациентов. Сначала измерялось давление до приема препарата, потом через 10 минут и через 30 минут. Есть ли статистически значимые различия? <br> 1е измерение до приема препарата: 150, 160, 165, 145, 155 <br> 2е измерение через 10 минут: 140, 155, 150,  130, 135 <br> 3е измерение через 30 минут: 130, 130, 120, 130, 125.\n",
    "\n",
    "Поскольку исследуются множественные сравнения зависимых выборок (анализ повторных измерений), то выбираем критерий Фридмана."
   ]
  },
  {
   "cell_type": "code",
   "execution_count": 3,
   "id": "b7ce8370",
   "metadata": {},
   "outputs": [
    {
     "data": {
      "text/plain": [
       "FriedmanchisquareResult(statistic=9.578947368421062, pvalue=0.00831683351100441)"
      ]
     },
     "execution_count": 3,
     "metadata": {},
     "output_type": "execute_result"
    }
   ],
   "source": [
    "izm1 = np.array([150, 160, 165, 145, 155])\n",
    "izm2 = np.array([140, 155, 150, 130, 135])\n",
    "izm3 = np.array([130, 130, 120, 130, 125])\n",
    "\n",
    "stats.friedmanchisquare(izm1, izm2, izm3)"
   ]
  },
  {
   "cell_type": "markdown",
   "id": "56862904",
   "metadata": {},
   "source": [
    "Примем значение уровня значимости $\\alpha=0.05$\\\n",
    "Т.к. p-value=0.008 меньше 0.05, то гипотезу $H_0$ отклоняем. Наблюдается статистически значимая разница между выборками."
   ]
  },
  {
   "cell_type": "markdown",
   "id": "9f5bbf64",
   "metadata": {},
   "source": [
    "***\n",
    "## Задание 3.\n",
    "\n",
    "### Сравните 1 и 2 е измерения, предполагая, что 3го измерения через 30 минут не было.\n",
    "\n",
    "Поскольку исследуются две зависимые выборки, то выбираем критерий Уилкоксона."
   ]
  },
  {
   "cell_type": "code",
   "execution_count": 4,
   "id": "62852bbc",
   "metadata": {},
   "outputs": [
    {
     "name": "stdout",
     "output_type": "stream",
     "text": [
      "[-10  -5 -15 -15 -20]\n"
     ]
    },
    {
     "data": {
      "text/plain": [
       "WilcoxonResult(statistic=0.0, pvalue=0.0625)"
      ]
     },
     "execution_count": 4,
     "metadata": {},
     "output_type": "execute_result"
    }
   ],
   "source": [
    "izm1 = np.array([150, 160, 165, 145, 155])\n",
    "izm2 = np.array([140, 155, 150, 130, 135])\n",
    "print(izm2 - izm1)\n",
    "\n",
    "stats.wilcoxon(izm1, izm2)"
   ]
  },
  {
   "cell_type": "markdown",
   "id": "f831553c",
   "metadata": {},
   "source": [
    "Примем значение уровня значимости $\\alpha=0.05$\\\n",
    "Т.к. p-value=0.06 больше 0.05, то гипотезу $H_0$ принимаем. Статистически значимой разницы между выборками нет."
   ]
  },
  {
   "cell_type": "markdown",
   "id": "662c3778",
   "metadata": {},
   "source": [
    "***\n",
    "## Задание 4.\n",
    "\n",
    "### Даны 3 группы  учеников плавания. В 1 группе время на дистанцию 50 м составляют: 56, 60, 62, 55, 71, 67, 59, 58, 64, 67. Вторая группа : 57, 58, 69, 48, 72, 70, 68, 71, 50, 53. Третья группа: 57, 67, 49, 48, 47, 55, 66, 51, 54.\n",
    "\n",
    "Поскольку исследуются три зависимые выборки, то выбираем критерий Крускала–Уоллиса."
   ]
  },
  {
   "cell_type": "code",
   "execution_count": 5,
   "id": "521c545a",
   "metadata": {},
   "outputs": [
    {
     "data": {
      "text/plain": [
       "KruskalResult(statistic=5.465564058257224, pvalue=0.0650380998590494)"
      ]
     },
     "execution_count": 5,
     "metadata": {},
     "output_type": "execute_result"
    }
   ],
   "source": [
    "gr1 = np.array([56, 60, 62, 55, 71, 67, 59, 58, 64, 67])\n",
    "gr2 = np.array([57, 58, 69, 48, 72, 70, 68, 71, 50, 53])\n",
    "gr3 = np.array([57, 67, 49, 48, 47, 55, 66, 51, 54])\n",
    "\n",
    "stats.kruskal(gr1, gr2, gr3)"
   ]
  },
  {
   "cell_type": "markdown",
   "id": "0191f986",
   "metadata": {},
   "source": [
    "Если принять значение уровня значимости $\\alpha=0.05$\\\n",
    "Т.к. p-value=0.07 больше 0.05, то гипотезу $H_0$ принимаем. Статистически значимой разницы между выборками нет."
   ]
  },
  {
   "cell_type": "markdown",
   "id": "5fe2428d",
   "metadata": {},
   "source": [
    "***\n",
    "## Задание 5.\n",
    "\n",
    "### Заявляется, что партия изготавливается со средним арифметическим 2,5 см. Проверить данную гипотезу, если известно, что размеры изделий подчинены нормальному закону распределения. Объем выборки 10, уровень статистической значимости 5%.\n",
    "2.51, 2.35, 2.74, 2.56, 2.40, 2.36, 2.65, 2.7, 2.67, 2.34\n",
    "\n",
    "$H_0: a = a_0 = 2.5$\n",
    "\n",
    "Выборочная средняя $a_1 = 2.53$, что больше предполагаемой генеральной средней $a_0=2.5$, потому проверим альтернативную гипотезу $H_1: a > a_0$ (правосторонняя критическая область).\n",
    "\n",
    "Т.к. генеральная дисперсия $\\sigma^2$ неизвестна используем t-критенрий (распределение Стьюдента): \\\n",
    "$t = \\cfrac{(\\bar{x}-a_0)\\sqrt{n}}{S}$"
   ]
  },
  {
   "cell_type": "code",
   "execution_count": 6,
   "id": "d97cfb35",
   "metadata": {},
   "outputs": [
    {
     "data": {
      "text/plain": [
       "2.5279999999999996"
      ]
     },
     "execution_count": 6,
     "metadata": {},
     "output_type": "execute_result"
    }
   ],
   "source": [
    "a0, n, alpha = 2.5, 10, 0.05\n",
    "X = np.array([2.51, 2.35, 2.74, 2.56, 2.40, 2.36, 2.65, 2.7, 2.67, 2.34])\n",
    "a1 = np.mean(X)\n",
    "a1"
   ]
  },
  {
   "cell_type": "code",
   "execution_count": 7,
   "id": "7dd8d026",
   "metadata": {},
   "outputs": [
    {
     "data": {
      "text/plain": [
       "1.8331129326536335"
      ]
     },
     "execution_count": 7,
     "metadata": {},
     "output_type": "execute_result"
    }
   ],
   "source": [
    "Tk = stats.t.ppf(1 - alpha, n-1)\n",
    "Tk"
   ]
  },
  {
   "cell_type": "code",
   "execution_count": 8,
   "id": "335df55d",
   "metadata": {},
   "outputs": [
    {
     "data": {
      "text/plain": [
       "0.1572542173961923"
      ]
     },
     "execution_count": 8,
     "metadata": {},
     "output_type": "execute_result"
    }
   ],
   "source": [
    "sd = np.std(X, ddof=1)\n",
    "sd"
   ]
  },
  {
   "cell_type": "code",
   "execution_count": 9,
   "id": "af5a1e31",
   "metadata": {},
   "outputs": [
    {
     "data": {
      "text/plain": [
       "0.563061366180296"
      ]
     },
     "execution_count": 9,
     "metadata": {},
     "output_type": "execute_result"
    }
   ],
   "source": [
    "Tn = (a1 - a0) * np.sqrt(n) / sd\n",
    "Tn"
   ]
  },
  {
   "cell_type": "code",
   "execution_count": 10,
   "id": "f1119209",
   "metadata": {},
   "outputs": [
    {
     "name": "stdout",
     "output_type": "stream",
     "text": [
      "H0: a = 2.5 is True\n"
     ]
    }
   ],
   "source": [
    "print(f'H0: a = 2.5 is {Tn<Tk}')"
   ]
  },
  {
   "cell_type": "markdown",
   "id": "34f595e4",
   "metadata": {},
   "source": [
    "Полученное значение $t_н = 0.563$ попало в область принятия гипотезы $(t<1.833)$, поэтому на уровне значимости $0,05$ нулевую гипотезу $H_0: a = 2.5$ принимаем."
   ]
  },
  {
   "cell_type": "code",
   "execution_count": null,
   "id": "a9f6b6ac",
   "metadata": {},
   "outputs": [],
   "source": []
  }
 ],
 "metadata": {
  "kernelspec": {
   "display_name": "Python 3 (ipykernel)",
   "language": "python",
   "name": "python3"
  },
  "language_info": {
   "codemirror_mode": {
    "name": "ipython",
    "version": 3
   },
   "file_extension": ".py",
   "mimetype": "text/x-python",
   "name": "python",
   "nbconvert_exporter": "python",
   "pygments_lexer": "ipython3",
   "version": "3.9.13"
  }
 },
 "nbformat": 4,
 "nbformat_minor": 5
}
