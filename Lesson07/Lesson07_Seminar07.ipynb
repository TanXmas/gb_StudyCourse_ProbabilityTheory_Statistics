{
 "cells": [
  {
   "cell_type": "markdown",
   "id": "994fe0ea",
   "metadata": {},
   "source": [
    "# Урок 7. Непараметрические тесты"
   ]
  },
  {
   "cell_type": "code",
   "execution_count": 5,
   "id": "7043bccf",
   "metadata": {},
   "outputs": [],
   "source": [
    "import numpy as np\n",
    "import scipy.stats as stats\n",
    "\n",
    "import warnings\n",
    "warnings.filterwarnings(\"ignore\")"
   ]
  },
  {
   "cell_type": "markdown",
   "id": "26454b77",
   "metadata": {},
   "source": [
    "***\n",
    "## Задание 1.\n",
    "\n",
    "### Средние расходы на обследование одного больного до ознакомления с расходами коллег <br> X= np.array([20,17, 14, 42, 50, 62, 8, 49, 81, 54, 48, 55, 56]) <br> Y= np.array([20, 26, 1, 24, 1, 47, 15, 7, 65, 9, 21, 36, 30]) <br> Средние расходы на лечение одного больного до ознакомления с расходами коллег <br> X= np.array([ 32, 41, 51, 29, 76, 47, 60, 58, 40, 64, 73, 66, 73]) <br> Y= np.array([42, 90, 71, 47, 56, 43, 137, 63, 28, 60, 87, 69, 50]) <br> Произошли ли изменения на расходы и лечение?\n",
    "\n",
    "Критерий Уилкоксона"
   ]
  },
  {
   "cell_type": "code",
   "execution_count": 6,
   "id": "23cae5a7",
   "metadata": {},
   "outputs": [
    {
     "name": "stdout",
     "output_type": "stream",
     "text": [
      "[ 0 -9 13 18 49 15 -7 42 16 45 27 19 26]\n"
     ]
    },
    {
     "data": {
      "text/plain": [
       "WilcoxonResult(statistic=3.0, pvalue=0.004741768038406972)"
      ]
     },
     "execution_count": 6,
     "metadata": {},
     "output_type": "execute_result"
    }
   ],
   "source": [
    "X = np.array([20, 17, 14, 42, 50, 62,  8, 49, 81, 54, 48, 55, 56])\n",
    "Y = np.array([20, 26,  1, 24,  1, 47, 15,  7, 65,  9, 21, 36, 30])\n",
    "print(X-Y)\n",
    "\n",
    "stats.wilcoxon(X, Y, zero_method='wilcox')"
   ]
  },
  {
   "cell_type": "code",
   "execution_count": 8,
   "id": "ae7434ce",
   "metadata": {},
   "outputs": [
    {
     "name": "stdout",
     "output_type": "stream",
     "text": [
      "[-10 -49 -20 -18  20   4 -77  -5  12   4 -14  -3  23]\n"
     ]
    },
    {
     "data": {
      "text/plain": [
       "WilcoxonResult(statistic=31.5, pvalue=0.339599609375)"
      ]
     },
     "execution_count": 8,
     "metadata": {},
     "output_type": "execute_result"
    }
   ],
   "source": [
    "X= np.array([32, 41, 51, 29, 76, 47,  60, 58, 40, 64, 73, 66, 73])\n",
    "Y= np.array([42, 90, 71, 47, 56, 43, 137, 63, 28, 60, 87, 69, 50])\n",
    "print(X-Y)\n",
    "\n",
    "stats.wilcoxon(X, Y, zero_method='wilcox')"
   ]
  },
  {
   "cell_type": "markdown",
   "id": "f74ede4c",
   "metadata": {},
   "source": [
    "***\n",
    "## Задание 2.\n",
    "### При исследовании препарата для снижения кровяного давления у больных 3 раза измерялся сердечный выброс. Менялся ли сердечный выброс? Найти критерий вручную, проверьте значение функцией и интерпретируйте результат с использованием p-value.\n",
    "\n",
    "Критерий Фридмана"
   ]
  },
  {
   "cell_type": "code",
   "execution_count": 9,
   "id": "f5040ed9",
   "metadata": {},
   "outputs": [
    {
     "data": {
      "text/plain": [
       "FriedmanchisquareResult(statistic=6.5, pvalue=0.03877420783172202)"
      ]
     },
     "execution_count": 9,
     "metadata": {},
     "output_type": "execute_result"
    }
   ],
   "source": [
    "A = np.array([3.5, 3.3, 4.9, 3.6])\n",
    "B = np.array([8.6, 5.4, 8.8, 5.6])\n",
    "C = np.array([5.1, 8.6, 7.7, 5.0])\n",
    "\n",
    "stats.friedmanchisquare(A, B, C)"
   ]
  },
  {
   "cell_type": "markdown",
   "id": "1568d146",
   "metadata": {},
   "source": [
    "***\n",
    "## Задание 3.\n",
    "### Даны значения проницаемости сосудов сетчатки gr1 (здоровые пациенты), gr2 (поражение в области центральной ямки), gr3 (в области центральной ямки и на периферии). Сравнить данные, относящиеся к разным видам поражения.\n",
    "\n",
    "Критерий Крускала–Уоллиса"
   ]
  },
  {
   "cell_type": "code",
   "execution_count": 10,
   "id": "ff2cb89c",
   "metadata": {},
   "outputs": [
    {
     "data": {
      "text/plain": [
       "12.02000000000001"
      ]
     },
     "execution_count": 10,
     "metadata": {},
     "output_type": "execute_result"
    }
   ],
   "source": [
    "gr1 = np.array([0.5,  0.7,  1.0,  1.2,  1.4])\n",
    "gr2 = np.array([1.3, 1.45,  1.6,  1.7,  1.8])\n",
    "gr3 = np.array([6.2, 12.6, 13.2, 14.1, 14.2])\n",
    "\n",
    "n = np.array([gr1.shape[0], gr2.shape[0], gr3.shape[0]])\n",
    "N = sum(n)\n",
    "\n",
    "gr = np.hstack((gr1, gr2, gr3))\n",
    "ranks = stats.rankdata(gr)\n",
    "T = np.array([sum(ranks[:n[0]]),\n",
    "              sum(ranks[n[0]:n[0]+n[1]]),\n",
    "              sum(ranks[n[0]+n[1]:]) ])\n",
    "\n",
    "H = 12/(N*(N+1)) * sum(np.power(T,2) / n) - 3*(N+1)\n",
    "H"
   ]
  },
  {
   "cell_type": "code",
   "execution_count": 11,
   "id": "29c7e1d1",
   "metadata": {},
   "outputs": [
    {
     "data": {
      "text/plain": [
       "KruskalResult(statistic=12.02000000000001, pvalue=0.002454088180413905)"
      ]
     },
     "execution_count": 11,
     "metadata": {},
     "output_type": "execute_result"
    }
   ],
   "source": [
    "stats.kruskal(gr1, gr2, gr3)"
   ]
  },
  {
   "cell_type": "code",
   "execution_count": null,
   "id": "fdcec08e",
   "metadata": {},
   "outputs": [],
   "source": []
  }
 ],
 "metadata": {
  "kernelspec": {
   "display_name": "Python 3 (ipykernel)",
   "language": "python",
   "name": "python3"
  },
  "language_info": {
   "codemirror_mode": {
    "name": "ipython",
    "version": 3
   },
   "file_extension": ".py",
   "mimetype": "text/x-python",
   "name": "python",
   "nbconvert_exporter": "python",
   "pygments_lexer": "ipython3",
   "version": "3.9.13"
  }
 },
 "nbformat": 4,
 "nbformat_minor": 5
}
