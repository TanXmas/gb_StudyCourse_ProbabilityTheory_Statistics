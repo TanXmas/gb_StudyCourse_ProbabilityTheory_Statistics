{
 "cells": [
  {
   "cell_type": "markdown",
   "id": "6eca09ea",
   "metadata": {},
   "source": [
    "# Урок 9. Линейная регрессия. Логистическая регрессия"
   ]
  },
  {
   "cell_type": "code",
   "execution_count": 1,
   "id": "6e7c2be1",
   "metadata": {},
   "outputs": [],
   "source": [
    "import numpy as np\n",
    "import pandas as pd\n",
    "\n",
    "import scipy.stats as stats\n",
    "\n",
    "import matplotlib.pyplot as plt\n",
    "import seaborn as sns\n",
    "\n",
    "from sklearn.linear_model import LinearRegression"
   ]
  },
  {
   "cell_type": "markdown",
   "id": "c54610f8",
   "metadata": {},
   "source": [
    "***\n",
    "# Линейная регрессия\n",
    "\n",
    "***\n",
    "## Регрессионный анализ\n",
    "\n",
    "Если **корреляционный анализ** помогает нам оценить тесноту связи, то **регрессионный анализ** может ответить на вопрос, как именно изменяется зависимая переменная $y$ при изменении независимой переменной $x$. Регрессионный анализ помогает нам подобрать математическую модель определенного типа, с помощью которой мы опишем изменение зависимой переменной $y$ при изменении независимой переменной $x$.\n",
    "\n",
    "**Многомерный статистический анализ** – это раздел статистики, который посвящен исследованиям экспериментов с многомерными наблюдениями."
   ]
  },
  {
   "cell_type": "markdown",
   "id": "1130dd5a",
   "metadata": {},
   "source": [
    "***\n",
    "### Простая (парная) линейная регрессия\n",
    "\n",
    "Если признак один, то такая линейная регрессия называется парной. Она описывает связь признака $x$ с результирующей $y$. В основе математической модели, описывающей эту зависимость, лежит предположение, что зависимость выражена следующим образом:\\\n",
    "$y = kx + b$ с той лишь разницей, что теперь нужно добавить случайную ошибку $\\epsilon$:\n",
    "$$y_i = \\beta_0 + \\beta_1 x_i + \\epsilon_i$$\n",
    "$y_i$ — зависимая переменная (отклик) \\\n",
    "$x_i$ — известная константа (значение объясняющей переменной, измерянной в i-ом эксперименте) \\\n",
    "$\\beta_0, \\beta_1$ — параметры модели (свободный член и угловой коэффициент) \\\n",
    "$\\epsilon_i$ — случайная ошибка\n",
    "\n",
    "<img src=\"./img/image1.png\" alt=\"image1\" width=\"600\"/>"
   ]
  },
  {
   "cell_type": "markdown",
   "id": "6179e240",
   "metadata": {},
   "source": [
    "***\n",
    "### Множественная линейная регрессия\n",
    "\n",
    "Для простоты примем, что $x_0=1$. Тогда в общем случае форма линейной регрессии выглядит так:\n",
    "$$\\forall{h} \\in H, h(\\vec{x}) = w_0x_0 + w_1x_1 + \\ldots + w_mx_m = \\sum_{i=0}^{m}{w_i x_i} = \\vec{x}^T \\vec{w}$$\n",
    "\n",
    "$x_i$ - **факторы** \\\n",
    "пространство с координатами $x_i$ - **факторное пространство** \\\n",
    "геометрическое изображение функции отклика в факторном пространстве - **поверхность отклика**"
   ]
  },
  {
   "cell_type": "markdown",
   "id": "af8019c9",
   "metadata": {},
   "source": [
    "***\n",
    "## Обучение линейной регрессии\n",
    "\n",
    "***\n",
    "### Метод наименьших квадратов\n",
    "\n",
    "$\\hat{y} = \\beta_0 + \\beta_1 x_i$\n",
    "\n",
    "$\\beta_0 = m_y - r \\cfrac{\\sigma_y}{\\sigma_x} m_x$, \\\n",
    "$\\beta_1 = r \\cfrac{\\sigma_y}{\\sigma_x}$ – **коэффициент регрессии** $Y$ на $X$"
   ]
  },
  {
   "cell_type": "code",
   "execution_count": 2,
   "id": "5bcfe95b",
   "metadata": {},
   "outputs": [],
   "source": [
    "X = np.array([27, 37, 42, 48, 57, 56, 77, 80])\n",
    "Y = np.array([1.2, 1.6, 1.8, 1.8, 2.5, 2.6, 3, 3.3])"
   ]
  },
  {
   "cell_type": "code",
   "execution_count": 3,
   "id": "dde3d0ca",
   "metadata": {},
   "outputs": [
    {
     "data": {
      "text/plain": [
       "(0.17147009966777427, 0.03874584717607973)"
      ]
     },
     "execution_count": 3,
     "metadata": {},
     "output_type": "execute_result"
    }
   ],
   "source": [
    "Mx, My, SDx, SDy = X.mean(), Y.mean(), X.std(), Y.std()\n",
    "r = np.corrcoef(X,Y)[0,1]\n",
    "\n",
    "b1 = r * SDy / SDx\n",
    "b0 = My - b1 * Mx\n",
    "b0, b1"
   ]
  },
  {
   "cell_type": "code",
   "execution_count": 4,
   "id": "28d87b12",
   "metadata": {},
   "outputs": [
    {
     "data": {
      "text/plain": [
       "array([1.21760797, 1.60506645, 1.79879568, 2.03127076, 2.37998339,\n",
       "       2.34123754, 3.15490033, 3.27113787])"
      ]
     },
     "execution_count": 4,
     "metadata": {},
     "output_type": "execute_result"
    }
   ],
   "source": [
    "Y_pred = b0 + b1 * X\n",
    "Y_pred"
   ]
  },
  {
   "cell_type": "markdown",
   "id": "1bc791ae",
   "metadata": {},
   "source": [
    "***\n",
    "#### Функция потерь\n",
    "\n",
    "в основе метода линейной регрессии лежит метод наименьших квадратов. Т.е. коэффициенты подбираются таким образом, чтобы минимизировать среднюю квадратичную ошибку, которая находится по формуле: \\\n",
    "$mse = \\cfrac{\\sum{(y-\\hat{y})^2}}{n}$\n",
    "\n",
    "$\\sigma_y^2(1-r^2)$ – **остаточная дисперсия** случайной величины $Y$ относительно случайной величины $X$ \\\n",
    "(характеризует величину ошибки, которую допускают при замене $Y$ линейной функцией $g(X) = \\alpha X + \\beta$)."
   ]
  },
  {
   "cell_type": "code",
   "execution_count": 5,
   "id": "79b8fa29",
   "metadata": {},
   "outputs": [
    {
     "data": {
      "text/plain": [
       "0.020001557308970075"
      ]
     },
     "execution_count": 5,
     "metadata": {},
     "output_type": "execute_result"
    }
   ],
   "source": [
    "mse = ((Y - Y_pred)**2).sum() / Y.shape[0]\n",
    "mse"
   ]
  },
  {
   "cell_type": "code",
   "execution_count": 6,
   "id": "b44d0a9a",
   "metadata": {},
   "outputs": [
    {
     "data": {
      "text/plain": [
       "0.020001557308970054"
      ]
     },
     "execution_count": 6,
     "metadata": {},
     "output_type": "execute_result"
    }
   ],
   "source": [
    "mse = Y.var() * (1 - r**2)\n",
    "mse"
   ]
  },
  {
   "cell_type": "markdown",
   "id": "b013da0d",
   "metadata": {},
   "source": [
    "***\n",
    "### Матричный метод расчета коэффициентов линейной регрессии\n",
    "\n",
    "Чтобы решить матричным методом уравнение вида $\\hat{y} = \\beta_0 + \\beta_1 x_i$, нам нужно представить это уравнение в матричном виде.\\\n",
    "Матрица $X$ равна произведению матрицы $Y$ и матрицы $B$: \\\n",
    "$Y = X \\cdot B$\n",
    "\n",
    "$\\begin{pmatrix} y_1 \\\\ y_2 \\\\ \\ldots \\\\ y_n \\\\ \\end{pmatrix}$ = \n",
    "$\\begin{pmatrix} 1 & x_1 \\\\ 1 & x_2 \\\\ \\ldots \\\\ 1 & x_n \\\\ \\end{pmatrix}$\n",
    "$\\begin{pmatrix} \\beta_0 \\\\ \\beta_1 \\\\ \\end{pmatrix}$\n",
    "\n",
    "$B = (X^T \\cdot X)^{-1} \\cdot X^T \\cdot Y$\n",
    "\n",
    "Матричный метод мы также можем использовать и при многомерном анализе. Тогда у нас будет больше столбцов (признаков) в матрице $X$ и, соответственно, матрица $B$ даст больше коэффициентов.\n",
    "\n",
    "Если по какой-то причине мы хотим построить модель без интерсепта, тогда просто не добавляем столбец единиц."
   ]
  },
  {
   "cell_type": "code",
   "execution_count": 7,
   "id": "f958de03",
   "metadata": {},
   "outputs": [
    {
     "data": {
      "text/plain": [
       "array([[27],\n",
       "       [37],\n",
       "       [42],\n",
       "       [48],\n",
       "       [57],\n",
       "       [56],\n",
       "       [77],\n",
       "       [80]])"
      ]
     },
     "execution_count": 7,
     "metadata": {},
     "output_type": "execute_result"
    }
   ],
   "source": [
    "X = X.reshape(-1,1)\n",
    "X"
   ]
  },
  {
   "cell_type": "code",
   "execution_count": 8,
   "id": "aeb7e3fc",
   "metadata": {},
   "outputs": [
    {
     "data": {
      "text/plain": [
       "array([[ 1., 27.],\n",
       "       [ 1., 37.],\n",
       "       [ 1., 42.],\n",
       "       [ 1., 48.],\n",
       "       [ 1., 57.],\n",
       "       [ 1., 56.],\n",
       "       [ 1., 77.],\n",
       "       [ 1., 80.]])"
      ]
     },
     "execution_count": 8,
     "metadata": {},
     "output_type": "execute_result"
    }
   ],
   "source": [
    "x = np.hstack([np.ones((X.shape[0],1)),X])\n",
    "x"
   ]
  },
  {
   "cell_type": "code",
   "execution_count": 9,
   "id": "64bcc767",
   "metadata": {},
   "outputs": [
    {
     "data": {
      "text/plain": [
       "array([[1.2],\n",
       "       [1.6],\n",
       "       [1.8],\n",
       "       [1.8],\n",
       "       [2.5],\n",
       "       [2.6],\n",
       "       [3. ],\n",
       "       [3.3]])"
      ]
     },
     "execution_count": 9,
     "metadata": {},
     "output_type": "execute_result"
    }
   ],
   "source": [
    "Y = Y.reshape(-1,1)\n",
    "Y"
   ]
  },
  {
   "cell_type": "code",
   "execution_count": 10,
   "id": "eb0f800a",
   "metadata": {},
   "outputs": [
    {
     "data": {
      "text/plain": [
       "array([[0.1714701 ],\n",
       "       [0.03874585]])"
      ]
     },
     "execution_count": 10,
     "metadata": {},
     "output_type": "execute_result"
    }
   ],
   "source": [
    "B = np.linalg.inv(x.T @ x) @ (x.T @ Y)\n",
    "B"
   ]
  },
  {
   "cell_type": "markdown",
   "id": "c885c039",
   "metadata": {},
   "source": [
    "***\n",
    "### Расчет коэффициентов методом градиентного спуска\n",
    "\n",
    "**Градиентный спуск** – итеративный метод машинного обучения.\n",
    "\n",
    "Оптимальная прямая $y = a + bx$, которая проходит максимально близко к эмпирическим точкам.\n",
    "\n",
    "Для начала напишем функцию mse, чтобы потом сравнить расчеты mse через функцию с вычислениями mse с помощью метода градиентного спуска. Коэффициенты подбираются так, чтобы минимизировать эту ошибку. В этом методе мы работаем с производной mse, причем производную берем по коэффициенту, который ищем, а все остальные переменные рассматриваем как константы.\n",
    "\n",
    "Подберем параметры $a$ и $b$ так, чтобы сумма квадратов отклонений была минимальной. Так как каждое отклонение зависит от отыскиваемых параметров, то и сумма квадратов отклонений есть функция $F$ этих параметров:\\\n",
    "$\\displaystyle F(a,b) = \\sum_{i=1}^{n}{(Y_i-y_i)^2} = \\sum_{i=1}^{n}{(a + b x_i -y_i)^2}$\n",
    "\n",
    "Для отыскания минимума нужны частные производные: \\\n",
    "$\\displaystyle \\cfrac{\\partial{F}}{\\partial{a}} = 2\\sum_{i=1}^{n}{(a + b x_i - y_i)x_i}$ \\\n",
    "$\\displaystyle \\cfrac{\\partial{F}}{\\partial{b}} = 2\\sum_{i=1}^{n}{(a + b x_i - y_i)}$\n",
    "\n",
    "Нам понадобится установить скорость обучения. Нет четких правил по выбору этого параметра. Если мы возьмем слишком большой, то не сможем посчитать коэффициент, проскакивая через минимум, а если слишком маленький, то вычисления могут занять очень много времени. Также надо определиться со стартовыми значениями коэффициентов."
   ]
  },
  {
   "cell_type": "code",
   "execution_count": 15,
   "id": "dd14d8f1",
   "metadata": {},
   "outputs": [],
   "source": [
    "# функция потерь\n",
    "def mse(a, b, x, y):\n",
    "    return np.sum((a + b*x - y)**2)\n",
    "\n",
    "# частная производная функции потерь по a\n",
    "def mse_pa(a, b, x, y):\n",
    "    return 2 * np.sum((a + b*x) - y)\n",
    "\n",
    "# частная производная функции потерь по b\n",
    "def mse_pb(a, b, x, y):\n",
    "    return 2 * np.sum(((a + b*x) - y)*x)"
   ]
  },
  {
   "cell_type": "code",
   "execution_count": 16,
   "id": "622aff3d",
   "metadata": {},
   "outputs": [],
   "source": [
    "X = np.array([27, 37, 42, 48, 57, 56, 77, 80])\n",
    "Y = np.array([1.2, 1.6, 1.8, 1.8, 2.5, 2.6, 3, 3.3])"
   ]
  },
  {
   "cell_type": "code",
   "execution_count": 18,
   "id": "d418ccfb",
   "metadata": {},
   "outputs": [
    {
     "name": "stdout",
     "output_type": "stream",
     "text": [
      "0: a = 3.559999999999999e-05 b = 0.0020733698112000002 mse = 39.186825972008364\n",
      "500000: a = 0.09272665489826806 b = 0.04008781693748086 mse = 0.1648133834198471\n",
      "1000000: a = 0.13515870725239235 b = 0.0393646769816394 mse = 0.16103335541375358\n",
      "1500000: a = 0.1547256300423607 b = 0.03903121152575708 mse = 0.16022954800709793\n",
      "2000000: a = 0.16374863143463644 b = 0.03887743878872534 mse = 0.16005862166846999\n",
      "2500000: a = 0.1679094570789536 b = 0.038806528731215394 mse = 0.16002227488565232\n",
      "3000000: a = 0.1698281612096286 b = 0.03877382959121742 mse = 0.160014545891796\n",
      "3500000: a = 0.17071294366767417 b = 0.03875875085917071 mse = 0.1600129023530447\n",
      "4000000: a = 0.17112094820862336 b = 0.03875179752155549 mse = 0.16001255286128993\n",
      "4500000: a = 0.17130909355885407 b = 0.038748591091210746 mse = 0.16001247854330614\n",
      "5000000: a = 0.1713958540461965 b = 0.038747112492568805 mse = 0.1600124627398923\n",
      "5500000: a = 0.17143586238099764 b = 0.03874643065834549 mse = 0.16001245937936143\n",
      "Достигнут минимум 5962466: a = 0.1714533670628764 b = 0.038746132338227116 mse = 0.16001245868854244\n"
     ]
    }
   ],
   "source": [
    "alpha = 1e-6\n",
    "a = 0\n",
    "b = 0\n",
    "mse_min = mse(a,b,X,Y)\n",
    "\n",
    "for i in range(6*10**6):\n",
    "    a -= alpha * mse_pa(a,b,X,Y)\n",
    "    b -= alpha * mse_pb(a,b,X,Y)\n",
    "    if not i%(5*10**5):\n",
    "        print(f'{i}: {a = } {b = } mse = {mse(a, b, X, Y)}')\n",
    "    if mse(a,b,X,Y) > mse_min:\n",
    "        print(f'Достигнут минимум {i_min}: a = {a_min} b = {b_min} mse = {mse_min}')\n",
    "        break\n",
    "    else:\n",
    "        mse_min = mse(a,b,X,Y)\n",
    "        i_min, a_min, b_min = i, a, b"
   ]
  },
  {
   "cell_type": "markdown",
   "id": "047a7521",
   "metadata": {},
   "source": [
    "***\n",
    "### Python для построения линейной регрессии (Sklearn)"
   ]
  },
  {
   "cell_type": "code",
   "execution_count": 19,
   "id": "a7f2f1a7",
   "metadata": {},
   "outputs": [],
   "source": [
    "X = np.array([27, 37, 42, 48, 57, 56, 77, 80])\n",
    "Y = np.array([1.2, 1.6, 1.8, 1.8, 2.5, 2.6, 3, 3.3])"
   ]
  },
  {
   "cell_type": "code",
   "execution_count": 20,
   "id": "47e9542f",
   "metadata": {},
   "outputs": [
    {
     "data": {
      "text/plain": [
       "array([[27],\n",
       "       [37],\n",
       "       [42],\n",
       "       [48],\n",
       "       [57],\n",
       "       [56],\n",
       "       [77],\n",
       "       [80]])"
      ]
     },
     "execution_count": 20,
     "metadata": {},
     "output_type": "execute_result"
    }
   ],
   "source": [
    "x = X.reshape(-1,1)\n",
    "x"
   ]
  },
  {
   "cell_type": "code",
   "execution_count": 21,
   "id": "a501567e",
   "metadata": {},
   "outputs": [
    {
     "data": {
      "text/plain": [
       "(array([0.03874585]), 0.17147009966777427)"
      ]
     },
     "execution_count": 21,
     "metadata": {},
     "output_type": "execute_result"
    }
   ],
   "source": [
    "# задаем модель\n",
    "model = LinearRegression()\n",
    "\n",
    "# подбор коэффициентов\n",
    "regres = model.fit(x,Y)\n",
    "\n",
    "# коэффициент (alpha) и интерсепт (beta)\n",
    "regres.coef_, regres.intercept_"
   ]
  },
  {
   "cell_type": "code",
   "execution_count": 22,
   "id": "f0f6950d",
   "metadata": {},
   "outputs": [
    {
     "data": {
      "text/plain": [
       "array([1.21760797, 1.60506645, 1.79879568, 2.03127076, 2.37998339,\n",
       "       2.34123754, 3.15490033, 3.27113787])"
      ]
     },
     "execution_count": 22,
     "metadata": {},
     "output_type": "execute_result"
    }
   ],
   "source": [
    "Y_pred = model.predict(x)\n",
    "Y_pred"
   ]
  },
  {
   "cell_type": "code",
   "execution_count": 23,
   "id": "186116a9",
   "metadata": {},
   "outputs": [
    {
     "data": {
      "image/png": "[encoded data removed]",
      "text/plain": [
       "<Figure size 640x480 with 1 Axes>"
      ]
     },
     "metadata": {},
     "output_type": "display_data"
    }
   ],
   "source": [
    "plt.scatter(x,Y)\n",
    "plt.plot(x, Y_pred, color='red', linewidth=1);"
   ]
  },
  {
   "cell_type": "code",
   "execution_count": 24,
   "id": "7dafa936",
   "metadata": {},
   "outputs": [
    {
     "data": {
      "image/png": "[encoded data removed]",
      "text/plain": [
       "<Figure size 640x480 with 1 Axes>"
      ]
     },
     "metadata": {},
     "output_type": "display_data"
    }
   ],
   "source": [
    "sns.regplot(x=X, y=Y);"
   ]
  },
  {
   "cell_type": "markdown",
   "id": "2a8e3e9a",
   "metadata": {},
   "source": [
    "После того как построили модель линейной регрессии мы должны оценить полученную модель. Нам понадобятся такие параметры как **коэффициент детерминации, критерий Фишера и критерий Стьюдента**."
   ]
  },
  {
   "cell_type": "markdown",
   "id": "527d8007",
   "metadata": {},
   "source": [
    "***\n",
    "## Оценка модели\n",
    "\n",
    "***\n",
    "### Коэффициент детерминации\n",
    "\n",
    "Коэффициент детерминации показывает, какую долю изменчивости $Y$ описала подобранная математическая модель. Коэффициент детерминации равен квадрату коэффициента корреляции $R^2 = r^2$"
   ]
  },
  {
   "cell_type": "code",
   "execution_count": 25,
   "id": "001c717a",
   "metadata": {},
   "outputs": [
    {
     "data": {
      "text/plain": [
       "0.9576125937823151"
      ]
     },
     "execution_count": 25,
     "metadata": {},
     "output_type": "execute_result"
    }
   ],
   "source": [
    "R = np.corrcoef(X, Y)[1,0]**2\n",
    "R"
   ]
  },
  {
   "cell_type": "code",
   "execution_count": 26,
   "id": "ee0c0ae4",
   "metadata": {},
   "outputs": [
    {
     "data": {
      "text/plain": [
       "0.9576125937823151"
      ]
     },
     "execution_count": 26,
     "metadata": {},
     "output_type": "execute_result"
    }
   ],
   "source": [
    "regres.score(x,Y)"
   ]
  },
  {
   "cell_type": "markdown",
   "id": "f832b25f",
   "metadata": {},
   "source": [
    "***\n",
    "### Оценка значимости математической модели (критерий Фишера)\n",
    "\n",
    "Для оценки значимости математической модели используется критерий Фишера. Критерий Фишера имеет ассиметричное распределение с правым длинным хвостом. Как и в любом тестировании гипотезы, нам надо сравнить табличное значение коэффициента с расчетным. \n",
    "\n",
    "Для определения статистической значимости рассчитанного значения F-критерия Фишера его сравнивают с критическим или табличным значением. При этом табличное значение определяется на основе числа наблюдений, степеней свободы и заданного уровня значимости следующим образом: \\\n",
    "$F_к(\\alpha,k_1,k_2)$, где \\\n",
    "$k_1 = m$ – это количество факторов в построенной регрессионной модели (кол-во переменных) \\\n",
    "$k_2 = n-m-1$"
   ]
  },
  {
   "cell_type": "code",
   "execution_count": 27,
   "id": "da9d9904",
   "metadata": {},
   "outputs": [],
   "source": [
    "X = np.array([27, 37, 42, 48, 57, 56, 77, 80])\n",
    "Y = np.array([1.2, 1.6, 1.8, 1.8, 2.5, 2.6, 3, 3.3])"
   ]
  },
  {
   "cell_type": "code",
   "execution_count": 28,
   "id": "d5c6d6e0",
   "metadata": {},
   "outputs": [
    {
     "data": {
      "text/plain": [
       "5.987377607273699"
      ]
     },
     "execution_count": 28,
     "metadata": {},
     "output_type": "execute_result"
    }
   ],
   "source": [
    "alpha = 0.05\n",
    "n, m = X.shape[0], 1\n",
    "k1, k2 = m, n-m-1\n",
    "\n",
    "# правосторонняя критическая область\n",
    "Fk = stats.f.ppf(1-alpha, k1, k2)\n",
    "Fk"
   ]
  },
  {
   "cell_type": "markdown",
   "id": "1de0b3e7",
   "metadata": {},
   "source": [
    "В общем виде F-критерий Фишера рассчитывается по следующей формуле:\\\n",
    "$$F = \\cfrac{S_{факт}^2}{S_{ост}^2}$$\n",
    "где $S_{факт}^2$ - факторная дисперсия, $S_{ост}^2$ - остаточная дисперсия\n",
    "\n",
    "$S_{факт}^2 = \\cfrac{\\sum{(\\hat{y_x}-\\bar{y})^2}}{m}$, \n",
    "$S_{ост}^2 = \\cfrac{\\sum{(y-\\hat{y_x})^2}}{n-m-1}$, где\n",
    "$n$ - число наблюдений, $m$ - число параметров при переменной $x$ (кол-во факторов в модели регрессии).\n",
    "\n",
    "При этом необходимо обратить внимание на то, что в зависимости от типа исследуемой модели регрессии применяемая формула определения F-критерия Фишера может изменяться. Например, для расчета F-критерия Фишера для **парной линейной регрессии** может использоваться следующая формула: \\\n",
    "$F = \\cfrac{S_{факт}^2}{S_{ост}^2} = \\cfrac{\\sum{(\\hat{y_x}-\\bar{y})^2}}{\\sum{(y-\\hat{y_x})^2}} \\cdot (n-2)$\n",
    "\n",
    "При использовании **коэффициента детерминации** расчет F-критерия Фишера для **парной линейной регрессии** может быть выполнен по такой формуле:\\\n",
    "$F = \\cfrac{R^2}{1-R^2} \\cdot (n-2)$\n",
    "\n",
    "Для **парной нелинейной модели регрессии** расчет F-критерия Фишера может быть осуществлен через связь с **индексом детерминации** по следующей формуле: \\\n",
    "$F = \\cfrac{\\rho_{xy}^2}{1-\\rho_{xy}^2} \\cdot \\cfrac{n-m-1}{m}$\n",
    "\n",
    "Для уравнения множественной регрессии F-критерий Фишера рассчитывается по следующей формуле:\\\n",
    "$F = \\cfrac{S_{факт}^2}{S_{ост}^2} = \\cfrac{R^2}{1-R^2} \\cdot \\cfrac{n-m-1}{m}$"
   ]
  },
  {
   "cell_type": "code",
   "execution_count": 29,
   "id": "10315c8c",
   "metadata": {},
   "outputs": [
    {
     "data": {
      "text/plain": [
       "135.55147803067672"
      ]
     },
     "execution_count": 29,
     "metadata": {},
     "output_type": "execute_result"
    }
   ],
   "source": [
    "My = np.mean(Y)\n",
    "Fn = np.sum((Y_pred - My)**2) / np.sum((Y - Y_pred)**2) * (n-2)\n",
    "Fn"
   ]
  },
  {
   "cell_type": "code",
   "execution_count": 30,
   "id": "4caa16bf",
   "metadata": {},
   "outputs": [
    {
     "data": {
      "text/plain": [
       "135.55147803067692"
      ]
     },
     "execution_count": 30,
     "metadata": {},
     "output_type": "execute_result"
    }
   ],
   "source": [
    "Fn = R / (1-R) * (n-2)\n",
    "Fn"
   ]
  },
  {
   "cell_type": "markdown",
   "id": "1ddd64fa",
   "metadata": {},
   "source": [
    "**Интерпретация F-критерия Фишера для уравнения регрессии в целом:** \\\n",
    "в том случае, когда фактическая величина F-критерия Фишера **больше** табличного показателя, то уравнение регрессии в целом является статистически значимым.\n",
    "\n",
    "**Интерпретация частного F-критерия Фишера:** \\\n",
    "в том случае, когда рассчитанная величина частного $F_{x_i}$ **превышает** критическое значение, то дополнительное включение фактора $x_i$ в регрессионную модель статистически оправданно и коэффициент регрессии $\\beta_i$ при соответствующем факторе $x_i$ статистически значим. \\\n",
    "Но если рассчитанная величина $F_{x_i}$ **меньше** табличного, то дополнительное включение в модель фактора $x_i$ не оправдано, т.к. данный фактор, как и коэффициент регрессии при нём является статистически незначимым."
   ]
  },
  {
   "cell_type": "markdown",
   "id": "91a36375",
   "metadata": {},
   "source": [
    "***\n",
    "### Оценка значимости отдельных коэффициентов (критерий Стьюдента)\n",
    "\n",
    "Проверка статистической значимости параметров регрессионного уравнения (коэффициентов регрессии) выполняется по t-критерию Стьюдента, который рассчитывается по формуле:\\\n",
    "$t_a = \\cfrac{|\\beta_0|}{S_a}$, где \\\n",
    "$\\beta_0$ - значение интерсепта \\\n",
    "$S_a$ - cтандартная ошибка параметра $\\beta_0$: \\\n",
    "$S_a = \\sqrt{\\cfrac{S_{ост}^2 \\cdot \\sum{x^2}}{n \\sum{(x-\\bar{x})^2}}} = \\cfrac{S_{ост} \\cdot \\sqrt{\\sum{x^2}}}{\\sigma_x \\cdot n}$\n",
    "\n",
    "$S_{ост}^2 = \\cfrac{\\sum{(y-\\hat{y_x})^2}}{n-m-1} = \\sigma_y^2(1-r^2)$"
   ]
  },
  {
   "cell_type": "code",
   "execution_count": 31,
   "id": "a16ee6b7",
   "metadata": {},
   "outputs": [
    {
     "data": {
      "text/plain": [
       "0.9239217125297741"
      ]
     },
     "execution_count": 31,
     "metadata": {},
     "output_type": "execute_result"
    }
   ],
   "source": [
    "So = np.sqrt(np.sum((Y - Y_pred)**2) / (n-m-1))\n",
    "SDx = np.std(X)\n",
    "Sa = So * np.sqrt(np.sum(X**2)) / (SDx * n)\n",
    "ta = b0 / Sa\n",
    "ta"
   ]
  },
  {
   "cell_type": "markdown",
   "id": "42f1bf23",
   "metadata": {},
   "source": [
    "$t_b = \\cfrac{|\\beta_1|}{S_b}$, где \\\n",
    "$\\beta_1$ - значение параметра \\\n",
    "$S_b$ - стандартная ошибка коэффициента регрессии: \\\n",
    "$S_b = \\sqrt{\\cfrac{S_{ост}^2}{\\sum{(x-\\bar{x})^2}}} = \\cfrac{S_{ост}}{\\sigma_x \\cdot \\sqrt{n}}$, где \n",
    "$S_{ост}^2 = \\cfrac{\\sum{(y-\\hat{y_x})^2}}{n-m-1}$"
   ]
  },
  {
   "cell_type": "code",
   "execution_count": 32,
   "id": "25e7c04d",
   "metadata": {},
   "outputs": [
    {
     "data": {
      "text/plain": [
       "11.642657687601947"
      ]
     },
     "execution_count": 32,
     "metadata": {},
     "output_type": "execute_result"
    }
   ],
   "source": [
    "Sb = So / (SDx * np.sqrt(n))\n",
    "tb = b1 / Sb\n",
    "tb"
   ]
  },
  {
   "cell_type": "markdown",
   "id": "0f31628b",
   "metadata": {},
   "source": [
    "Рассчитанное значение критерия Стьюдента сравнивают с его табличным значением при выбранной доверительной вероятности $\\gamma$ и числе степеней свободы $n-m-1$, где $n$ - число точек, $m$-число переменных в регрессионном уравнении."
   ]
  },
  {
   "cell_type": "code",
   "execution_count": 33,
   "id": "5a9e1795",
   "metadata": {},
   "outputs": [
    {
     "data": {
      "text/plain": [
       "2.4469118487916806"
      ]
     },
     "execution_count": 33,
     "metadata": {},
     "output_type": "execute_result"
    }
   ],
   "source": [
    "df = n - m - 1\n",
    "Tk = stats.t.ppf(1-alpha/2, df)\n",
    "Tk"
   ]
  },
  {
   "cell_type": "markdown",
   "id": "fb27f22d",
   "metadata": {},
   "source": [
    "Если вычисленное значение $t_p$ выше, чем табличное, то коэффициент регрессии является значимым с данной доверительной вероятностью. В противном случае есть основания для исключения соответствующей переменной из регрессионной модели."
   ]
  },
  {
   "cell_type": "markdown",
   "id": "4a8696f9",
   "metadata": {},
   "source": [
    "***\n",
    "## Условия применимости линейной регрессии\n",
    "\n",
    "Помимо предварительной оценки на наличие линейной зависимости, есть еще три условия применимости:\n",
    "1) Наличие линейной зависимости между зависимой и независимой переменной\n",
    "\n",
    "2) Независимость остатков\n",
    "\n",
    "3) Для любого значения x значение зависимой переменной y распределено нормально\n",
    "\n",
    "4) Гомоскедастичность"
   ]
  },
  {
   "cell_type": "markdown",
   "id": "20e8040d",
   "metadata": {},
   "source": [
    "***\n",
    "### 1. Наличие линейной зависимости между зависимой и независимой переменной\n",
    "\n",
    "Наличие линейной зависимости можно увидеть с помощью графика.\n",
    "\n",
    "<img src=\"./img/image2.png\" alt=\"image2\" width=\"\"/>\n",
    "\n",
    "На первом графике условие соблюдается, на втором, где видим параболу, нет. Решить эту проблему можем с помощью нелинейной трансформации $x$ и/или $y$. Здесь мы можем применить:\n",
    "* логарифм\n",
    "* квадратный корень\n",
    "* умножение на обратное число\n"
   ]
  },
  {
   "cell_type": "markdown",
   "id": "aa769c75",
   "metadata": {},
   "source": [
    "***\n",
    "### 2. Независимость остатков\n",
    "\n",
    "Проверить можем с помощью графика, на котором с течением времени мы не должны видеть каких-то паттернов в поведении остатков. Например, с течением времени остатки не должны расти. Они должны быть разбросаны случайным образом вокруг горизонтальной линии, как, например, на рисунке ниже.\n",
    "\n",
    "<img src=\"./img/image3.png\" alt=\"image3\" width=\"\"/>\n",
    "\n",
    "А если мы видим расположение остатков, например, напоминающих параболу, то мы приходим к выводу, что для таких данных лучше подойдет нелинейная модель. Эта проблема тоже решаема с помощью трансформации данных."
   ]
  },
  {
   "cell_type": "markdown",
   "id": "424a93fe",
   "metadata": {},
   "source": [
    "***\n",
    "### 3. Для любого значения $x$ значение зависимой переменной $y$ распределено нормально\n",
    "\n",
    "Проверить данное утверждение можно после построение математической модели линейной регрессии.\n",
    "\n",
    "Методы проверки:\n",
    "* Тест Шапиро-Уилка\n",
    "* QQ-plot"
   ]
  },
  {
   "cell_type": "code",
   "execution_count": 34,
   "id": "d195ced4",
   "metadata": {},
   "outputs": [
    {
     "data": {
      "text/plain": [
       "ShapiroResult(statistic=0.9600728154182434, pvalue=0.8107935786247253)"
      ]
     },
     "execution_count": 34,
     "metadata": {},
     "output_type": "execute_result"
    }
   ],
   "source": [
    "stats.shapiro(Y - Y_pred)"
   ]
  },
  {
   "cell_type": "code",
   "execution_count": 35,
   "id": "eea7fbd4",
   "metadata": {},
   "outputs": [
    {
     "data": {
      "image/png": "[encoded data removed]",
      "text/plain": [
       "<Figure size 500x500 with 1 Axes>"
      ]
     },
     "metadata": {},
     "output_type": "display_data"
    }
   ],
   "source": [
    "plt.figure(figsize = (5, 5))\n",
    "\n",
    "stats.probplot(Y - Y_pred, dist=\"norm\", plot=plt)\n",
    "\n",
    "plt.title('QQ-plot / Квантиль-квантиль')  # Заголовок\n",
    "plt.xlabel('Квантили Z-распределения')  # Подпись по оси X\n",
    "plt.ylabel('Квантили фактического распределения')  # Подпись по оси Y\n",
    "plt.grid();"
   ]
  },
  {
   "cell_type": "markdown",
   "id": "55424daa",
   "metadata": {},
   "source": [
    "***\n",
    "### 4. Гомоскедастичность\n",
    "\n",
    "**Под этим свойством понимается постоянство дисперсии при всех значениях $x$.**\n",
    "\n",
    "Например, если расположение остатков напоминает конус, мы говорим, о гетороскедастичности.\n",
    "\n",
    "<img src=\"./img/image4.png\" alt=\"image4\" width=\"\"/>"
   ]
  },
  {
   "cell_type": "markdown",
   "id": "8c4c8b6f",
   "metadata": {},
   "source": [
    "***\n",
    "## Трансформация данных\n",
    "\n",
    "Чтобы обеспечить условия применимости линейной регрессии иногда нам необходимо сделать трансформацию данных. Но нельзя забывать, что получив модель, нам нужно сделать обратную трансформацию.\n",
    "\n",
    "| Трансформация | Уравнение регрессии | Оценочное значение $\\hat{y}$ |\n",
    "| ----- |  ----- |  ----- |\n",
    "| $\\log{y}$ | $\\log{y} = \\alpha x + \\beta$ | $\\hat{y} = 10^{\\alpha x + \\beta}$ |\n",
    "| $\\cfrac{1}{y}$ | $\\cfrac{1}{y} = \\alpha x + \\beta$ | $\\hat{y} = \\cfrac{1}{\\alpha x + \\beta}$ |\n",
    "| $\\sqrt{y}$ | $\\sqrt{y} = \\alpha x + \\beta$ | $\\hat{y} = (\\alpha x + \\beta)^2$ |\n",
    "| $\\log{x}$ | $y = \\alpha \\log{x} + \\beta$ | $\\hat{y} = \\alpha \\log{x} + \\beta$ |\n",
    "| $\\log{\\log{x}}$ и $\\log{y}$ | $\\log{y} = \\alpha \\log{x} + \\beta$ | $\\hat{y} = 10^{\\alpha \\log{x} + \\beta}$ |"
   ]
  },
  {
   "cell_type": "markdown",
   "id": "2ac8f8a7",
   "metadata": {},
   "source": [
    "***\n",
    "# Логистическая регрессия\n",
    "\n",
    "Логистическая регрессия применяется, когда $y$ является бинарной переменной (0 или 1). Т.е. с помощью этого метода мы можем решить задачу бинарной классификации."
   ]
  },
  {
   "cell_type": "code",
   "execution_count": null,
   "id": "1d1f3adc",
   "metadata": {},
   "outputs": [],
   "source": []
  }
 ],
 "metadata": {
  "kernelspec": {
   "display_name": "Python 3 (ipykernel)",
   "language": "python",
   "name": "python3"
  },
  "language_info": {
   "codemirror_mode": {
    "name": "ipython",
    "version": 3
   },
   "file_extension": ".py",
   "mimetype": "text/x-python",
   "name": "python",
   "nbconvert_exporter": "python",
   "pygments_lexer": "ipython3",
   "version": "3.9.13"
  }
 },
 "nbformat": 4,
 "nbformat_minor": 5
}
