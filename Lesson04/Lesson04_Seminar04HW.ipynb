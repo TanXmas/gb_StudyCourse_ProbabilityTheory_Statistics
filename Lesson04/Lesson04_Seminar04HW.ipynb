{
 "cells": [
  {
   "cell_type": "markdown",
   "id": "73b3e5a0",
   "metadata": {},
   "source": [
    "# Урок 4. Непрерывная случайная величина"
   ]
  },
  {
   "cell_type": "markdown",
   "id": "b640e377",
   "metadata": {},
   "source": [
    "***\n",
    "## Задача 1.\n",
    "\n",
    "### Случайная непрерывная величина $A$ имеет равномерное распределение на промежутке $(200, 800]$. Найдите ее среднее значение и дисперсию.\n",
    "\n",
    "$\\displaystyle M(A) = \\frac{a+b}{2} = \\frac{200+800}{2} = 500$\n",
    "\n",
    "$\\displaystyle D(A) = \\frac{(b-a)^2}{12} = \\frac{(800-200)^2}{12} = 30000$"
   ]
  },
  {
   "cell_type": "markdown",
   "id": "0391243c",
   "metadata": {},
   "source": [
    "***\n",
    "## Задача 2.\n",
    "\n",
    "### О случайной непрерывной равномерно распределенной величине B известно, что ее дисперсия равна 0.2. Можно ли найти правую границу величины B и ее среднее значение зная, что левая граница равна 0.5? Если да, найдите ее.\n",
    "\n",
    "$D(B) = 0.2\n",
    "a = 0.5$\n",
    "\n",
    "$\\displaystyle D(B) = \\frac{(b-0.5)^2}{12} = \\frac{(0.5-a)^2}{12} = 0.2 \\\\\n",
    "\\displaystyle (b-0.5)^2 = \\frac{12}{5} = 2.4\\\\\n",
    "\\displaystyle b-0.5 = \\sqrt{2.4} \\\\\n",
    "\\displaystyle b = \\sqrt{2.4} + 0.5 = 2.049$\n",
    "\n",
    "$\\displaystyle M(B) = \\frac{a+b}{2} = \\frac{0.5+2.049}{2} = 1.275$\n"
   ]
  },
  {
   "cell_type": "code",
   "execution_count": 1,
   "id": "d8044976",
   "metadata": {},
   "outputs": [
    {
     "name": "stdout",
     "output_type": "stream",
     "text": [
      "Левая граница распределения величины В: b=2.049\n",
      "Среднее значение величины В на промежутке (0.5; 2.049] M(B) = 1.275\n"
     ]
    }
   ],
   "source": [
    "b = 2.4**(1/2) + 0.5\n",
    "print(f'Левая граница распределения величины В: {b=:.3f}')\n",
    "m = (0.5+b)/2\n",
    "print(f'Среднее значение величины В на промежутке (0.5; {b:.3f}] M(B) = {(b+0.5)/2:.3f}')"
   ]
  },
  {
   "cell_type": "markdown",
   "id": "e9593c33",
   "metadata": {},
   "source": [
    "***\n",
    "## Задача 3. \n",
    "\n",
    "### Непрерывная случайная величина $X$ распределена нормально и задана плотностью распределения $\\displaystyle f(x) = \\frac{1}{4\\sqrt{2\\pi}} e^{-\\frac{(x+2)^2}{32}}$ Найдите: <br> а) M(X) <br> б) D(X) <br> в) std(X) (среднее квадратичное отклонение)\n",
    "\n",
    "$\\displaystyle f(x) = \\frac{1}{\\sigma\\sqrt{2\\pi}} e^{-\\frac{(x-a)^2}{2\\sigma^2}}$,где $a = M(X)$, $\\sigma^2 = D(X) \\Rightarrow$ \n",
    "\n",
    "а) $M(X) = -2$\n",
    "\n",
    "б) $D(X)=\\sigma^2=4^2=16$\n",
    "\n",
    "в) $std(X)=\\sigma = 4$\n"
   ]
  },
  {
   "cell_type": "markdown",
   "id": "0f6e8f22",
   "metadata": {},
   "source": [
    "***\n",
    "## Задача 4.\n",
    "\n",
    "### Рост взрослого населения города X имеет нормальное распределение. Причем, средний рост равен 174 см, а среднее квадратичное отклонение равно 8 см.\n",
    "\n",
    "$\\sigma = 8 \\\\\n",
    "M(X) = 174$\n",
    "\n",
    "$\\displaystyle z_i = \\frac{x_i - \\bar{x}}{\\sigma_x}$, \\\n",
    "$z_i$ - преобразованное значение исходного распределения к Z-стандарту \\\n",
    "$x_i$ - исходное наблюдение \\\n",
    "$\\bar{x}$ - выборочное среднее\n",
    "\n",
    "### Какова вероятность того, что случайным образом выбранный взрослый человек имеет рост: <br> а) больше 182 см\n",
    "$\\displaystyle z_i = \\frac{x_i - \\bar{x}}{\\sigma_x} = \\frac{182 - 174}{8} = 1 \\\\\n",
    "P(X > 1) = 0.1587$\n",
    "\n",
    "### б) больше 190 см\n",
    "$\\displaystyle z_i = \\frac{x_i - \\bar{x}}{\\sigma_x} = \\frac{190 - 174}{8} = 2 \\\\\n",
    "P(X > 2) = 0.0228$\n",
    "\n",
    "### в) от 166 см до 190 см\n",
    "$\\displaystyle z_1 = \\frac{x_1 - \\bar{x}}{\\sigma_x} = \\frac{166 - 174}{8} = -1 \\\\\n",
    "\\displaystyle z_2 = \\frac{x_2 - \\bar{x}}{\\sigma_x} = \\frac{190 - 174}{8} = 2 \\\\\n",
    "P(-1 < X < 2) = 1 - 0.1587 - 0.0228 = 0.8185$\n",
    "\n",
    "### г) от 166 см до 182 см \n",
    "$\\displaystyle z_1 = \\frac{x_1 - \\bar{x}}{\\sigma_x} = \\frac{166 - 174}{8} = -1 \\\\\n",
    "\\displaystyle z_2 = \\frac{x_2 - \\bar{x}}{\\sigma_x} = \\frac{182 - 174}{8} = 1 \\\\\n",
    "P(-1 < X < 1) = 1 - 0.1587\\cdot2 = 0.6826$\n",
    "\n",
    "### д) от 158 см до 190 см\n",
    "$\\displaystyle z_1 = \\frac{x_1 - \\bar{x}}{\\sigma_x} = \\frac{158 - 174}{8} = -2 \\\\\n",
    "\\displaystyle z_2 = \\frac{x_2 - \\bar{x}}{\\sigma_x} = \\frac{190 - 174}{8} = 2 \\\\\n",
    "P(-2 < X < 2) = 1 - 0.0228\\cdot2 = 0.9544$\n",
    "\n",
    "### е) не выше 150 см или не ниже 190 см\n",
    "$\\displaystyle z_1 = \\frac{x_1 - \\bar{x}}{\\sigma_x} = \\frac{150 - 174}{8} = -3 \\\\\n",
    "\\displaystyle z_2 = \\frac{x_2 - \\bar{x}}{\\sigma_x} = \\frac{190 - 174}{8} = 2 \\\\\n",
    "P(X<-3 \\cup X>2) = 0.0014 + 0.0228 = 0.0242$\n",
    "\n",
    "### ё) не выше 150 см или не ниже 198 см \n",
    "$\\displaystyle z_1 = \\frac{x_1 - \\bar{x}}{\\sigma_x} = \\frac{150 - 174}{8} = -3 \\\\\n",
    "\\displaystyle z_2 = \\frac{x_2 - \\bar{x}}{\\sigma_x} = \\frac{198 - 174}{8} = 3 \\\\\n",
    "P(X<-3 \\cup X>3) = 0.0014 \\cdot 2 = 0.0028$\n",
    "\n",
    "### ж) ниже 166 см\n",
    "$\\displaystyle z_i = \\frac{x_i - \\bar{x}}{\\sigma_x} = \\frac{166 - 174}{8} = -1 \\\\\n",
    "P(X < -1) = 0.1587$\n"
   ]
  },
  {
   "cell_type": "markdown",
   "id": "cafda046",
   "metadata": {},
   "source": [
    "***\n",
    "## Задача 5.\n",
    "\n",
    "### На сколько сигм (средних квадратичных отклонений) отклоняется рост человека, равный 190 см, от математического ожидания роста в популяции, в которой M(X) = 178 см и D(X) = 25 кв.см?\n",
    "\n",
    "$\\displaystyle z_i = \\frac{x_i - \\bar{x}}{\\sigma_x} = \\frac{190 - 178}{\\sqrt{25}} = \\frac{12}{5} = 2,4$\n",
    "\n",
    "Рост человека, равный 190 см, отклоняется от математического ожидания роста в популяции, в которой $M(X) = 178$ см и $D(X) = 25$ кв.см на $3\\sigma$."
   ]
  },
  {
   "cell_type": "code",
   "execution_count": null,
   "id": "65ab7f8c",
   "metadata": {},
   "outputs": [],
   "source": []
  }
 ],
 "metadata": {
  "kernelspec": {
   "display_name": "Python 3 (ipykernel)",
   "language": "python",
   "name": "python3"
  },
  "language_info": {
   "codemirror_mode": {
    "name": "ipython",
    "version": 3
   },
   "file_extension": ".py",
   "mimetype": "text/x-python",
   "name": "python",
   "nbconvert_exporter": "python",
   "pygments_lexer": "ipython3",
   "version": "3.9.13"
  }
 },
 "nbformat": 4,
 "nbformat_minor": 5
}
