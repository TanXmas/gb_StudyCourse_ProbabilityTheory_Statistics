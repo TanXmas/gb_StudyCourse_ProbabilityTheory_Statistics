{
 "cells": [
  {
   "cell_type": "markdown",
   "id": "7df62155",
   "metadata": {},
   "source": [
    "# Урок 4. Непрерывная случайная величина"
   ]
  },
  {
   "cell_type": "markdown",
   "id": "8db91372",
   "metadata": {},
   "source": [
    "**Непрерывная случайная величина** \\\n",
    "– это величина, которая может принимать  все возможные значения, содержащиеся на промежутке, причем этот промежуток может быть, как конечным, так и бесконечным.\n",
    "\n",
    "***\n",
    "## Функция распределения\n",
    "\n",
    "**Функция распределения вероятностей**\n",
    "– это такая функция $F(x)$,  которая для каждого значения $x$ показывает, какова вероятность того, что случайная величина меньше $x$."
   ]
  },
  {
   "cell_type": "markdown",
   "id": "073472e7",
   "metadata": {},
   "source": [
    "***\n",
    "## Функция плотности распределения\n",
    "\n",
    "**Плотность распределения вероятностей**\n",
    "– это функция $f(x)$, которая равна производной функции распределения вероятностей.\n",
    "\n",
    "![image.png](attachment:image.png)\n",
    "\n",
    "Предположим перед нами стояла задача измерить рост людей из некоторого сообщества. Мы копили данные, размещали их на гистограмме, и они, в конце концов, образовали колокол. С помощью колоколообразной кривой мы можем описать распределение наших данных. Эта кривая задается функцией плотности распределения $f(x)$.\n",
    "\n",
    "Вся площадь под кривой равна $1$, т.е. под этой кривой лежат $100\\%$ значений случайной величины рост. Если мы возьмем интеграл от $f(x)$  на участке $(a,b)$,  мы найдем площадь под кривой, которая будет показывать, какая доля значений случайной величины лежит в этом промежутке или, иными словами, какая вероятность, что СВ «рост» попала в отрезок $(a,b)$."
   ]
  },
  {
   "cell_type": "markdown",
   "id": "4ba9fd1d",
   "metadata": {},
   "source": [
    "***\n",
    "## Распределения непрерывной случайной величины\n",
    "\n",
    "***\n",
    "### Нормальный закон распределения вероятностей\n",
    "\n",
    "**Нормальное распределение (распределение Гаусса)** \\\n",
    "– это распределение вероятностей непрерывной случайной величины $X$, которое описывается плотностью \\\n",
    "$f(x) = \\cfrac{1}{\\sigma\\sqrt{2\\pi}} \\cdot e^{-\\frac{(x-a)^2}{2\\sigma^2}}$, где $a = M(X) \\;\\;\\; \\sigma^2 = D(X)$\n",
    "\n",
    "#### Правило трех сигм\n",
    "\n",
    "Считается, что нормальное распределение подчиняется правилу трех сигм, которое в свою очередь гласит следующее: на отрезке \n",
    "* от $-\\sigma$ до $\\sigma$ расположено около $68\\%$ наблюдений,\n",
    "* от $-2\\sigma$ до $2\\sigma$ - $95.4\\%$,\n",
    "* от $-3\\sigma$ до $3\\sigma$ - $99.72\\%$. \n",
    "\n",
    "![image-2.png](attachment:image-2.png)\n",
    "\n",
    "#### Нормированное (стандартное) нормальное распределение\n",
    "\n",
    "**Нормированное (стандартное) нормальное распределение** \\\n",
    "– это нормальное распределение со средним арифметическим $M(X)=0$, стандартным отклонением $\\sigma=1$.\n",
    "\n",
    "![image-4.png](attachment:image-4.png)\n",
    "\n",
    "**Нормирование (Z-стандартизация)** \\\n",
    "– преобразование нормального распределения, позволяющее сместить математическое ожидание $M(X)$ в 0, а стандартное отклонение $\\sigma$ сделать равной 1.\n",
    "\n",
    "Чтобы преобразовать распределение к Z-стандарту, необходимо: \\\n",
    "$z_i = \\cfrac{x_i - \\bar{x}}{\\sigma_x}$, где \\\n",
    "$z_i$ – преобразованное значение исходного распределения к Z-стандарту, \\\n",
    "$x_i$ – исходное наблюдение, \\\n",
    "$\\bar{x}$ – выборочное среднее.\n",
    "\n",
    ">Т.е. $z_i$ показывает, в скольких сигмах лежит значение СВ $x_i$ от среднего арифметического.\n",
    "\n",
    "#### Центральная предельная теорема \n",
    "\n",
    "Пусть генеральная совокупность имеет любое распределние со средним арифметическим $\\mu$ и дисперсией $\\sigma^2$, тогда среднее выборочное $\\bar{x}$ стремится к нормальному распределению со средним арифметическим $\\mu$ и дисперсией $\\cfrac{\\sigma^2}{n}$, где $n$ – объем выборки ($n>30$).\n",
    "\n",
    "$\\bar{x} \\to N \\left(\\mu,\\cfrac{\\sigma^2}{n}\\right)$\n",
    "\n",
    "<u>**Стандартная ошибка среднего**</u> $(se)$ \\\n",
    "– насколько велик разброс математических ожиданий случайных выборок от реального мат. ожидания генеральной совокупности.\n",
    "\n",
    "$se = \\sqrt{\\cfrac{\\sigma^2}{n}} = \\cfrac{\\sigma}{\\sqrt{n}}$, где \\\n",
    "$\\sigma$ – стандартное отклонение генеральной совокупности, \\\n",
    "$n$ – количество элементов в одной выборке, из общего числа выборок взятых наугад.\n",
    "<br><br>\n",
    "\n",
    "$se = \\sqrt{\\cfrac{S^2}{n}} = \\cfrac{S}{\\sqrt{n}}$, где \\\n",
    "$S$ – стандартное отклонение наугад взятой выборки, \\\n",
    "$n$ - количество элементов выборки."
   ]
  },
  {
   "attachments": {
    "image-5.png": {
     "image/png": "[encoded data removed]"
    }
   },
   "cell_type": "markdown",
   "id": "93044a25",
   "metadata": {},
   "source": [
    "***\n",
    "### Закон равномерного распределения вероятностей\n",
    "\n",
    "Непрерывная случайная величина **равномерно распределена** на отрезке $[a;b]$, если плотность распределения вероятностей ее равна нулю за пределами отрезка и равна постоянной величине внутри него.\n",
    "\n",
    "При этом функция плотности будет строго определённой:\n",
    "$f(x) =\n",
    "\\begin{cases}\n",
    "0 & \\quad \\text{if } x \\leq a \\\\\n",
    "\\displaystyle{\\frac{1}{b-a}} & \\quad \\text{if }  a < x \\leq b \\\\\n",
    "0 & \\quad \\text{if } x > b\n",
    "\\end{cases}$\n",
    "\n",
    "![image-5.png](attachment:image-5.png)\n",
    "\n",
    "Вероятность попадания равномерно распределенной СВ в интервал между $[a;b]$ равна = 1 (площади под графиком функции).\n",
    "\n",
    "$M(X) = \\cfrac{a+b}{2}$\n",
    "\n",
    "$D(X) = \\cfrac{(b-a)^2}{12}$"
   ]
  },
  {
   "cell_type": "code",
   "execution_count": null,
   "id": "f6d6f4f9",
   "metadata": {},
   "outputs": [],
   "source": []
  }
 ],
 "metadata": {
  "kernelspec": {
   "display_name": "Python 3 (ipykernel)",
   "language": "python",
   "name": "python3"
  },
  "language_info": {
   "codemirror_mode": {
    "name": "ipython",
    "version": 3
   },
   "file_extension": ".py",
   "mimetype": "text/x-python",
   "name": "python",
   "nbconvert_exporter": "python",
   "pygments_lexer": "ipython3",
   "version": "3.9.13"
  }
 },
 "nbformat": 4,
 "nbformat_minor": 5
}
